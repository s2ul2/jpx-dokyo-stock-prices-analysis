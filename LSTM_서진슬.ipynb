{
  "nbformat": 4,
  "nbformat_minor": 0,
  "metadata": {
    "colab": {
      "name": "LSTM_서진슬.ipynb",
      "provenance": [],
      "collapsed_sections": [],
      "include_colab_link": true
    },
    "kernelspec": {
      "name": "python3",
      "display_name": "Python 3"
    },
    "language_info": {
      "name": "python"
    },
    "accelerator": "GPU"
  },
  "cells": [
    {
      "cell_type": "markdown",
      "metadata": {
        "id": "view-in-github",
        "colab_type": "text"
      },
      "source": [
        "<a href=\"https://colab.research.google.com/github/s2ul2/jpx-dokyo-stock-prices-analysis/blob/main/LSTM_%EC%84%9C%EC%A7%84%EC%8A%AC.ipynb\" target=\"_parent\"><img src=\"https://colab.research.google.com/assets/colab-badge.svg\" alt=\"Open In Colab\"/></a>"
      ]
    },
    {
      "cell_type": "code",
      "execution_count": null,
      "metadata": {
        "id": "mTcUXpNv9iDm"
      },
      "outputs": [],
      "source": [
        "from google.colab import drive\n",
        "drive.mount('/content/drive')"
      ]
    },
    {
      "cell_type": "code",
      "source": [
        "df2 = pd.read_csv('/content/drive/MyDrive/AI딥러닝_프로젝트/데이터/train_files.csv')\n",
        "df2"
      ],
      "metadata": {
        "id": "3FXuQn6OBpqu"
      },
      "execution_count": null,
      "outputs": []
    },
    {
      "cell_type": "code",
      "source": [
        "import pandas as pd\n",
        "df = pd.read_csv('/content/drive/MyDrive/AI딥러닝_프로젝트/데이터/mooyaho3.csv')\n",
        "df.isnull().sum()"
      ],
      "metadata": {
        "colab": {
          "base_uri": "https://localhost:8080/"
        },
        "id": "jLqeWFAHA8oT",
        "outputId": "773d921a-2d47-42d0-e4d0-a5dc8fc0a4e4"
      },
      "execution_count": null,
      "outputs": [
        {
          "output_type": "execute_result",
          "data": {
            "text/plain": [
              "Unnamed: 0         0\n",
              "Unnamed: 0.1       0\n",
              "Date               0\n",
              "SecuritiesCode     0\n",
              "Open               0\n",
              "High               0\n",
              "Low                0\n",
              "Volume             0\n",
              "Target             0\n",
              "AdjustedClose      0\n",
              "RSI               20\n",
              "MA                19\n",
              "EMA               19\n",
              "MOM               20\n",
              "ATR               20\n",
              "dtype: int64"
            ]
          },
          "metadata": {},
          "execution_count": 6
        }
      ]
    },
    {
      "cell_type": "code",
      "source": [
        "%cd /content/drive/MyDrive/AI딥러닝_프로젝트/데이터/jpx-tokyo-stock-exchange-prediction"
      ],
      "metadata": {
        "colab": {
          "base_uri": "https://localhost:8080/"
        },
        "id": "wTBUcWoP9qIt",
        "outputId": "692086cd-0033-4c02-990a-dd5f1d892d99"
      },
      "execution_count": null,
      "outputs": [
        {
          "output_type": "stream",
          "name": "stdout",
          "text": [
            "/content/drive/MyDrive/AI딥러닝_프로젝트/데이터/jpx-tokyo-stock-exchange-prediction\n"
          ]
        }
      ]
    },
    {
      "cell_type": "code",
      "source": [
        "import pandas as pd"
      ],
      "metadata": {
        "id": "48P1w2ZhiWVF"
      },
      "execution_count": null,
      "outputs": []
    },
    {
      "cell_type": "code",
      "source": [
        "%ls"
      ],
      "metadata": {
        "colab": {
          "base_uri": "https://localhost:8080/"
        },
        "id": "i_qr3X46jbNG",
        "outputId": "ecfe2708-89f8-4748-82fd-cc02dc5221d6"
      },
      "execution_count": null,
      "outputs": [
        {
          "output_type": "stream",
          "name": "stdout",
          "text": [
            "\u001b[0m\u001b[01;34mdata_specifications\u001b[0m/          stock_list.csv       \u001b[01;34mtrain_files\u001b[0m/\n",
            "\u001b[01;34mexample_test_files\u001b[0m/           submission.csv\n",
            "\u001b[01;34mjpx_tokyo_market_prediction\u001b[0m/  \u001b[01;34msupplemental_files\u001b[0m/\n"
          ]
        }
      ]
    },
    {
      "cell_type": "code",
      "source": [
        "import pandas as pd\n",
        "import numpy as np\n",
        "import warnings\n",
        "import os\n",
        "from functools import reduce\n",
        "warnings.filterwarnings(action='ignore')\n",
        "\n",
        "import seaborn as sns\n",
        "import matplotlib.pyplot as plt\n",
        "plt.rc('font', family='NanumBarunGothic')\n",
        "sns.set_palette(\"pastel\")\n",
        "%matplotlib inline"
      ],
      "metadata": {
        "id": "KVlMQA6i9qMk"
      },
      "execution_count": null,
      "outputs": []
    },
    {
      "cell_type": "code",
      "source": [
        "import numpy as np\n",
        "import pandas as pd\n",
        "\n",
        "from lightgbm import LGBMRegressor\n",
        "from sklearn.model_selection import StratifiedKFold\n",
        "from sklearn.metrics import mean_squared_error\n",
        "from sklearn.preprocessing import OrdinalEncoder\n",
        "\n",
        "import tensorflow as tf\n",
        "import tensorflow.keras.layers as L\n",
        "import tensorflow.keras.models as M\n",
        "import tensorflow.keras.backend as K\n",
        "from tensorflow.keras.callbacks import ReduceLROnPlateau, ModelCheckpoint, EarlyStopping\n",
        "\n",
        "import warnings\n",
        "warnings.filterwarnings(\"ignore\")"
      ],
      "metadata": {
        "id": "43JzN8azcXyT"
      },
      "execution_count": null,
      "outputs": []
    },
    {
      "cell_type": "code",
      "source": [
        "price_ta = pd.read_csv('ta_stock_prices.csv')\n",
        "price_ta = price_ta.drop('Unnamed: 0', axis = 1)"
      ],
      "metadata": {
        "id": "UaHuFtWyIWyX"
      },
      "execution_count": null,
      "outputs": []
    },
    {
      "cell_type": "code",
      "source": [
        "prices = pd.read_csv(\"/content/drive/MyDrive/AI딥러닝_프로젝트/데이터/jpx-tokyo-stock-exchange-prediction/train_files/stock_prices.csv\")\n",
        "prices = prices.drop(\"ExpectedDividend\", axis=1)\n",
        "prices = prices.dropna()\n",
        "prices.isnull().sum()"
      ],
      "metadata": {
        "colab": {
          "base_uri": "https://localhost:8080/"
        },
        "id": "8eiHGAB7do3M",
        "outputId": "655a6d70-c9dc-48cf-8489-ce953d11cfde"
      },
      "execution_count": null,
      "outputs": [
        {
          "output_type": "execute_result",
          "data": {
            "text/plain": [
              "RowId               0\n",
              "Date                0\n",
              "SecuritiesCode      0\n",
              "Open                0\n",
              "High                0\n",
              "Low                 0\n",
              "Close               0\n",
              "Volume              0\n",
              "AdjustmentFactor    0\n",
              "SupervisionFlag     0\n",
              "Target              0\n",
              "dtype: int64"
            ]
          },
          "metadata": {},
          "execution_count": 23
        }
      ]
    },
    {
      "cell_type": "markdown",
      "source": [
        "# CV-split"
      ],
      "metadata": {
        "id": "ux83ciU5u3Z3"
      }
    },
    {
      "cell_type": "code",
      "source": [
        "# cross validation split\n",
        "def setup_cv(df, splits=5):\n",
        "    df['fold'] = -1\n",
        "    df = df.sample(frac=1, random_state=42).reset_index(drop=True)\n",
        "    num_bins = int(np.floor(1 + np.log2(len(df))))\n",
        "    df.loc[:, \"bins\"] = pd.cut(\n",
        "        df[\"Target\"], bins=num_bins, labels=False\n",
        "    )\n",
        "\n",
        "    kf = StratifiedKFold(n_splits=splits)\n",
        "    for f, (t_, v_) in enumerate(kf.split(X=df, y=df.bins.values)):\n",
        "            df.loc[v_, 'fold'] = f\n",
        "\n",
        "    df = df.drop(\"bins\", axis=1)\n",
        "    return df"
      ],
      "metadata": {
        "id": "zDtvA48Sci5K"
      },
      "execution_count": null,
      "outputs": []
    },
    {
      "cell_type": "code",
      "source": [
        "prices = setup_cv(prices)"
      ],
      "metadata": {
        "id": "8mPOwhTtjF-4"
      },
      "execution_count": null,
      "outputs": []
    },
    {
      "cell_type": "code",
      "source": [
        "enc = OrdinalEncoder()\n",
        "prices[\"SecuritiesCode\"] = enc.fit_transform(prices[[\"SecuritiesCode\"]])"
      ],
      "metadata": {
        "id": "wH0IFg9Vci-A"
      },
      "execution_count": null,
      "outputs": []
    },
    {
      "cell_type": "code",
      "source": [
        "prices"
      ],
      "metadata": {
        "colab": {
          "base_uri": "https://localhost:8080/",
          "height": 661
        },
        "id": "-0KtfBfOcjCU",
        "outputId": "cb101beb-1f70-4b36-ad43-1b3842405b50"
      },
      "execution_count": null,
      "outputs": [
        {
          "output_type": "execute_result",
          "data": {
            "text/plain": [
              "                 RowId        Date  SecuritiesCode    Open    High     Low  \\\n",
              "0        20190624_5410  2019-06-24           876.0  1980.0  1980.0  1951.0   \n",
              "1        20180808_2317  2018-08-08           166.0  1341.0  1378.0  1331.0   \n",
              "2        20210820_8771  2021-08-20          1726.0  2180.0  2195.0  2148.0   \n",
              "3        20210512_8056  2021-05-12          1548.0  3425.0  3445.0  3275.0   \n",
              "4        20200330_8129  2020-03-30          1579.0  2337.0  2438.0  2301.0   \n",
              "...                ...         ...             ...     ...     ...     ...   \n",
              "2324918  20180801_1799  2018-08-01            34.0  1779.0  1792.0  1760.0   \n",
              "2324919  20170330_3951  2017-03-30           514.0  2659.0  2700.0  2659.0   \n",
              "2324920  20200818_6965  2020-08-18          1258.0  4940.0  4990.0  4920.0   \n",
              "2324921  20210924_9450  2021-09-24          1863.0  1530.0  1550.0  1517.0   \n",
              "2324922  20210915_9467  2021-09-15          1864.0  3535.0  3540.0  3485.0   \n",
              "\n",
              "          Close  Volume  AdjustmentFactor  SupervisionFlag    Target  fold  \n",
              "0        1956.0   71000               1.0            False -0.012314     0  \n",
              "1        1363.0  542500               1.0            False -0.008876     0  \n",
              "2        2184.0   48600               1.0            False  0.026118     0  \n",
              "3        3295.0  469000               1.0            False  0.025357     0  \n",
              "4        2438.0  280300               1.0            False -0.025143     0  \n",
              "...         ...     ...               ...              ...       ...   ...  \n",
              "2324918  1792.0    5500               1.0            False  0.020822     4  \n",
              "2324919  2700.0    8500               1.0            False -0.020045     4  \n",
              "2324920  4975.0  257700               1.0            False -0.020305     4  \n",
              "2324921  1549.0  156600               1.0            False -0.024224     4  \n",
              "2324922  3505.0   29900               1.0            False  0.001435     4  \n",
              "\n",
              "[2324923 rows x 12 columns]"
            ],
            "text/html": [
              "\n",
              "  <div id=\"df-701eaf9f-7e30-45e0-a1b2-579b03defc93\">\n",
              "    <div class=\"colab-df-container\">\n",
              "      <div>\n",
              "<style scoped>\n",
              "    .dataframe tbody tr th:only-of-type {\n",
              "        vertical-align: middle;\n",
              "    }\n",
              "\n",
              "    .dataframe tbody tr th {\n",
              "        vertical-align: top;\n",
              "    }\n",
              "\n",
              "    .dataframe thead th {\n",
              "        text-align: right;\n",
              "    }\n",
              "</style>\n",
              "<table border=\"1\" class=\"dataframe\">\n",
              "  <thead>\n",
              "    <tr style=\"text-align: right;\">\n",
              "      <th></th>\n",
              "      <th>RowId</th>\n",
              "      <th>Date</th>\n",
              "      <th>SecuritiesCode</th>\n",
              "      <th>Open</th>\n",
              "      <th>High</th>\n",
              "      <th>Low</th>\n",
              "      <th>Close</th>\n",
              "      <th>Volume</th>\n",
              "      <th>AdjustmentFactor</th>\n",
              "      <th>SupervisionFlag</th>\n",
              "      <th>Target</th>\n",
              "      <th>fold</th>\n",
              "    </tr>\n",
              "  </thead>\n",
              "  <tbody>\n",
              "    <tr>\n",
              "      <th>0</th>\n",
              "      <td>20190624_5410</td>\n",
              "      <td>2019-06-24</td>\n",
              "      <td>876.0</td>\n",
              "      <td>1980.0</td>\n",
              "      <td>1980.0</td>\n",
              "      <td>1951.0</td>\n",
              "      <td>1956.0</td>\n",
              "      <td>71000</td>\n",
              "      <td>1.0</td>\n",
              "      <td>False</td>\n",
              "      <td>-0.012314</td>\n",
              "      <td>0</td>\n",
              "    </tr>\n",
              "    <tr>\n",
              "      <th>1</th>\n",
              "      <td>20180808_2317</td>\n",
              "      <td>2018-08-08</td>\n",
              "      <td>166.0</td>\n",
              "      <td>1341.0</td>\n",
              "      <td>1378.0</td>\n",
              "      <td>1331.0</td>\n",
              "      <td>1363.0</td>\n",
              "      <td>542500</td>\n",
              "      <td>1.0</td>\n",
              "      <td>False</td>\n",
              "      <td>-0.008876</td>\n",
              "      <td>0</td>\n",
              "    </tr>\n",
              "    <tr>\n",
              "      <th>2</th>\n",
              "      <td>20210820_8771</td>\n",
              "      <td>2021-08-20</td>\n",
              "      <td>1726.0</td>\n",
              "      <td>2180.0</td>\n",
              "      <td>2195.0</td>\n",
              "      <td>2148.0</td>\n",
              "      <td>2184.0</td>\n",
              "      <td>48600</td>\n",
              "      <td>1.0</td>\n",
              "      <td>False</td>\n",
              "      <td>0.026118</td>\n",
              "      <td>0</td>\n",
              "    </tr>\n",
              "    <tr>\n",
              "      <th>3</th>\n",
              "      <td>20210512_8056</td>\n",
              "      <td>2021-05-12</td>\n",
              "      <td>1548.0</td>\n",
              "      <td>3425.0</td>\n",
              "      <td>3445.0</td>\n",
              "      <td>3275.0</td>\n",
              "      <td>3295.0</td>\n",
              "      <td>469000</td>\n",
              "      <td>1.0</td>\n",
              "      <td>False</td>\n",
              "      <td>0.025357</td>\n",
              "      <td>0</td>\n",
              "    </tr>\n",
              "    <tr>\n",
              "      <th>4</th>\n",
              "      <td>20200330_8129</td>\n",
              "      <td>2020-03-30</td>\n",
              "      <td>1579.0</td>\n",
              "      <td>2337.0</td>\n",
              "      <td>2438.0</td>\n",
              "      <td>2301.0</td>\n",
              "      <td>2438.0</td>\n",
              "      <td>280300</td>\n",
              "      <td>1.0</td>\n",
              "      <td>False</td>\n",
              "      <td>-0.025143</td>\n",
              "      <td>0</td>\n",
              "    </tr>\n",
              "    <tr>\n",
              "      <th>...</th>\n",
              "      <td>...</td>\n",
              "      <td>...</td>\n",
              "      <td>...</td>\n",
              "      <td>...</td>\n",
              "      <td>...</td>\n",
              "      <td>...</td>\n",
              "      <td>...</td>\n",
              "      <td>...</td>\n",
              "      <td>...</td>\n",
              "      <td>...</td>\n",
              "      <td>...</td>\n",
              "      <td>...</td>\n",
              "    </tr>\n",
              "    <tr>\n",
              "      <th>2324918</th>\n",
              "      <td>20180801_1799</td>\n",
              "      <td>2018-08-01</td>\n",
              "      <td>34.0</td>\n",
              "      <td>1779.0</td>\n",
              "      <td>1792.0</td>\n",
              "      <td>1760.0</td>\n",
              "      <td>1792.0</td>\n",
              "      <td>5500</td>\n",
              "      <td>1.0</td>\n",
              "      <td>False</td>\n",
              "      <td>0.020822</td>\n",
              "      <td>4</td>\n",
              "    </tr>\n",
              "    <tr>\n",
              "      <th>2324919</th>\n",
              "      <td>20170330_3951</td>\n",
              "      <td>2017-03-30</td>\n",
              "      <td>514.0</td>\n",
              "      <td>2659.0</td>\n",
              "      <td>2700.0</td>\n",
              "      <td>2659.0</td>\n",
              "      <td>2700.0</td>\n",
              "      <td>8500</td>\n",
              "      <td>1.0</td>\n",
              "      <td>False</td>\n",
              "      <td>-0.020045</td>\n",
              "      <td>4</td>\n",
              "    </tr>\n",
              "    <tr>\n",
              "      <th>2324920</th>\n",
              "      <td>20200818_6965</td>\n",
              "      <td>2020-08-18</td>\n",
              "      <td>1258.0</td>\n",
              "      <td>4940.0</td>\n",
              "      <td>4990.0</td>\n",
              "      <td>4920.0</td>\n",
              "      <td>4975.0</td>\n",
              "      <td>257700</td>\n",
              "      <td>1.0</td>\n",
              "      <td>False</td>\n",
              "      <td>-0.020305</td>\n",
              "      <td>4</td>\n",
              "    </tr>\n",
              "    <tr>\n",
              "      <th>2324921</th>\n",
              "      <td>20210924_9450</td>\n",
              "      <td>2021-09-24</td>\n",
              "      <td>1863.0</td>\n",
              "      <td>1530.0</td>\n",
              "      <td>1550.0</td>\n",
              "      <td>1517.0</td>\n",
              "      <td>1549.0</td>\n",
              "      <td>156600</td>\n",
              "      <td>1.0</td>\n",
              "      <td>False</td>\n",
              "      <td>-0.024224</td>\n",
              "      <td>4</td>\n",
              "    </tr>\n",
              "    <tr>\n",
              "      <th>2324922</th>\n",
              "      <td>20210915_9467</td>\n",
              "      <td>2021-09-15</td>\n",
              "      <td>1864.0</td>\n",
              "      <td>3535.0</td>\n",
              "      <td>3540.0</td>\n",
              "      <td>3485.0</td>\n",
              "      <td>3505.0</td>\n",
              "      <td>29900</td>\n",
              "      <td>1.0</td>\n",
              "      <td>False</td>\n",
              "      <td>0.001435</td>\n",
              "      <td>4</td>\n",
              "    </tr>\n",
              "  </tbody>\n",
              "</table>\n",
              "<p>2324923 rows × 12 columns</p>\n",
              "</div>\n",
              "      <button class=\"colab-df-convert\" onclick=\"convertToInteractive('df-701eaf9f-7e30-45e0-a1b2-579b03defc93')\"\n",
              "              title=\"Convert this dataframe to an interactive table.\"\n",
              "              style=\"display:none;\">\n",
              "        \n",
              "  <svg xmlns=\"http://www.w3.org/2000/svg\" height=\"24px\"viewBox=\"0 0 24 24\"\n",
              "       width=\"24px\">\n",
              "    <path d=\"M0 0h24v24H0V0z\" fill=\"none\"/>\n",
              "    <path d=\"M18.56 5.44l.94 2.06.94-2.06 2.06-.94-2.06-.94-.94-2.06-.94 2.06-2.06.94zm-11 1L8.5 8.5l.94-2.06 2.06-.94-2.06-.94L8.5 2.5l-.94 2.06-2.06.94zm10 10l.94 2.06.94-2.06 2.06-.94-2.06-.94-.94-2.06-.94 2.06-2.06.94z\"/><path d=\"M17.41 7.96l-1.37-1.37c-.4-.4-.92-.59-1.43-.59-.52 0-1.04.2-1.43.59L10.3 9.45l-7.72 7.72c-.78.78-.78 2.05 0 2.83L4 21.41c.39.39.9.59 1.41.59.51 0 1.02-.2 1.41-.59l7.78-7.78 2.81-2.81c.8-.78.8-2.07 0-2.86zM5.41 20L4 18.59l7.72-7.72 1.47 1.35L5.41 20z\"/>\n",
              "  </svg>\n",
              "      </button>\n",
              "      \n",
              "  <style>\n",
              "    .colab-df-container {\n",
              "      display:flex;\n",
              "      flex-wrap:wrap;\n",
              "      gap: 12px;\n",
              "    }\n",
              "\n",
              "    .colab-df-convert {\n",
              "      background-color: #E8F0FE;\n",
              "      border: none;\n",
              "      border-radius: 50%;\n",
              "      cursor: pointer;\n",
              "      display: none;\n",
              "      fill: #1967D2;\n",
              "      height: 32px;\n",
              "      padding: 0 0 0 0;\n",
              "      width: 32px;\n",
              "    }\n",
              "\n",
              "    .colab-df-convert:hover {\n",
              "      background-color: #E2EBFA;\n",
              "      box-shadow: 0px 1px 2px rgba(60, 64, 67, 0.3), 0px 1px 3px 1px rgba(60, 64, 67, 0.15);\n",
              "      fill: #174EA6;\n",
              "    }\n",
              "\n",
              "    [theme=dark] .colab-df-convert {\n",
              "      background-color: #3B4455;\n",
              "      fill: #D2E3FC;\n",
              "    }\n",
              "\n",
              "    [theme=dark] .colab-df-convert:hover {\n",
              "      background-color: #434B5C;\n",
              "      box-shadow: 0px 1px 3px 1px rgba(0, 0, 0, 0.15);\n",
              "      filter: drop-shadow(0px 1px 2px rgba(0, 0, 0, 0.3));\n",
              "      fill: #FFFFFF;\n",
              "    }\n",
              "  </style>\n",
              "\n",
              "      <script>\n",
              "        const buttonEl =\n",
              "          document.querySelector('#df-701eaf9f-7e30-45e0-a1b2-579b03defc93 button.colab-df-convert');\n",
              "        buttonEl.style.display =\n",
              "          google.colab.kernel.accessAllowed ? 'block' : 'none';\n",
              "\n",
              "        async function convertToInteractive(key) {\n",
              "          const element = document.querySelector('#df-701eaf9f-7e30-45e0-a1b2-579b03defc93');\n",
              "          const dataTable =\n",
              "            await google.colab.kernel.invokeFunction('convertToInteractive',\n",
              "                                                     [key], {});\n",
              "          if (!dataTable) return;\n",
              "\n",
              "          const docLinkHtml = 'Like what you see? Visit the ' +\n",
              "            '<a target=\"_blank\" href=https://colab.research.google.com/notebooks/data_table.ipynb>data table notebook</a>'\n",
              "            + ' to learn more about interactive tables.';\n",
              "          element.innerHTML = '';\n",
              "          dataTable['output_type'] = 'display_data';\n",
              "          await google.colab.output.renderOutput(dataTable, element);\n",
              "          const docLink = document.createElement('div');\n",
              "          docLink.innerHTML = docLinkHtml;\n",
              "          element.appendChild(docLink);\n",
              "        }\n",
              "      </script>\n",
              "    </div>\n",
              "  </div>\n",
              "  "
            ]
          },
          "metadata": {},
          "execution_count": 10
        }
      ]
    },
    {
      "cell_type": "markdown",
      "source": [
        "# LGBM"
      ],
      "metadata": {
        "id": "BHmvN8z_u6GF"
      }
    },
    {
      "cell_type": "code",
      "source": [
        "# LGBM\n",
        "def train_lgbm(prices, folds):\n",
        "    models = list()\n",
        "    \n",
        "    for f in range(folds):\n",
        "        X_train = prices[prices.fold != f][[\"SecuritiesCode\", \"Open\", \"High\", \"Low\", \"Close\"]]\n",
        "        y_train = prices[prices.fold != f][[\"Target\"]]\n",
        "        X_valid = prices[prices.fold == f][[\"SecuritiesCode\", \"Open\", \"High\", \"Low\", \"Close\"]]\n",
        "        y_valid = prices[prices.fold == f][[\"Target\"]]\n",
        "        \n",
        "        model = LGBMRegressor()\n",
        "        model.fit(X_train, y_train)\n",
        "        oof_preds = model.predict(X_valid)\n",
        "        oof_score = np.sqrt(mean_squared_error(y_valid, oof_preds))\n",
        "        print(oof_score)\n",
        "        models.append(model)\n",
        "        \n",
        "    return models"
      ],
      "metadata": {
        "id": "Jc8J7VozeBBN"
      },
      "execution_count": null,
      "outputs": []
    },
    {
      "cell_type": "markdown",
      "source": [
        "# DNN"
      ],
      "metadata": {
        "id": "M6WvAaGmu9Du"
      }
    },
    {
      "cell_type": "code",
      "source": [
        "# DNN\n",
        "codes = list(prices.SecuritiesCode.unique())\n",
        "codes_size = len(codes)\n",
        "\n",
        "def dense_block(x, units, act='swish', dr=0.2):\n",
        "    x = L.Dropout(dr)(x)\n",
        "    x = L.BatchNormalization()(x)\n",
        "    x = L.Dense(units, activation=act)(x)\n",
        "    return x\n",
        "\n",
        "def get_dnn(dense_blocks):\n",
        "    prices_in = L.Input(shape=(4,), name='input_prices')  # L : layers\n",
        "    x_prices = L.BatchNormalization()(prices_in)\n",
        "    x_prices = L.Dense(64, activation='swish')(x_prices)\n",
        "    \n",
        "    security_code_input = L.Input(shape=(1,), name='input_security_code')\n",
        "    x_id = L.Embedding(codes_size, 32, input_length=1)(security_code_input)\n",
        "    x_id = L.Reshape((-1, ))(x_id)\n",
        "    x_id = L.Dense(32, activation='swish')(x_id)\n",
        "\n",
        "    x = L.Concatenate(axis=1)([x_id, x_prices])\n",
        "    \n",
        "    for units in dense_blocks:\n",
        "        x = dense_block(x, units)\n",
        "    \n",
        "    output = L.Dense(1)(x)\n",
        "    \n",
        "    model = M.Model([prices_in, security_code_input], \n",
        "                    [output])\n",
        "\n",
        "    model.compile(optimizer=tf.optimizers.Adam(lr=0.001),\n",
        "                  loss='mse', metrics=['mse'])\n",
        "    \n",
        "    return model\n",
        "    \n",
        "def train_dnn(prices, folds):\n",
        "    models = list()\n",
        "    \n",
        "    for f in range(folds):\n",
        "        X_train_prices = prices[prices.fold != f][[\"Open\", \"High\", \"Low\", \"Close\"]]\n",
        "        X_train_id = prices[prices.fold != f][[\"SecuritiesCode\"]]\n",
        "        y_train = prices[prices.fold != f][[\"Target\"]]\n",
        "        X_valid_prices = prices[prices.fold == f][[\"Open\", \"High\", \"Low\", \"Close\"]]\n",
        "        X_valid_id = prices[prices.fold == f][[\"SecuritiesCode\"]]\n",
        "        y_valid = prices[prices.fold == f][[\"Target\"]]\n",
        "\n",
        "        model = get_dnn([128]) # , 64, 32\n",
        "        model.fit([X_train_prices, X_train_id], y_train,\n",
        "                   validation_data=([X_valid_prices, X_valid_id], y_valid),\n",
        "                   batch_size=128, epochs=15, verbose=0)\n",
        "\n",
        "        oof_preds = model.predict([X_valid_prices, X_valid_id])\n",
        "        oof_score = np.sqrt(mean_squared_error(y_valid, oof_preds))\n",
        "        print(oof_score)\n",
        "        models.append(model)\n",
        "        break\n",
        "        # break for speed of training, feel free to train all folds\n",
        "    \n",
        "    return models"
      ],
      "metadata": {
        "id": "CRDo2kdzeA9L"
      },
      "execution_count": null,
      "outputs": []
    },
    {
      "cell_type": "code",
      "source": [
        "# Run - prints rmse for each fold\n",
        "lgbm_models = train_lgbm(prices, 5)"
      ],
      "metadata": {
        "colab": {
          "base_uri": "https://localhost:8080/"
        },
        "id": "tAp_FFd4eA4Y",
        "outputId": "7fe4f66f-e143-4a4b-d737-7daddcfb15ad"
      },
      "execution_count": null,
      "outputs": [
        {
          "output_type": "stream",
          "name": "stdout",
          "text": [
            "0.023382704221489446\n",
            "0.02338802550542154\n",
            "0.023358557163261778\n",
            "0.02340790713742689\n",
            "0.023414143816400203\n"
          ]
        }
      ]
    },
    {
      "cell_type": "code",
      "source": [
        "dnn_models = train_dnn(prices, 5)"
      ],
      "metadata": {
        "colab": {
          "base_uri": "https://localhost:8080/",
          "height": 345
        },
        "id": "ma3zD5iWeAzx",
        "outputId": "02051e29-503e-4680-cf04-eb580e844abb"
      },
      "execution_count": null,
      "outputs": [
        {
          "output_type": "error",
          "ename": "KeyboardInterrupt",
          "evalue": "ignored",
          "traceback": [
            "\u001b[0;31m---------------------------------------------------------------------------\u001b[0m",
            "\u001b[0;31mKeyboardInterrupt\u001b[0m                         Traceback (most recent call last)",
            "\u001b[0;32m<ipython-input-14-870c6d986c81>\u001b[0m in \u001b[0;36m<module>\u001b[0;34m()\u001b[0m\n\u001b[0;32m----> 1\u001b[0;31m \u001b[0mdnn_models\u001b[0m \u001b[0;34m=\u001b[0m \u001b[0mtrain_dnn\u001b[0m\u001b[0;34m(\u001b[0m\u001b[0mprices\u001b[0m\u001b[0;34m,\u001b[0m \u001b[0;36m5\u001b[0m\u001b[0;34m)\u001b[0m\u001b[0;34m\u001b[0m\u001b[0;34m\u001b[0m\u001b[0m\n\u001b[0m",
            "\u001b[0;32m<ipython-input-12-8c16387a6d3c>\u001b[0m in \u001b[0;36mtrain_dnn\u001b[0;34m(prices, folds)\u001b[0m\n\u001b[1;32m     48\u001b[0m         model.fit([X_train_prices, X_train_id], y_train,\n\u001b[1;32m     49\u001b[0m                    \u001b[0mvalidation_data\u001b[0m\u001b[0;34m=\u001b[0m\u001b[0;34m(\u001b[0m\u001b[0;34m[\u001b[0m\u001b[0mX_valid_prices\u001b[0m\u001b[0;34m,\u001b[0m \u001b[0mX_valid_id\u001b[0m\u001b[0;34m]\u001b[0m\u001b[0;34m,\u001b[0m \u001b[0my_valid\u001b[0m\u001b[0;34m)\u001b[0m\u001b[0;34m,\u001b[0m\u001b[0;34m\u001b[0m\u001b[0;34m\u001b[0m\u001b[0m\n\u001b[0;32m---> 50\u001b[0;31m                    batch_size=128, epochs=15, verbose=0)\n\u001b[0m\u001b[1;32m     51\u001b[0m \u001b[0;34m\u001b[0m\u001b[0m\n\u001b[1;32m     52\u001b[0m         \u001b[0moof_preds\u001b[0m \u001b[0;34m=\u001b[0m \u001b[0mmodel\u001b[0m\u001b[0;34m.\u001b[0m\u001b[0mpredict\u001b[0m\u001b[0;34m(\u001b[0m\u001b[0;34m[\u001b[0m\u001b[0mX_valid_prices\u001b[0m\u001b[0;34m,\u001b[0m \u001b[0mX_valid_id\u001b[0m\u001b[0;34m]\u001b[0m\u001b[0;34m)\u001b[0m\u001b[0;34m\u001b[0m\u001b[0;34m\u001b[0m\u001b[0m\n",
            "\u001b[0;32m/usr/local/lib/python3.7/dist-packages/keras/utils/traceback_utils.py\u001b[0m in \u001b[0;36merror_handler\u001b[0;34m(*args, **kwargs)\u001b[0m\n\u001b[1;32m     62\u001b[0m     \u001b[0mfiltered_tb\u001b[0m \u001b[0;34m=\u001b[0m \u001b[0;32mNone\u001b[0m\u001b[0;34m\u001b[0m\u001b[0;34m\u001b[0m\u001b[0m\n\u001b[1;32m     63\u001b[0m     \u001b[0;32mtry\u001b[0m\u001b[0;34m:\u001b[0m\u001b[0;34m\u001b[0m\u001b[0;34m\u001b[0m\u001b[0m\n\u001b[0;32m---> 64\u001b[0;31m       \u001b[0;32mreturn\u001b[0m \u001b[0mfn\u001b[0m\u001b[0;34m(\u001b[0m\u001b[0;34m*\u001b[0m\u001b[0margs\u001b[0m\u001b[0;34m,\u001b[0m \u001b[0;34m**\u001b[0m\u001b[0mkwargs\u001b[0m\u001b[0;34m)\u001b[0m\u001b[0;34m\u001b[0m\u001b[0;34m\u001b[0m\u001b[0m\n\u001b[0m\u001b[1;32m     65\u001b[0m     \u001b[0;32mexcept\u001b[0m \u001b[0mException\u001b[0m \u001b[0;32mas\u001b[0m \u001b[0me\u001b[0m\u001b[0;34m:\u001b[0m  \u001b[0;31m# pylint: disable=broad-except\u001b[0m\u001b[0;34m\u001b[0m\u001b[0;34m\u001b[0m\u001b[0m\n\u001b[1;32m     66\u001b[0m       \u001b[0mfiltered_tb\u001b[0m \u001b[0;34m=\u001b[0m \u001b[0m_process_traceback_frames\u001b[0m\u001b[0;34m(\u001b[0m\u001b[0me\u001b[0m\u001b[0;34m.\u001b[0m\u001b[0m__traceback__\u001b[0m\u001b[0;34m)\u001b[0m\u001b[0;34m\u001b[0m\u001b[0;34m\u001b[0m\u001b[0m\n",
            "\u001b[0;32m/usr/local/lib/python3.7/dist-packages/keras/engine/training.py\u001b[0m in \u001b[0;36mfit\u001b[0;34m(self, x, y, batch_size, epochs, verbose, callbacks, validation_split, validation_data, shuffle, class_weight, sample_weight, initial_epoch, steps_per_epoch, validation_steps, validation_batch_size, validation_freq, max_queue_size, workers, use_multiprocessing)\u001b[0m\n\u001b[1;32m   1382\u001b[0m                 _r=1):\n\u001b[1;32m   1383\u001b[0m               \u001b[0mcallbacks\u001b[0m\u001b[0;34m.\u001b[0m\u001b[0mon_train_batch_begin\u001b[0m\u001b[0;34m(\u001b[0m\u001b[0mstep\u001b[0m\u001b[0;34m)\u001b[0m\u001b[0;34m\u001b[0m\u001b[0;34m\u001b[0m\u001b[0m\n\u001b[0;32m-> 1384\u001b[0;31m               \u001b[0mtmp_logs\u001b[0m \u001b[0;34m=\u001b[0m \u001b[0mself\u001b[0m\u001b[0;34m.\u001b[0m\u001b[0mtrain_function\u001b[0m\u001b[0;34m(\u001b[0m\u001b[0miterator\u001b[0m\u001b[0;34m)\u001b[0m\u001b[0;34m\u001b[0m\u001b[0;34m\u001b[0m\u001b[0m\n\u001b[0m\u001b[1;32m   1385\u001b[0m               \u001b[0;32mif\u001b[0m \u001b[0mdata_handler\u001b[0m\u001b[0;34m.\u001b[0m\u001b[0mshould_sync\u001b[0m\u001b[0;34m:\u001b[0m\u001b[0;34m\u001b[0m\u001b[0;34m\u001b[0m\u001b[0m\n\u001b[1;32m   1386\u001b[0m                 \u001b[0mcontext\u001b[0m\u001b[0;34m.\u001b[0m\u001b[0masync_wait\u001b[0m\u001b[0;34m(\u001b[0m\u001b[0;34m)\u001b[0m\u001b[0;34m\u001b[0m\u001b[0;34m\u001b[0m\u001b[0m\n",
            "\u001b[0;32m/usr/local/lib/python3.7/dist-packages/tensorflow/python/util/traceback_utils.py\u001b[0m in \u001b[0;36merror_handler\u001b[0;34m(*args, **kwargs)\u001b[0m\n\u001b[1;32m    148\u001b[0m     \u001b[0mfiltered_tb\u001b[0m \u001b[0;34m=\u001b[0m \u001b[0;32mNone\u001b[0m\u001b[0;34m\u001b[0m\u001b[0;34m\u001b[0m\u001b[0m\n\u001b[1;32m    149\u001b[0m     \u001b[0;32mtry\u001b[0m\u001b[0;34m:\u001b[0m\u001b[0;34m\u001b[0m\u001b[0;34m\u001b[0m\u001b[0m\n\u001b[0;32m--> 150\u001b[0;31m       \u001b[0;32mreturn\u001b[0m \u001b[0mfn\u001b[0m\u001b[0;34m(\u001b[0m\u001b[0;34m*\u001b[0m\u001b[0margs\u001b[0m\u001b[0;34m,\u001b[0m \u001b[0;34m**\u001b[0m\u001b[0mkwargs\u001b[0m\u001b[0;34m)\u001b[0m\u001b[0;34m\u001b[0m\u001b[0;34m\u001b[0m\u001b[0m\n\u001b[0m\u001b[1;32m    151\u001b[0m     \u001b[0;32mexcept\u001b[0m \u001b[0mException\u001b[0m \u001b[0;32mas\u001b[0m \u001b[0me\u001b[0m\u001b[0;34m:\u001b[0m\u001b[0;34m\u001b[0m\u001b[0;34m\u001b[0m\u001b[0m\n\u001b[1;32m    152\u001b[0m       \u001b[0mfiltered_tb\u001b[0m \u001b[0;34m=\u001b[0m \u001b[0m_process_traceback_frames\u001b[0m\u001b[0;34m(\u001b[0m\u001b[0me\u001b[0m\u001b[0;34m.\u001b[0m\u001b[0m__traceback__\u001b[0m\u001b[0;34m)\u001b[0m\u001b[0;34m\u001b[0m\u001b[0;34m\u001b[0m\u001b[0m\n",
            "\u001b[0;32m/usr/local/lib/python3.7/dist-packages/tensorflow/python/eager/def_function.py\u001b[0m in \u001b[0;36m__call__\u001b[0;34m(self, *args, **kwds)\u001b[0m\n\u001b[1;32m    913\u001b[0m \u001b[0;34m\u001b[0m\u001b[0m\n\u001b[1;32m    914\u001b[0m       \u001b[0;32mwith\u001b[0m \u001b[0mOptionalXlaContext\u001b[0m\u001b[0;34m(\u001b[0m\u001b[0mself\u001b[0m\u001b[0;34m.\u001b[0m\u001b[0m_jit_compile\u001b[0m\u001b[0;34m)\u001b[0m\u001b[0;34m:\u001b[0m\u001b[0;34m\u001b[0m\u001b[0;34m\u001b[0m\u001b[0m\n\u001b[0;32m--> 915\u001b[0;31m         \u001b[0mresult\u001b[0m \u001b[0;34m=\u001b[0m \u001b[0mself\u001b[0m\u001b[0;34m.\u001b[0m\u001b[0m_call\u001b[0m\u001b[0;34m(\u001b[0m\u001b[0;34m*\u001b[0m\u001b[0margs\u001b[0m\u001b[0;34m,\u001b[0m \u001b[0;34m**\u001b[0m\u001b[0mkwds\u001b[0m\u001b[0;34m)\u001b[0m\u001b[0;34m\u001b[0m\u001b[0;34m\u001b[0m\u001b[0m\n\u001b[0m\u001b[1;32m    916\u001b[0m \u001b[0;34m\u001b[0m\u001b[0m\n\u001b[1;32m    917\u001b[0m       \u001b[0mnew_tracing_count\u001b[0m \u001b[0;34m=\u001b[0m \u001b[0mself\u001b[0m\u001b[0;34m.\u001b[0m\u001b[0mexperimental_get_tracing_count\u001b[0m\u001b[0;34m(\u001b[0m\u001b[0;34m)\u001b[0m\u001b[0;34m\u001b[0m\u001b[0;34m\u001b[0m\u001b[0m\n",
            "\u001b[0;32m/usr/local/lib/python3.7/dist-packages/tensorflow/python/eager/def_function.py\u001b[0m in \u001b[0;36m_call\u001b[0;34m(self, *args, **kwds)\u001b[0m\n\u001b[1;32m    945\u001b[0m       \u001b[0;31m# In this case we have created variables on the first call, so we run the\u001b[0m\u001b[0;34m\u001b[0m\u001b[0;34m\u001b[0m\u001b[0;34m\u001b[0m\u001b[0m\n\u001b[1;32m    946\u001b[0m       \u001b[0;31m# defunned version which is guaranteed to never create variables.\u001b[0m\u001b[0;34m\u001b[0m\u001b[0;34m\u001b[0m\u001b[0;34m\u001b[0m\u001b[0m\n\u001b[0;32m--> 947\u001b[0;31m       \u001b[0;32mreturn\u001b[0m \u001b[0mself\u001b[0m\u001b[0;34m.\u001b[0m\u001b[0m_stateless_fn\u001b[0m\u001b[0;34m(\u001b[0m\u001b[0;34m*\u001b[0m\u001b[0margs\u001b[0m\u001b[0;34m,\u001b[0m \u001b[0;34m**\u001b[0m\u001b[0mkwds\u001b[0m\u001b[0;34m)\u001b[0m  \u001b[0;31m# pylint: disable=not-callable\u001b[0m\u001b[0;34m\u001b[0m\u001b[0;34m\u001b[0m\u001b[0m\n\u001b[0m\u001b[1;32m    948\u001b[0m     \u001b[0;32melif\u001b[0m \u001b[0mself\u001b[0m\u001b[0;34m.\u001b[0m\u001b[0m_stateful_fn\u001b[0m \u001b[0;32mis\u001b[0m \u001b[0;32mnot\u001b[0m \u001b[0;32mNone\u001b[0m\u001b[0;34m:\u001b[0m\u001b[0;34m\u001b[0m\u001b[0;34m\u001b[0m\u001b[0m\n\u001b[1;32m    949\u001b[0m       \u001b[0;31m# Release the lock early so that multiple threads can perform the call\u001b[0m\u001b[0;34m\u001b[0m\u001b[0;34m\u001b[0m\u001b[0;34m\u001b[0m\u001b[0m\n",
            "\u001b[0;32m/usr/local/lib/python3.7/dist-packages/tensorflow/python/eager/function.py\u001b[0m in \u001b[0;36m__call__\u001b[0;34m(self, *args, **kwargs)\u001b[0m\n\u001b[1;32m   2955\u001b[0m        filtered_flat_args) = self._maybe_define_function(args, kwargs)\n\u001b[1;32m   2956\u001b[0m     return graph_function._call_flat(\n\u001b[0;32m-> 2957\u001b[0;31m         filtered_flat_args, captured_inputs=graph_function.captured_inputs)  # pylint: disable=protected-access\n\u001b[0m\u001b[1;32m   2958\u001b[0m \u001b[0;34m\u001b[0m\u001b[0m\n\u001b[1;32m   2959\u001b[0m   \u001b[0;34m@\u001b[0m\u001b[0mproperty\u001b[0m\u001b[0;34m\u001b[0m\u001b[0;34m\u001b[0m\u001b[0m\n",
            "\u001b[0;32m/usr/local/lib/python3.7/dist-packages/tensorflow/python/eager/function.py\u001b[0m in \u001b[0;36m_call_flat\u001b[0;34m(self, args, captured_inputs, cancellation_manager)\u001b[0m\n\u001b[1;32m   1852\u001b[0m       \u001b[0;31m# No tape is watching; skip to running the function.\u001b[0m\u001b[0;34m\u001b[0m\u001b[0;34m\u001b[0m\u001b[0;34m\u001b[0m\u001b[0m\n\u001b[1;32m   1853\u001b[0m       return self._build_call_outputs(self._inference_function.call(\n\u001b[0;32m-> 1854\u001b[0;31m           ctx, args, cancellation_manager=cancellation_manager))\n\u001b[0m\u001b[1;32m   1855\u001b[0m     forward_backward = self._select_forward_and_backward_functions(\n\u001b[1;32m   1856\u001b[0m         \u001b[0margs\u001b[0m\u001b[0;34m,\u001b[0m\u001b[0;34m\u001b[0m\u001b[0;34m\u001b[0m\u001b[0m\n",
            "\u001b[0;32m/usr/local/lib/python3.7/dist-packages/tensorflow/python/eager/function.py\u001b[0m in \u001b[0;36mcall\u001b[0;34m(self, ctx, args, cancellation_manager)\u001b[0m\n\u001b[1;32m    502\u001b[0m               \u001b[0minputs\u001b[0m\u001b[0;34m=\u001b[0m\u001b[0margs\u001b[0m\u001b[0;34m,\u001b[0m\u001b[0;34m\u001b[0m\u001b[0;34m\u001b[0m\u001b[0m\n\u001b[1;32m    503\u001b[0m               \u001b[0mattrs\u001b[0m\u001b[0;34m=\u001b[0m\u001b[0mattrs\u001b[0m\u001b[0;34m,\u001b[0m\u001b[0;34m\u001b[0m\u001b[0;34m\u001b[0m\u001b[0m\n\u001b[0;32m--> 504\u001b[0;31m               ctx=ctx)\n\u001b[0m\u001b[1;32m    505\u001b[0m         \u001b[0;32melse\u001b[0m\u001b[0;34m:\u001b[0m\u001b[0;34m\u001b[0m\u001b[0;34m\u001b[0m\u001b[0m\n\u001b[1;32m    506\u001b[0m           outputs = execute.execute_with_cancellation(\n",
            "\u001b[0;32m/usr/local/lib/python3.7/dist-packages/tensorflow/python/eager/execute.py\u001b[0m in \u001b[0;36mquick_execute\u001b[0;34m(op_name, num_outputs, inputs, attrs, ctx, name)\u001b[0m\n\u001b[1;32m     53\u001b[0m     \u001b[0mctx\u001b[0m\u001b[0;34m.\u001b[0m\u001b[0mensure_initialized\u001b[0m\u001b[0;34m(\u001b[0m\u001b[0;34m)\u001b[0m\u001b[0;34m\u001b[0m\u001b[0;34m\u001b[0m\u001b[0m\n\u001b[1;32m     54\u001b[0m     tensors = pywrap_tfe.TFE_Py_Execute(ctx._handle, device_name, op_name,\n\u001b[0;32m---> 55\u001b[0;31m                                         inputs, attrs, num_outputs)\n\u001b[0m\u001b[1;32m     56\u001b[0m   \u001b[0;32mexcept\u001b[0m \u001b[0mcore\u001b[0m\u001b[0;34m.\u001b[0m\u001b[0m_NotOkStatusException\u001b[0m \u001b[0;32mas\u001b[0m \u001b[0me\u001b[0m\u001b[0;34m:\u001b[0m\u001b[0;34m\u001b[0m\u001b[0;34m\u001b[0m\u001b[0m\n\u001b[1;32m     57\u001b[0m     \u001b[0;32mif\u001b[0m \u001b[0mname\u001b[0m \u001b[0;32mis\u001b[0m \u001b[0;32mnot\u001b[0m \u001b[0;32mNone\u001b[0m\u001b[0;34m:\u001b[0m\u001b[0;34m\u001b[0m\u001b[0;34m\u001b[0m\u001b[0m\n",
            "\u001b[0;31mKeyboardInterrupt\u001b[0m: "
          ]
        }
      ]
    },
    {
      "cell_type": "code",
      "source": [
        "kaggle competitions download -c jpx-tokyo-stock-exchange-prediction"
      ],
      "metadata": {
        "colab": {
          "base_uri": "https://localhost:8080/",
          "height": 137
        },
        "id": "z46P01CUFOAF",
        "outputId": "cfea00e1-c99a-4568-e13f-dd5fd739c78d"
      },
      "execution_count": null,
      "outputs": [
        {
          "output_type": "error",
          "ename": "SyntaxError",
          "evalue": "ignored",
          "traceback": [
            "\u001b[0;36m  File \u001b[0;32m\"<ipython-input-9-7ce88ec4f87a>\"\u001b[0;36m, line \u001b[0;32m1\u001b[0m\n\u001b[0;31m    kaggle competitions download -c jpx-tokyo-stock-exchange-prediction\u001b[0m\n\u001b[0m                      ^\u001b[0m\n\u001b[0;31mSyntaxError\u001b[0m\u001b[0;31m:\u001b[0m invalid syntax\n"
          ]
        }
      ]
    },
    {
      "cell_type": "code",
      "source": [
        "!pip install <jpx_tokyo_market_prediction>"
      ],
      "metadata": {
        "colab": {
          "base_uri": "https://localhost:8080/"
        },
        "id": "KdhjJex0lJLJ",
        "outputId": "f4d18714-3adf-4706-a5b2-15b266dafd74"
      },
      "execution_count": null,
      "outputs": [
        {
          "output_type": "stream",
          "name": "stdout",
          "text": [
            "/bin/bash: -c: line 0: syntax error near unexpected token `newline'\n",
            "/bin/bash: -c: line 0: `pip install <jpx_tokyo_market_prediction>'\n"
          ]
        }
      ]
    },
    {
      "cell_type": "markdown",
      "source": [
        "# Prediction"
      ],
      "metadata": {
        "id": "piiNp7uivAAr"
      }
    },
    {
      "cell_type": "code",
      "source": [
        "import jpx_tokyo_market_prediction"
      ],
      "metadata": {
        "colab": {
          "base_uri": "https://localhost:8080/",
          "height": 321
        },
        "id": "qtwCKxPYINg_",
        "outputId": "c21e6679-9c92-4cbe-c60a-8b69ea4d1fe5"
      },
      "execution_count": null,
      "outputs": [
        {
          "output_type": "error",
          "ename": "ModuleNotFoundError",
          "evalue": "ignored",
          "traceback": [
            "\u001b[0;31m---------------------------------------------------------------------------\u001b[0m",
            "\u001b[0;31mModuleNotFoundError\u001b[0m                       Traceback (most recent call last)",
            "\u001b[0;32m<ipython-input-16-9f1c7c3abf7f>\u001b[0m in \u001b[0;36m<module>\u001b[0;34m()\u001b[0m\n\u001b[0;32m----> 1\u001b[0;31m \u001b[0;32mimport\u001b[0m \u001b[0mjpx_tokyo_market_prediction\u001b[0m\u001b[0;34m\u001b[0m\u001b[0;34m\u001b[0m\u001b[0m\n\u001b[0m",
            "\u001b[0;31mModuleNotFoundError\u001b[0m: No module named 'jpx_tokyo_market_prediction'",
            "",
            "\u001b[0;31m---------------------------------------------------------------------------\u001b[0;32m\nNOTE: If your import is failing due to a missing package, you can\nmanually install dependencies using either !pip or !apt.\n\nTo view examples of installing some common dependencies, click the\n\"Open Examples\" button below.\n\u001b[0;31m---------------------------------------------------------------------------\u001b[0m\n"
          ],
          "errorDetails": {
            "actions": [
              {
                "action": "open_url",
                "actionText": "Open Examples",
                "url": "/notebooks/snippets/importing_libraries.ipynb"
              }
            ]
          }
        }
      ]
    },
    {
      "cell_type": "code",
      "source": [
        "# Make Predictions & Submit\n",
        "env = jpx_tokyo_market_prediction.make_env()   # initialize the environment\n",
        "iter_test = env.iter_test()    # an iterator which loops over the test files\n",
        "\n",
        "for (prices, options, financials, trades, secondary_prices, sample_prediction) in iter_test:\n",
        "    prices[\"SecuritiesCode\"] = enc.fit_transform(prices[[\"SecuritiesCode\"]])\n",
        "    \n",
        "    X_test = prices[[\"SecuritiesCode\", \"Open\", \"High\", \"Low\", \"Close\"]]\n",
        "    lgbm_preds = list()\n",
        "    for model in lgbm_models:\n",
        "        lgbm_preds.append( model.predict(X_test) )\n",
        "    lgbm_preds = np.mean(lgbm_preds, axis=0)\n",
        "    \n",
        "    X_test_prices = prices[[\"Open\", \"High\", \"Low\", \"Close\"]]\n",
        "    X_test_id = prices[[\"SecuritiesCode\"]]\n",
        "    dnn_preds = list()\n",
        "    for model in dnn_models:\n",
        "        dnn_preds.append( model.predict([X_test_prices, X_test_id]) )\n",
        "    dnn_preds = np.mean(dnn_preds, axis=0)[0]\n",
        "    \n",
        "    sample_prediction[\"Prediction\"] = lgbm_preds*0.8 + dnn_preds*0.2 ####################### 왜 이렇게 비율을 설정했지\n",
        "    \n",
        "    sample_prediction = sample_prediction.sort_values(by = \"Prediction\", ascending=False)\n",
        "    sample_prediction.Rank = np.arange(0,2000)\n",
        "    sample_prediction = sample_prediction.sort_values(by = \"SecuritiesCode\", ascending=True)\n",
        "    sample_prediction.drop([\"Prediction\"],axis=1)\n",
        "    submission = sample_prediction[[\"Date\",\"SecuritiesCode\",\"Rank\"]]\n",
        "    env.predict(submission)\n"
      ],
      "metadata": {
        "id": "Kn1UrCMVeAu-"
      },
      "execution_count": null,
      "outputs": []
    },
    {
      "cell_type": "code",
      "source": [
        "pd.read_csv(\"./submission.csv\")"
      ],
      "metadata": {
        "id": "cmYAqLXyemOG"
      },
      "execution_count": null,
      "outputs": []
    },
    {
      "cell_type": "markdown",
      "source": [
        "+ 추후 :  불린저 밴드, MACD, DMI 등을 변수에 추가해보자!\n"
      ],
      "metadata": {
        "id": "JKIAfwyhtjcV"
      }
    },
    {
      "cell_type": "markdown",
      "source": [
        "# LSTM"
      ],
      "metadata": {
        "id": "ohVxAit0CohJ"
      }
    },
    {
      "cell_type": "code",
      "source": [
        "import jpx_tokyo_market_prediction\n",
        "env = jpx_tokyo_market_prediction.make_env()\n",
        "iter_test = env.iter_test()"
      ],
      "metadata": {
        "id": "1zuPvTJhIbio",
        "colab": {
          "base_uri": "https://localhost:8080/",
          "height": 247
        },
        "outputId": "5522b01b-406b-49a4-ca36-e9628fb5ea12"
      },
      "execution_count": null,
      "outputs": [
        {
          "output_type": "error",
          "ename": "Exception",
          "evalue": "ignored",
          "traceback": [
            "\u001b[0;31m---------------------------------------------------------------------------\u001b[0m",
            "\u001b[0;31mException\u001b[0m                                 Traceback (most recent call last)",
            "\u001b[0;32m<ipython-input-24-ace374866e8a>\u001b[0m in \u001b[0;36m<module>\u001b[0;34m()\u001b[0m\n\u001b[1;32m      1\u001b[0m \u001b[0;32mimport\u001b[0m \u001b[0mjpx_tokyo_market_prediction\u001b[0m\u001b[0;34m\u001b[0m\u001b[0;34m\u001b[0m\u001b[0m\n\u001b[0;32m----> 2\u001b[0;31m \u001b[0menv\u001b[0m \u001b[0;34m=\u001b[0m \u001b[0mjpx_tokyo_market_prediction\u001b[0m\u001b[0;34m.\u001b[0m\u001b[0mmake_env\u001b[0m\u001b[0;34m(\u001b[0m\u001b[0;34m)\u001b[0m\u001b[0;34m\u001b[0m\u001b[0;34m\u001b[0m\u001b[0m\n\u001b[0m\u001b[1;32m      3\u001b[0m \u001b[0miter_test\u001b[0m \u001b[0;34m=\u001b[0m \u001b[0menv\u001b[0m\u001b[0;34m.\u001b[0m\u001b[0miter_test\u001b[0m\u001b[0;34m(\u001b[0m\u001b[0;34m)\u001b[0m\u001b[0;34m\u001b[0m\u001b[0;34m\u001b[0m\u001b[0m\n",
            "\u001b[0;32m/content/drive/MyDrive/AI딥러닝_프로젝트/데이터/jpx-tokyo-stock-exchange-prediction/jpx_tokyo_market_prediction/competition.cpython-37m-x86_64-linux-gnu.so\u001b[0m in \u001b[0;36mjpx_tokyo_market_prediction.competition.make_env\u001b[0;34m()\u001b[0m\n",
            "\u001b[0;31mException\u001b[0m: You can only call `make_env()` once."
          ]
        }
      ]
    },
    {
      "cell_type": "code",
      "source": [
        "iter_test"
      ],
      "metadata": {
        "colab": {
          "base_uri": "https://localhost:8080/"
        },
        "id": "kP2uqiWF6w2x",
        "outputId": "e2599631-59e1-4010-e770-6fb8cffcbb3a"
      },
      "execution_count": null,
      "outputs": [
        {
          "output_type": "execute_result",
          "data": {
            "text/plain": [
              "<generator at 0x7fb974c45f70>"
            ]
          },
          "metadata": {},
          "execution_count": 25
        }
      ]
    },
    {
      "cell_type": "code",
      "source": [
        "%ls"
      ],
      "metadata": {
        "colab": {
          "base_uri": "https://localhost:8080/"
        },
        "id": "AeO9BzVyrxn7",
        "outputId": "81c6193a-9011-4217-f5e7-ddca0dc565f4"
      },
      "execution_count": null,
      "outputs": [
        {
          "output_type": "stream",
          "name": "stdout",
          "text": [
            "\u001b[0m\u001b[01;34mdata_specifications\u001b[0m/  \u001b[01;34mjpx_tokyo_market_prediction\u001b[0m/  \u001b[01;34msupplemental_files\u001b[0m/\n",
            "\u001b[01;34mexample_test_files\u001b[0m/   stock_list.csv                \u001b[01;34mtrain_files\u001b[0m/\n"
          ]
        }
      ]
    },
    {
      "cell_type": "code",
      "source": [
        "stock_price_df = pd.read_csv(\"/content/drive/MyDrive/AI딥러닝_프로젝트/데이터/jpx-tokyo-stock-exchange-prediction/train_files/stock_prices.csv\")"
      ],
      "metadata": {
        "id": "2OZIvoSMIbnW"
      },
      "execution_count": null,
      "outputs": []
    },
    {
      "cell_type": "code",
      "source": [
        "# create dataset\n",
        "stock_price_df = stock_price_df.drop('ExpectedDividend', axis = 1)\n",
        "stock_price_df['SupervisionFlag'] = stock_price_df['SupervisionFlag'].map({True: 1, False: 0})\n",
        "stock_price_df['Date'] = pd.to_datetime(stock_price_df['Date'])\n",
        "stock_price_df.head()"
      ],
      "metadata": {
        "colab": {
          "base_uri": "https://localhost:8080/",
          "height": 206
        },
        "id": "n-acX2K-ujqG",
        "outputId": "a09a154f-a897-4132-b753-7626d6214388"
      },
      "execution_count": null,
      "outputs": [
        {
          "output_type": "execute_result",
          "data": {
            "text/plain": [
              "           RowId       Date  SecuritiesCode    Open    High     Low   Close  \\\n",
              "0  20170104_1301 2017-01-04            1301  2734.0  2755.0  2730.0  2742.0   \n",
              "1  20170104_1332 2017-01-04            1332   568.0   576.0   563.0   571.0   \n",
              "2  20170104_1333 2017-01-04            1333  3150.0  3210.0  3140.0  3210.0   \n",
              "3  20170104_1376 2017-01-04            1376  1510.0  1550.0  1510.0  1550.0   \n",
              "4  20170104_1377 2017-01-04            1377  3270.0  3350.0  3270.0  3330.0   \n",
              "\n",
              "    Volume  AdjustmentFactor  SupervisionFlag    Target  \n",
              "0    31400               1.0                0  0.000730  \n",
              "1  2798500               1.0                0  0.012324  \n",
              "2   270800               1.0                0  0.006154  \n",
              "3    11300               1.0                0  0.011053  \n",
              "4   150800               1.0                0  0.003026  "
            ],
            "text/html": [
              "\n",
              "  <div id=\"df-6ca96f81-0d8d-4ab7-86ee-85b9978649d0\">\n",
              "    <div class=\"colab-df-container\">\n",
              "      <div>\n",
              "<style scoped>\n",
              "    .dataframe tbody tr th:only-of-type {\n",
              "        vertical-align: middle;\n",
              "    }\n",
              "\n",
              "    .dataframe tbody tr th {\n",
              "        vertical-align: top;\n",
              "    }\n",
              "\n",
              "    .dataframe thead th {\n",
              "        text-align: right;\n",
              "    }\n",
              "</style>\n",
              "<table border=\"1\" class=\"dataframe\">\n",
              "  <thead>\n",
              "    <tr style=\"text-align: right;\">\n",
              "      <th></th>\n",
              "      <th>RowId</th>\n",
              "      <th>Date</th>\n",
              "      <th>SecuritiesCode</th>\n",
              "      <th>Open</th>\n",
              "      <th>High</th>\n",
              "      <th>Low</th>\n",
              "      <th>Close</th>\n",
              "      <th>Volume</th>\n",
              "      <th>AdjustmentFactor</th>\n",
              "      <th>SupervisionFlag</th>\n",
              "      <th>Target</th>\n",
              "    </tr>\n",
              "  </thead>\n",
              "  <tbody>\n",
              "    <tr>\n",
              "      <th>0</th>\n",
              "      <td>20170104_1301</td>\n",
              "      <td>2017-01-04</td>\n",
              "      <td>1301</td>\n",
              "      <td>2734.0</td>\n",
              "      <td>2755.0</td>\n",
              "      <td>2730.0</td>\n",
              "      <td>2742.0</td>\n",
              "      <td>31400</td>\n",
              "      <td>1.0</td>\n",
              "      <td>0</td>\n",
              "      <td>0.000730</td>\n",
              "    </tr>\n",
              "    <tr>\n",
              "      <th>1</th>\n",
              "      <td>20170104_1332</td>\n",
              "      <td>2017-01-04</td>\n",
              "      <td>1332</td>\n",
              "      <td>568.0</td>\n",
              "      <td>576.0</td>\n",
              "      <td>563.0</td>\n",
              "      <td>571.0</td>\n",
              "      <td>2798500</td>\n",
              "      <td>1.0</td>\n",
              "      <td>0</td>\n",
              "      <td>0.012324</td>\n",
              "    </tr>\n",
              "    <tr>\n",
              "      <th>2</th>\n",
              "      <td>20170104_1333</td>\n",
              "      <td>2017-01-04</td>\n",
              "      <td>1333</td>\n",
              "      <td>3150.0</td>\n",
              "      <td>3210.0</td>\n",
              "      <td>3140.0</td>\n",
              "      <td>3210.0</td>\n",
              "      <td>270800</td>\n",
              "      <td>1.0</td>\n",
              "      <td>0</td>\n",
              "      <td>0.006154</td>\n",
              "    </tr>\n",
              "    <tr>\n",
              "      <th>3</th>\n",
              "      <td>20170104_1376</td>\n",
              "      <td>2017-01-04</td>\n",
              "      <td>1376</td>\n",
              "      <td>1510.0</td>\n",
              "      <td>1550.0</td>\n",
              "      <td>1510.0</td>\n",
              "      <td>1550.0</td>\n",
              "      <td>11300</td>\n",
              "      <td>1.0</td>\n",
              "      <td>0</td>\n",
              "      <td>0.011053</td>\n",
              "    </tr>\n",
              "    <tr>\n",
              "      <th>4</th>\n",
              "      <td>20170104_1377</td>\n",
              "      <td>2017-01-04</td>\n",
              "      <td>1377</td>\n",
              "      <td>3270.0</td>\n",
              "      <td>3350.0</td>\n",
              "      <td>3270.0</td>\n",
              "      <td>3330.0</td>\n",
              "      <td>150800</td>\n",
              "      <td>1.0</td>\n",
              "      <td>0</td>\n",
              "      <td>0.003026</td>\n",
              "    </tr>\n",
              "  </tbody>\n",
              "</table>\n",
              "</div>\n",
              "      <button class=\"colab-df-convert\" onclick=\"convertToInteractive('df-6ca96f81-0d8d-4ab7-86ee-85b9978649d0')\"\n",
              "              title=\"Convert this dataframe to an interactive table.\"\n",
              "              style=\"display:none;\">\n",
              "        \n",
              "  <svg xmlns=\"http://www.w3.org/2000/svg\" height=\"24px\"viewBox=\"0 0 24 24\"\n",
              "       width=\"24px\">\n",
              "    <path d=\"M0 0h24v24H0V0z\" fill=\"none\"/>\n",
              "    <path d=\"M18.56 5.44l.94 2.06.94-2.06 2.06-.94-2.06-.94-.94-2.06-.94 2.06-2.06.94zm-11 1L8.5 8.5l.94-2.06 2.06-.94-2.06-.94L8.5 2.5l-.94 2.06-2.06.94zm10 10l.94 2.06.94-2.06 2.06-.94-2.06-.94-.94-2.06-.94 2.06-2.06.94z\"/><path d=\"M17.41 7.96l-1.37-1.37c-.4-.4-.92-.59-1.43-.59-.52 0-1.04.2-1.43.59L10.3 9.45l-7.72 7.72c-.78.78-.78 2.05 0 2.83L4 21.41c.39.39.9.59 1.41.59.51 0 1.02-.2 1.41-.59l7.78-7.78 2.81-2.81c.8-.78.8-2.07 0-2.86zM5.41 20L4 18.59l7.72-7.72 1.47 1.35L5.41 20z\"/>\n",
              "  </svg>\n",
              "      </button>\n",
              "      \n",
              "  <style>\n",
              "    .colab-df-container {\n",
              "      display:flex;\n",
              "      flex-wrap:wrap;\n",
              "      gap: 12px;\n",
              "    }\n",
              "\n",
              "    .colab-df-convert {\n",
              "      background-color: #E8F0FE;\n",
              "      border: none;\n",
              "      border-radius: 50%;\n",
              "      cursor: pointer;\n",
              "      display: none;\n",
              "      fill: #1967D2;\n",
              "      height: 32px;\n",
              "      padding: 0 0 0 0;\n",
              "      width: 32px;\n",
              "    }\n",
              "\n",
              "    .colab-df-convert:hover {\n",
              "      background-color: #E2EBFA;\n",
              "      box-shadow: 0px 1px 2px rgba(60, 64, 67, 0.3), 0px 1px 3px 1px rgba(60, 64, 67, 0.15);\n",
              "      fill: #174EA6;\n",
              "    }\n",
              "\n",
              "    [theme=dark] .colab-df-convert {\n",
              "      background-color: #3B4455;\n",
              "      fill: #D2E3FC;\n",
              "    }\n",
              "\n",
              "    [theme=dark] .colab-df-convert:hover {\n",
              "      background-color: #434B5C;\n",
              "      box-shadow: 0px 1px 3px 1px rgba(0, 0, 0, 0.15);\n",
              "      filter: drop-shadow(0px 1px 2px rgba(0, 0, 0, 0.3));\n",
              "      fill: #FFFFFF;\n",
              "    }\n",
              "  </style>\n",
              "\n",
              "      <script>\n",
              "        const buttonEl =\n",
              "          document.querySelector('#df-6ca96f81-0d8d-4ab7-86ee-85b9978649d0 button.colab-df-convert');\n",
              "        buttonEl.style.display =\n",
              "          google.colab.kernel.accessAllowed ? 'block' : 'none';\n",
              "\n",
              "        async function convertToInteractive(key) {\n",
              "          const element = document.querySelector('#df-6ca96f81-0d8d-4ab7-86ee-85b9978649d0');\n",
              "          const dataTable =\n",
              "            await google.colab.kernel.invokeFunction('convertToInteractive',\n",
              "                                                     [key], {});\n",
              "          if (!dataTable) return;\n",
              "\n",
              "          const docLinkHtml = 'Like what you see? Visit the ' +\n",
              "            '<a target=\"_blank\" href=https://colab.research.google.com/notebooks/data_table.ipynb>data table notebook</a>'\n",
              "            + ' to learn more about interactive tables.';\n",
              "          element.innerHTML = '';\n",
              "          dataTable['output_type'] = 'display_data';\n",
              "          await google.colab.output.renderOutput(dataTable, element);\n",
              "          const docLink = document.createElement('div');\n",
              "          docLink.innerHTML = docLinkHtml;\n",
              "          element.appendChild(docLink);\n",
              "        }\n",
              "      </script>\n",
              "    </div>\n",
              "  </div>\n",
              "  "
            ]
          },
          "metadata": {},
          "execution_count": 52
        }
      ]
    },
    {
      "cell_type": "code",
      "source": [
        "stock_price_df = stock_price_df.dropna(how='any')\n",
        "# Confirmation of missing information\n",
        "stock_price_df_na = (stock_price_df.isnull().sum() / len(stock_price_df)) * 100\n",
        "stock_price_df_na = stock_price_df_na.drop(stock_price_df_na[stock_price_df_na == 0].index).sort_values(ascending=False)[:30]\n",
        "missing_data = pd.DataFrame({'Missing Ratio' :stock_price_df_na})\n",
        "missing_data.head(22)"
      ],
      "metadata": {
        "colab": {
          "base_uri": "https://localhost:8080/",
          "height": 49
        },
        "id": "spVzkqQqu25o",
        "outputId": "cf13dccc-cc2b-4d8e-c4a6-b0a1a3ae3598"
      },
      "execution_count": null,
      "outputs": [
        {
          "output_type": "execute_result",
          "data": {
            "text/plain": [
              "Empty DataFrame\n",
              "Columns: [Missing Ratio]\n",
              "Index: []"
            ],
            "text/html": [
              "\n",
              "  <div id=\"df-49f297ff-6800-4baa-bf44-8d061f4da464\">\n",
              "    <div class=\"colab-df-container\">\n",
              "      <div>\n",
              "<style scoped>\n",
              "    .dataframe tbody tr th:only-of-type {\n",
              "        vertical-align: middle;\n",
              "    }\n",
              "\n",
              "    .dataframe tbody tr th {\n",
              "        vertical-align: top;\n",
              "    }\n",
              "\n",
              "    .dataframe thead th {\n",
              "        text-align: right;\n",
              "    }\n",
              "</style>\n",
              "<table border=\"1\" class=\"dataframe\">\n",
              "  <thead>\n",
              "    <tr style=\"text-align: right;\">\n",
              "      <th></th>\n",
              "      <th>Missing Ratio</th>\n",
              "    </tr>\n",
              "  </thead>\n",
              "  <tbody>\n",
              "  </tbody>\n",
              "</table>\n",
              "</div>\n",
              "      <button class=\"colab-df-convert\" onclick=\"convertToInteractive('df-49f297ff-6800-4baa-bf44-8d061f4da464')\"\n",
              "              title=\"Convert this dataframe to an interactive table.\"\n",
              "              style=\"display:none;\">\n",
              "        \n",
              "  <svg xmlns=\"http://www.w3.org/2000/svg\" height=\"24px\"viewBox=\"0 0 24 24\"\n",
              "       width=\"24px\">\n",
              "    <path d=\"M0 0h24v24H0V0z\" fill=\"none\"/>\n",
              "    <path d=\"M18.56 5.44l.94 2.06.94-2.06 2.06-.94-2.06-.94-.94-2.06-.94 2.06-2.06.94zm-11 1L8.5 8.5l.94-2.06 2.06-.94-2.06-.94L8.5 2.5l-.94 2.06-2.06.94zm10 10l.94 2.06.94-2.06 2.06-.94-2.06-.94-.94-2.06-.94 2.06-2.06.94z\"/><path d=\"M17.41 7.96l-1.37-1.37c-.4-.4-.92-.59-1.43-.59-.52 0-1.04.2-1.43.59L10.3 9.45l-7.72 7.72c-.78.78-.78 2.05 0 2.83L4 21.41c.39.39.9.59 1.41.59.51 0 1.02-.2 1.41-.59l7.78-7.78 2.81-2.81c.8-.78.8-2.07 0-2.86zM5.41 20L4 18.59l7.72-7.72 1.47 1.35L5.41 20z\"/>\n",
              "  </svg>\n",
              "      </button>\n",
              "      \n",
              "  <style>\n",
              "    .colab-df-container {\n",
              "      display:flex;\n",
              "      flex-wrap:wrap;\n",
              "      gap: 12px;\n",
              "    }\n",
              "\n",
              "    .colab-df-convert {\n",
              "      background-color: #E8F0FE;\n",
              "      border: none;\n",
              "      border-radius: 50%;\n",
              "      cursor: pointer;\n",
              "      display: none;\n",
              "      fill: #1967D2;\n",
              "      height: 32px;\n",
              "      padding: 0 0 0 0;\n",
              "      width: 32px;\n",
              "    }\n",
              "\n",
              "    .colab-df-convert:hover {\n",
              "      background-color: #E2EBFA;\n",
              "      box-shadow: 0px 1px 2px rgba(60, 64, 67, 0.3), 0px 1px 3px 1px rgba(60, 64, 67, 0.15);\n",
              "      fill: #174EA6;\n",
              "    }\n",
              "\n",
              "    [theme=dark] .colab-df-convert {\n",
              "      background-color: #3B4455;\n",
              "      fill: #D2E3FC;\n",
              "    }\n",
              "\n",
              "    [theme=dark] .colab-df-convert:hover {\n",
              "      background-color: #434B5C;\n",
              "      box-shadow: 0px 1px 3px 1px rgba(0, 0, 0, 0.15);\n",
              "      filter: drop-shadow(0px 1px 2px rgba(0, 0, 0, 0.3));\n",
              "      fill: #FFFFFF;\n",
              "    }\n",
              "  </style>\n",
              "\n",
              "      <script>\n",
              "        const buttonEl =\n",
              "          document.querySelector('#df-49f297ff-6800-4baa-bf44-8d061f4da464 button.colab-df-convert');\n",
              "        buttonEl.style.display =\n",
              "          google.colab.kernel.accessAllowed ? 'block' : 'none';\n",
              "\n",
              "        async function convertToInteractive(key) {\n",
              "          const element = document.querySelector('#df-49f297ff-6800-4baa-bf44-8d061f4da464');\n",
              "          const dataTable =\n",
              "            await google.colab.kernel.invokeFunction('convertToInteractive',\n",
              "                                                     [key], {});\n",
              "          if (!dataTable) return;\n",
              "\n",
              "          const docLinkHtml = 'Like what you see? Visit the ' +\n",
              "            '<a target=\"_blank\" href=https://colab.research.google.com/notebooks/data_table.ipynb>data table notebook</a>'\n",
              "            + ' to learn more about interactive tables.';\n",
              "          element.innerHTML = '';\n",
              "          dataTable['output_type'] = 'display_data';\n",
              "          await google.colab.output.renderOutput(dataTable, element);\n",
              "          const docLink = document.createElement('div');\n",
              "          docLink.innerHTML = docLinkHtml;\n",
              "          element.appendChild(docLink);\n",
              "        }\n",
              "      </script>\n",
              "    </div>\n",
              "  </div>\n",
              "  "
            ]
          },
          "metadata": {},
          "execution_count": 53
        }
      ]
    },
    {
      "cell_type": "code",
      "source": [
        "np.ceil(stock_price_df['Date'].nunique() * 0.8)"
      ],
      "metadata": {
        "colab": {
          "base_uri": "https://localhost:8080/"
        },
        "id": "7sDUUaOKrgNY",
        "outputId": "4e7f1936-d658-4118-ee96-5252aa2e595b"
      },
      "execution_count": null,
      "outputs": [
        {
          "output_type": "execute_result",
          "data": {
            "text/plain": [
              "962.0"
            ]
          },
          "metadata": {},
          "execution_count": 45
        }
      ]
    },
    {
      "cell_type": "code",
      "source": [
        "stock_price_df['Date'].unique()"
      ],
      "metadata": {
        "colab": {
          "base_uri": "https://localhost:8080/"
        },
        "id": "sCtX6uppskkh",
        "outputId": "08b94f4d-a483-48f4-d152-44f85fa9ea59"
      },
      "execution_count": null,
      "outputs": [
        {
          "output_type": "execute_result",
          "data": {
            "text/plain": [
              "array(['2017-01-04', '2017-01-05', '2017-01-06', ..., '2021-12-01',\n",
              "       '2021-12-02', '2021-12-03'], dtype=object)"
            ]
          },
          "metadata": {},
          "execution_count": 46
        }
      ]
    },
    {
      "cell_type": "code",
      "source": [
        "stock_price_df['Date'].unique()[962]"
      ],
      "metadata": {
        "colab": {
          "base_uri": "https://localhost:8080/",
          "height": 36
        },
        "id": "9FD7SDaTsVTO",
        "outputId": "45f98e97-59ca-4fc5-93e2-1507251036b5"
      },
      "execution_count": null,
      "outputs": [
        {
          "output_type": "execute_result",
          "data": {
            "text/plain": [
              "'2020-12-11'"
            ],
            "application/vnd.google.colaboratory.intrinsic+json": {
              "type": "string"
            }
          },
          "metadata": {},
          "execution_count": 47
        }
      ]
    },
    {
      "cell_type": "markdown",
      "source": [
        "2020-12-11일 까지 train, 그 이후는 test"
      ],
      "metadata": {
        "id": "_JedDdW7sfTN"
      }
    },
    {
      "cell_type": "code",
      "source": [
        "# train, test split\n",
        "train_df = stock_price_df[(stock_price_df['Date']<'2020-12-11') == True]\n",
        "test_df = stock_price_df[(stock_price_df['Date']<'2020-12-11') == False]"
      ],
      "metadata": {
        "id": "mcqP6gtmseI5"
      },
      "execution_count": null,
      "outputs": []
    },
    {
      "cell_type": "code",
      "source": [
        "# create LSTM model\n",
        "import torch\n",
        "import torch.nn as nn\n",
        "import torch.nn.functional as F\n",
        "\n",
        "class LSTM(nn.Module):\n",
        "    def __init__(self, input_size=8, sequence_num=31, lstm_dim=128,\n",
        "                 num_layers=2, output_size=1):\n",
        "        super().__init__()\n",
        "        \n",
        "        self.lstm = nn.LSTM(input_size, lstm_dim, num_layers, batch_first=True, bidirectional=True)\n",
        "        self.linear1 = nn.Linear(lstm_dim*sequence_num*2, 1)\n",
        "        self.bn1 = nn.BatchNorm1d(lstm_dim*sequence_num*2)\n",
        "\n",
        "    def forward(self, x):\n",
        "        lstm_out, _ = self.lstm(x)\n",
        "        x = lstm_out.reshape(lstm_out.shape[0], -1)\n",
        "        x = self.linear1(self.bn1(x))\n",
        "        return x"
      ],
      "metadata": {
        "id": "5eDqhhD5IbrO"
      },
      "execution_count": null,
      "outputs": []
    },
    {
      "cell_type": "code",
      "source": [
        "# train 데이터 scaling\n",
        "from sklearn.preprocessing import StandardScaler\n",
        "stdsc = StandardScaler()\n",
        "columns = ['Open', 'High', 'Low', 'Close', 'Volume', 'AdjustmentFactor', 'SupervisionFlag']\n",
        "train_df[columns] = stdsc.fit_transform(train_df[columns])\n",
        "train_df.head()"
      ],
      "metadata": {
        "id": "V_fUDBT1Ib3X",
        "colab": {
          "base_uri": "https://localhost:8080/",
          "height": 206
        },
        "outputId": "c9229a5c-ec7e-48fe-a751-e85f5718246b"
      },
      "execution_count": null,
      "outputs": [
        {
          "output_type": "execute_result",
          "data": {
            "text/plain": [
              "           RowId       Date  SecuritiesCode      Open      High       Low  \\\n",
              "0  20170104_1301 2017-01-04            1301  0.062786  0.059048  0.072137   \n",
              "1  20170104_1332 2017-01-04            1332 -0.588727 -0.588938 -0.587459   \n",
              "2  20170104_1333 2017-01-04            1333  0.187915  0.194354  0.196934   \n",
              "3  20170104_1376 2017-01-04            1376 -0.305382 -0.299292 -0.299209   \n",
              "4  20170104_1377 2017-01-04            1377  0.224010  0.235987  0.236503   \n",
              "\n",
              "      Close    Volume  AdjustmentFactor  SupervisionFlag    Target  \n",
              "0  0.065252 -0.163970         -0.008676        -0.022845  0.000730  \n",
              "1 -0.587793  0.498531         -0.008676        -0.022845  0.012324  \n",
              "2  0.206028 -0.106652         -0.008676        -0.022845  0.006154  \n",
              "3 -0.293306 -0.168782         -0.008676        -0.022845  0.011053  \n",
              "4  0.242125 -0.135383         -0.008676        -0.022845  0.003026  "
            ],
            "text/html": [
              "\n",
              "  <div id=\"df-53357b36-a841-4642-ae9a-dfa8185a372a\">\n",
              "    <div class=\"colab-df-container\">\n",
              "      <div>\n",
              "<style scoped>\n",
              "    .dataframe tbody tr th:only-of-type {\n",
              "        vertical-align: middle;\n",
              "    }\n",
              "\n",
              "    .dataframe tbody tr th {\n",
              "        vertical-align: top;\n",
              "    }\n",
              "\n",
              "    .dataframe thead th {\n",
              "        text-align: right;\n",
              "    }\n",
              "</style>\n",
              "<table border=\"1\" class=\"dataframe\">\n",
              "  <thead>\n",
              "    <tr style=\"text-align: right;\">\n",
              "      <th></th>\n",
              "      <th>RowId</th>\n",
              "      <th>Date</th>\n",
              "      <th>SecuritiesCode</th>\n",
              "      <th>Open</th>\n",
              "      <th>High</th>\n",
              "      <th>Low</th>\n",
              "      <th>Close</th>\n",
              "      <th>Volume</th>\n",
              "      <th>AdjustmentFactor</th>\n",
              "      <th>SupervisionFlag</th>\n",
              "      <th>Target</th>\n",
              "    </tr>\n",
              "  </thead>\n",
              "  <tbody>\n",
              "    <tr>\n",
              "      <th>0</th>\n",
              "      <td>20170104_1301</td>\n",
              "      <td>2017-01-04</td>\n",
              "      <td>1301</td>\n",
              "      <td>0.062786</td>\n",
              "      <td>0.059048</td>\n",
              "      <td>0.072137</td>\n",
              "      <td>0.065252</td>\n",
              "      <td>-0.163970</td>\n",
              "      <td>-0.008676</td>\n",
              "      <td>-0.022845</td>\n",
              "      <td>0.000730</td>\n",
              "    </tr>\n",
              "    <tr>\n",
              "      <th>1</th>\n",
              "      <td>20170104_1332</td>\n",
              "      <td>2017-01-04</td>\n",
              "      <td>1332</td>\n",
              "      <td>-0.588727</td>\n",
              "      <td>-0.588938</td>\n",
              "      <td>-0.587459</td>\n",
              "      <td>-0.587793</td>\n",
              "      <td>0.498531</td>\n",
              "      <td>-0.008676</td>\n",
              "      <td>-0.022845</td>\n",
              "      <td>0.012324</td>\n",
              "    </tr>\n",
              "    <tr>\n",
              "      <th>2</th>\n",
              "      <td>20170104_1333</td>\n",
              "      <td>2017-01-04</td>\n",
              "      <td>1333</td>\n",
              "      <td>0.187915</td>\n",
              "      <td>0.194354</td>\n",
              "      <td>0.196934</td>\n",
              "      <td>0.206028</td>\n",
              "      <td>-0.106652</td>\n",
              "      <td>-0.008676</td>\n",
              "      <td>-0.022845</td>\n",
              "      <td>0.006154</td>\n",
              "    </tr>\n",
              "    <tr>\n",
              "      <th>3</th>\n",
              "      <td>20170104_1376</td>\n",
              "      <td>2017-01-04</td>\n",
              "      <td>1376</td>\n",
              "      <td>-0.305382</td>\n",
              "      <td>-0.299292</td>\n",
              "      <td>-0.299209</td>\n",
              "      <td>-0.293306</td>\n",
              "      <td>-0.168782</td>\n",
              "      <td>-0.008676</td>\n",
              "      <td>-0.022845</td>\n",
              "      <td>0.011053</td>\n",
              "    </tr>\n",
              "    <tr>\n",
              "      <th>4</th>\n",
              "      <td>20170104_1377</td>\n",
              "      <td>2017-01-04</td>\n",
              "      <td>1377</td>\n",
              "      <td>0.224010</td>\n",
              "      <td>0.235987</td>\n",
              "      <td>0.236503</td>\n",
              "      <td>0.242125</td>\n",
              "      <td>-0.135383</td>\n",
              "      <td>-0.008676</td>\n",
              "      <td>-0.022845</td>\n",
              "      <td>0.003026</td>\n",
              "    </tr>\n",
              "  </tbody>\n",
              "</table>\n",
              "</div>\n",
              "      <button class=\"colab-df-convert\" onclick=\"convertToInteractive('df-53357b36-a841-4642-ae9a-dfa8185a372a')\"\n",
              "              title=\"Convert this dataframe to an interactive table.\"\n",
              "              style=\"display:none;\">\n",
              "        \n",
              "  <svg xmlns=\"http://www.w3.org/2000/svg\" height=\"24px\"viewBox=\"0 0 24 24\"\n",
              "       width=\"24px\">\n",
              "    <path d=\"M0 0h24v24H0V0z\" fill=\"none\"/>\n",
              "    <path d=\"M18.56 5.44l.94 2.06.94-2.06 2.06-.94-2.06-.94-.94-2.06-.94 2.06-2.06.94zm-11 1L8.5 8.5l.94-2.06 2.06-.94-2.06-.94L8.5 2.5l-.94 2.06-2.06.94zm10 10l.94 2.06.94-2.06 2.06-.94-2.06-.94-.94-2.06-.94 2.06-2.06.94z\"/><path d=\"M17.41 7.96l-1.37-1.37c-.4-.4-.92-.59-1.43-.59-.52 0-1.04.2-1.43.59L10.3 9.45l-7.72 7.72c-.78.78-.78 2.05 0 2.83L4 21.41c.39.39.9.59 1.41.59.51 0 1.02-.2 1.41-.59l7.78-7.78 2.81-2.81c.8-.78.8-2.07 0-2.86zM5.41 20L4 18.59l7.72-7.72 1.47 1.35L5.41 20z\"/>\n",
              "  </svg>\n",
              "      </button>\n",
              "      \n",
              "  <style>\n",
              "    .colab-df-container {\n",
              "      display:flex;\n",
              "      flex-wrap:wrap;\n",
              "      gap: 12px;\n",
              "    }\n",
              "\n",
              "    .colab-df-convert {\n",
              "      background-color: #E8F0FE;\n",
              "      border: none;\n",
              "      border-radius: 50%;\n",
              "      cursor: pointer;\n",
              "      display: none;\n",
              "      fill: #1967D2;\n",
              "      height: 32px;\n",
              "      padding: 0 0 0 0;\n",
              "      width: 32px;\n",
              "    }\n",
              "\n",
              "    .colab-df-convert:hover {\n",
              "      background-color: #E2EBFA;\n",
              "      box-shadow: 0px 1px 2px rgba(60, 64, 67, 0.3), 0px 1px 3px 1px rgba(60, 64, 67, 0.15);\n",
              "      fill: #174EA6;\n",
              "    }\n",
              "\n",
              "    [theme=dark] .colab-df-convert {\n",
              "      background-color: #3B4455;\n",
              "      fill: #D2E3FC;\n",
              "    }\n",
              "\n",
              "    [theme=dark] .colab-df-convert:hover {\n",
              "      background-color: #434B5C;\n",
              "      box-shadow: 0px 1px 3px 1px rgba(0, 0, 0, 0.15);\n",
              "      filter: drop-shadow(0px 1px 2px rgba(0, 0, 0, 0.3));\n",
              "      fill: #FFFFFF;\n",
              "    }\n",
              "  </style>\n",
              "\n",
              "      <script>\n",
              "        const buttonEl =\n",
              "          document.querySelector('#df-53357b36-a841-4642-ae9a-dfa8185a372a button.colab-df-convert');\n",
              "        buttonEl.style.display =\n",
              "          google.colab.kernel.accessAllowed ? 'block' : 'none';\n",
              "\n",
              "        async function convertToInteractive(key) {\n",
              "          const element = document.querySelector('#df-53357b36-a841-4642-ae9a-dfa8185a372a');\n",
              "          const dataTable =\n",
              "            await google.colab.kernel.invokeFunction('convertToInteractive',\n",
              "                                                     [key], {});\n",
              "          if (!dataTable) return;\n",
              "\n",
              "          const docLinkHtml = 'Like what you see? Visit the ' +\n",
              "            '<a target=\"_blank\" href=https://colab.research.google.com/notebooks/data_table.ipynb>data table notebook</a>'\n",
              "            + ' to learn more about interactive tables.';\n",
              "          element.innerHTML = '';\n",
              "          dataTable['output_type'] = 'display_data';\n",
              "          await google.colab.output.renderOutput(dataTable, element);\n",
              "          const docLink = document.createElement('div');\n",
              "          docLink.innerHTML = docLinkHtml;\n",
              "          element.appendChild(docLink);\n",
              "        }\n",
              "      </script>\n",
              "    </div>\n",
              "  </div>\n",
              "  "
            ]
          },
          "metadata": {},
          "execution_count": 56
        }
      ]
    },
    {
      "cell_type": "code",
      "source": [
        "dataset_dict = {}\n",
        "for sc in train_df['SecuritiesCode'].unique():\n",
        "    dataset_dict[str(sc)] = train_df[train_df['SecuritiesCode'] == sc].values[:, 3:].astype(np.float32)\n",
        "print(dataset_dict['1301'].shape)"
      ],
      "metadata": {
        "id": "jNXi68NRIb71",
        "colab": {
          "base_uri": "https://localhost:8080/"
        },
        "outputId": "5afa7a14-aeae-428d-98d7-327179357e8c"
      },
      "execution_count": null,
      "outputs": [
        {
          "output_type": "stream",
          "name": "stdout",
          "text": [
            "(961, 8)\n"
          ]
        }
      ]
    },
    {
      "cell_type": "code",
      "source": [
        "test_dataset_dict = {}\n",
        "for sc in test_df['SecuritiesCode'].unique():\n",
        "    dataset_dict[str(sc)] = test_df[test_df['SecuritiesCode'] == sc].values[:, 3:].astype(np.float32)\n",
        "print(dataset_dict['1301'].shape)"
      ],
      "metadata": {
        "colab": {
          "base_uri": "https://localhost:8080/"
        },
        "id": "XWYm7rD92oaE",
        "outputId": "a7e12014-a7a1-4d96-918d-dabdb18c607f"
      },
      "execution_count": null,
      "outputs": [
        {
          "output_type": "stream",
          "name": "stdout",
          "text": [
            "(240, 8)\n"
          ]
        }
      ]
    },
    {
      "cell_type": "code",
      "source": [
        "from torch.utils.data.sampler import SubsetRandomSampler\n",
        "class MyDataset(torch.utils.data.Dataset):\n",
        "    def __init__(self, X, sequence_num=31, y=None, mode='train'):\n",
        "        self.data = X\n",
        "        self.teacher = y\n",
        "        self.sequence_num = sequence_num\n",
        "        self.mode = mode\n",
        "    def __len__(self):\n",
        "        return len(self.teacher)\n",
        "\n",
        "    def __getitem__(self, idx):\n",
        "        out_data = self.data[idx]\n",
        "        if self.mode == 'train':\n",
        "            out_label =  self.teacher[idx[-1]]\n",
        "            return out_data, out_label\n",
        "        else:\n",
        "            return out_data\n",
        "def create_dataloader(dataset, dataset_num, sequence_num=31, input_size=8, batch_size=32, shuffle=False):\n",
        "    sampler = np.array([list(range(i, i+sequence_num)) for i in range(dataset_num-sequence_num+1)])\n",
        "    if shuffle == True:\n",
        "        np.random.shuffle(sampler)\n",
        "    dataloader = torch.utils.data.DataLoader(dataset, batch_size, sampler=sampler)\n",
        "    return dataloader\n",
        "#### Check operation ####\n",
        "X_check, y_check = dataset_dict['1301'][:, :-1], dataset_dict['1301'][:, -1]\n",
        "dataset_check = MyDataset(X_check, y=y_check, sequence_num=31, mode='train')\n",
        "dataloader_check = create_dataloader(dataset_check, X_check.shape[0], sequence_num=31, input_size=7, batch_size=32, shuffle=False)\n",
        "for b, tup in enumerate(dataloader_check):\n",
        "    print('---------')\n",
        "    print(tup[0].shape, tup[1].shape)\n",
        "    break"
      ],
      "metadata": {
        "id": "pjDeICPYFpzt",
        "colab": {
          "base_uri": "https://localhost:8080/"
        },
        "outputId": "479881ed-e6f0-4b2a-97ae-48f0ab551739"
      },
      "execution_count": null,
      "outputs": [
        {
          "output_type": "stream",
          "name": "stdout",
          "text": [
            "---------\n",
            "torch.Size([32, 31, 7]) torch.Size([32])\n"
          ]
        }
      ]
    },
    {
      "cell_type": "code",
      "source": [
        "from tqdm import tqdm\n",
        "for sc in tqdm(train_df['SecuritiesCode'].unique()):\n",
        "    X, y = dataset_dict[str(sc)][:, :-1], dataset_dict[str(sc)][:, -1]"
      ],
      "metadata": {
        "id": "iKYwkM7S_TAV",
        "colab": {
          "base_uri": "https://localhost:8080/"
        },
        "outputId": "bd7c139c-a222-40af-b342-2b2cee4a6d14"
      },
      "execution_count": null,
      "outputs": [
        {
          "output_type": "stream",
          "name": "stderr",
          "text": [
            "100%|██████████| 1991/1991 [00:00<00:00, 350449.42it/s]\n"
          ]
        }
      ]
    },
    {
      "cell_type": "code",
      "source": [
        "X.shape"
      ],
      "metadata": {
        "colab": {
          "base_uri": "https://localhost:8080/"
        },
        "id": "GyxWDQacPYOQ",
        "outputId": "f1651cac-5b20-4aaf-bc8c-cd6e669f2293"
      },
      "execution_count": null,
      "outputs": [
        {
          "output_type": "execute_result",
          "data": {
            "text/plain": [
              "(240, 7)"
            ]
          },
          "metadata": {},
          "execution_count": 67
        }
      ]
    },
    {
      "cell_type": "code",
      "source": [
        "# training\n",
        "from tqdm import tqdm\n",
        "epochs = 3 # 원래 10\n",
        "batch_size = 512\n",
        "# Check wheter GPU is available\n",
        "device = torch.device('cuda:0' if torch.cuda.is_available() else 'cpu')\n",
        "# Model Instantiation\n",
        "model = LSTM(input_size=7, sequence_num=31, lstm_dim=128, num_layers=2, output_size=1)\n",
        "model.to(device)\n",
        "model.train()\n",
        "# setting optimizer\n",
        "lr = 0.0001\n",
        "weight_decay = 1.0e-05\n",
        "optimizer = torch.optim.Adagrad(model.parameters(), lr=lr, weight_decay=weight_decay)\n",
        "# setting criterion\n",
        "criterion = nn.MSELoss()\n",
        "# set iteration counter\n",
        "iteration = 0\n",
        "# \n",
        "log_train = [[0], [np.inf]]\n",
        "for epoch in range(epochs):\n",
        "    epoch_loss = 0.0\n",
        "    for sc in tqdm(train_df['SecuritiesCode'].unique()):\n",
        "        X, y = dataset_dict[str(sc)][:, :-1], dataset_dict[str(sc)][:, -1]\n",
        "        dataset = MyDataset(X, y=y, sequence_num=31, mode='train')\n",
        "        dataloader = create_dataloader(dataset, X.shape[0], sequence_num=31, input_size=7, batch_size=batch_size, shuffle=True)\n",
        "        for data, targets in dataloader:\n",
        "            data, targets = data.to(device), targets.to(device)\n",
        "            \n",
        "            optimizer.zero_grad()\n",
        "            \n",
        "            data = data.to(torch.float32)\n",
        "            output = model.forward(data)\n",
        "            targets = targets.to(torch.float32)\n",
        "            \n",
        "            loss = criterion(output.view(1,-1)[0], targets)\n",
        "            \n",
        "            loss.backward()\n",
        "            \n",
        "            optimizer.step()\n",
        "            \n",
        "            epoch_loss += loss.item()\n",
        "            \n",
        "            iteration += 1\n",
        "    epoch_loss /= iteration\n",
        "    print('epoch_loss={}'.format(epoch_loss))\n",
        "    log_train[0].append(iteration)\n",
        "    log_train[1].append(epoch_loss)"
      ],
      "metadata": {
        "id": "3NwQufpsFp4s",
        "colab": {
          "base_uri": "https://localhost:8080/"
        },
        "outputId": "d545052f-4bdf-4f1b-86e6-67d3425ce13b"
      },
      "execution_count": null,
      "outputs": [
        {
          "output_type": "stream",
          "name": "stderr",
          "text": [
            "100%|██████████| 1991/1991 [01:32<00:00, 21.61it/s]\n"
          ]
        },
        {
          "output_type": "stream",
          "name": "stdout",
          "text": [
            "epoch_loss=0.002837149608514034\n"
          ]
        },
        {
          "output_type": "stream",
          "name": "stderr",
          "text": [
            "100%|██████████| 1991/1991 [01:34<00:00, 21.16it/s]\n"
          ]
        },
        {
          "output_type": "stream",
          "name": "stdout",
          "text": [
            "epoch_loss=0.0007904093088185606\n"
          ]
        },
        {
          "output_type": "stream",
          "name": "stderr",
          "text": [
            "100%|██████████| 1991/1991 [01:36<00:00, 20.68it/s]"
          ]
        },
        {
          "output_type": "stream",
          "name": "stdout",
          "text": [
            "epoch_loss=0.0004549789762452756\n"
          ]
        },
        {
          "output_type": "stream",
          "name": "stderr",
          "text": [
            "\n"
          ]
        }
      ]
    },
    {
      "cell_type": "code",
      "source": [
        "# model.save(f'lstm_model_naive.h5')"
      ],
      "metadata": {
        "colab": {
          "base_uri": "https://localhost:8080/",
          "height": 303
        },
        "id": "-7kMzmA7URid",
        "outputId": "b8c7153a-aa0e-4868-d56f-d20434a429a0"
      },
      "execution_count": null,
      "outputs": [
        {
          "output_type": "error",
          "ename": "AttributeError",
          "evalue": "ignored",
          "traceback": [
            "\u001b[0;31m---------------------------------------------------------------------------\u001b[0m",
            "\u001b[0;31mAttributeError\u001b[0m                            Traceback (most recent call last)",
            "\u001b[0;32m<ipython-input-43-a5ba4938d761>\u001b[0m in \u001b[0;36m<module>\u001b[0;34m()\u001b[0m\n\u001b[0;32m----> 1\u001b[0;31m \u001b[0mmodel\u001b[0m\u001b[0;34m.\u001b[0m\u001b[0msave\u001b[0m\u001b[0;34m(\u001b[0m\u001b[0;34mf'lstm_model_naive.h5'\u001b[0m\u001b[0;34m)\u001b[0m\u001b[0;34m\u001b[0m\u001b[0;34m\u001b[0m\u001b[0m\n\u001b[0m",
            "\u001b[0;32m/usr/local/lib/python3.7/dist-packages/torch/nn/modules/module.py\u001b[0m in \u001b[0;36m__getattr__\u001b[0;34m(self, name)\u001b[0m\n\u001b[1;32m   1184\u001b[0m                 \u001b[0;32mreturn\u001b[0m \u001b[0mmodules\u001b[0m\u001b[0;34m[\u001b[0m\u001b[0mname\u001b[0m\u001b[0;34m]\u001b[0m\u001b[0;34m\u001b[0m\u001b[0;34m\u001b[0m\u001b[0m\n\u001b[1;32m   1185\u001b[0m         raise AttributeError(\"'{}' object has no attribute '{}'\".format(\n\u001b[0;32m-> 1186\u001b[0;31m             type(self).__name__, name))\n\u001b[0m\u001b[1;32m   1187\u001b[0m \u001b[0;34m\u001b[0m\u001b[0m\n\u001b[1;32m   1188\u001b[0m     \u001b[0;32mdef\u001b[0m \u001b[0m__setattr__\u001b[0m\u001b[0;34m(\u001b[0m\u001b[0mself\u001b[0m\u001b[0;34m,\u001b[0m \u001b[0mname\u001b[0m\u001b[0;34m:\u001b[0m \u001b[0mstr\u001b[0m\u001b[0;34m,\u001b[0m \u001b[0mvalue\u001b[0m\u001b[0;34m:\u001b[0m \u001b[0mUnion\u001b[0m\u001b[0;34m[\u001b[0m\u001b[0mTensor\u001b[0m\u001b[0;34m,\u001b[0m \u001b[0;34m'Module'\u001b[0m\u001b[0;34m]\u001b[0m\u001b[0;34m)\u001b[0m \u001b[0;34m->\u001b[0m \u001b[0;32mNone\u001b[0m\u001b[0;34m:\u001b[0m\u001b[0;34m\u001b[0m\u001b[0;34m\u001b[0m\u001b[0m\n",
            "\u001b[0;31mAttributeError\u001b[0m: 'LSTM' object has no attribute 'save'"
          ]
        }
      ]
    },
    {
      "cell_type": "code",
      "source": [
        "import matplotlib.pyplot as plt\n",
        "plt.plot(log_train[0][1:], log_train[1][1:])\n",
        "plt.xlabel('epoch')\n",
        "plt.ylabel('loss')\n",
        "plt.show()"
      ],
      "metadata": {
        "colab": {
          "base_uri": "https://localhost:8080/",
          "height": 297
        },
        "id": "YwC_ub02ThRh",
        "outputId": "75ade30e-ce7b-4536-d4f1-9490276f6f27"
      },
      "execution_count": null,
      "outputs": [
        {
          "output_type": "stream",
          "name": "stderr",
          "text": [
            "findfont: Font family ['NanumBarunGothic'] not found. Falling back to DejaVu Sans.\n"
          ]
        },
        {
          "output_type": "display_data",
          "data": {
            "text/plain": [
              "<Figure size 432x288 with 1 Axes>"
            ],
            "image/png": "[encoded data removed]"
          },
          "metadata": {
            "needs_background": "light"
          }
        }
      ]
    },
    {
      "cell_type": "markdown",
      "source": [
        ""
      ],
      "metadata": {
        "id": "JxZAZea6xdOZ"
      }
    },
    {
      "cell_type": "code",
      "source": [
        "import jpx_tokyo_market_prediction\n",
        "# env = jpx_tokyo_market_prediction.make_env()\n",
        "#iter_test = env.iter_test()"
      ],
      "metadata": {
        "id": "5cTW2W7hDVcj"
      },
      "execution_count": null,
      "outputs": []
    },
    {
      "cell_type": "code",
      "source": [
        "# prediction\n",
        "from datetime import datetime\n",
        "def predict(model, X_df, sequence=31):\n",
        "    pred_df = X_df[['Date', 'SecuritiesCode']]\n",
        "    # Grouping by `groupby` and retrieving one by one\n",
        "    code_group = X_df.groupby('SecuritiesCode')\n",
        "    X_all = np.array([])\n",
        "    for sc, group in code_group:\n",
        "        # Standardize target data\n",
        "        group_std = stdsc.transform(group[columns])\n",
        "        # Calling up past data of the target data\n",
        "        X = dataset_dict[str(sc)][-1*(sequence-1):, :-1]\n",
        "        # concat\n",
        "        X = np.vstack((X, group_std))\n",
        "        X_all = np.append(X_all, X)\n",
        "    X_all = X_all.reshape(-1, sequence, X.shape[1])\n",
        "    y_pred = np.array([])\n",
        "    for it in range(X_all.shape[0]//512+1):\n",
        "        data = X_all[it*512:(it+1)*512]\n",
        "        data = torch.from_numpy(data.astype(np.float32)).clone()\n",
        "        data = data.to(torch.float32)\n",
        "        data = data.to(device)\n",
        "        output = model.forward(data)\n",
        "        output = output.view(1, -1)\n",
        "        output = output.to('cpu').detach().numpy().copy()\n",
        "        y_pred = np.append(y_pred, output[0])\n",
        "    pred_df['target'] = y_pred\n",
        "    pred_df['Rank'] = pred_df[\"target\"].rank(ascending=False,method=\"first\") -1\n",
        "    pred_df['Rank'] = pred_df['Rank'].astype(int)\n",
        "    pred_df = pred_df.drop('target', axis=1)\n",
        "    return pred_df\n",
        "test_X_df = stock_price_df[stock_price_df['Date'] == datetime(2021, 12, 3)].drop('Target', axis=1) # 2021년 12월 3일 target값 예측\n",
        "y_pred = predict(model, test_X_df)\n",
        "print(y_pred.shape)\n",
        "print(y_pred)"
      ],
      "metadata": {
        "id": "7pu4wm9E9qVM",
        "colab": {
          "base_uri": "https://localhost:8080/"
        },
        "outputId": "1506aca6-808a-4de0-ada0-41c634635a97"
      },
      "execution_count": null,
      "outputs": [
        {
          "output_type": "stream",
          "name": "stdout",
          "text": [
            "(1995, 3)\n",
            "              Date  SecuritiesCode  Rank\n",
            "2330531 2021-12-03            1301   513\n",
            "2330532 2021-12-03            1332  1255\n",
            "2330533 2021-12-03            1333   652\n",
            "2330534 2021-12-03            1375   869\n",
            "2330535 2021-12-03            1376   774\n",
            "...            ...             ...   ...\n",
            "2332526 2021-12-03            9990  1780\n",
            "2332527 2021-12-03            9991  1678\n",
            "2332528 2021-12-03            9993  1222\n",
            "2332529 2021-12-03            9994   789\n",
            "2332530 2021-12-03            9997  1729\n",
            "\n",
            "[1995 rows x 3 columns]\n"
          ]
        }
      ]
    },
    {
      "cell_type": "code",
      "source": [
        "count = 0\n",
        "for (prices, options, financials, trades, secondary_prices, sample_prediction) in iter_test:\n",
        "    prices = prices.fillna(0)\n",
        "    prices['SupervisionFlag'] = prices['SupervisionFlag'].map({True: 1, False: 0})\n",
        "    prices['Date'] = pd.to_datetime(prices['Date'])\n",
        "    pred_df = predict(model, prices)\n",
        "    print(pred_df)\n",
        "    env.predict(pred_df)\n",
        "    count += 1"
      ],
      "metadata": {
        "id": "yzRN6j3x9qZd",
        "colab": {
          "base_uri": "https://localhost:8080/"
        },
        "outputId": "f7074003-b2a2-4df7-f6c3-924bfaac0af4"
      },
      "execution_count": null,
      "outputs": [
        {
          "output_type": "stream",
          "name": "stdout",
          "text": [
            "This version of the API is not optimized and should not be used to estimate the runtime of your code on the hidden test set.\n",
            "           Date  SecuritiesCode  Rank\n",
            "0    2021-12-06            1301  1056\n",
            "1    2021-12-06            1332   473\n",
            "2    2021-12-06            1333   791\n",
            "3    2021-12-06            1375   329\n",
            "4    2021-12-06            1376   332\n",
            "...         ...             ...   ...\n",
            "1995 2021-12-06            9990  1708\n",
            "1996 2021-12-06            9991  1651\n",
            "1997 2021-12-06            9993  1400\n",
            "1998 2021-12-06            9994   950\n",
            "1999 2021-12-06            9997  1643\n",
            "\n",
            "[2000 rows x 3 columns]\n",
            "           Date  SecuritiesCode  Rank\n",
            "0    2021-12-07            1301  1080\n",
            "1    2021-12-07            1332   540\n",
            "2    2021-12-07            1333   783\n",
            "3    2021-12-07            1375   325\n",
            "4    2021-12-07            1376   326\n",
            "...         ...             ...   ...\n",
            "1995 2021-12-07            9990  1713\n",
            "1996 2021-12-07            9991  1653\n",
            "1997 2021-12-07            9993  1394\n",
            "1998 2021-12-07            9994   956\n",
            "1999 2021-12-07            9997  1649\n",
            "\n",
            "[2000 rows x 3 columns]\n"
          ]
        }
      ]
    },
    {
      "cell_type": "code",
      "source": [
        "pred_df"
      ],
      "metadata": {
        "id": "c9aVUrhy9pww",
        "colab": {
          "base_uri": "https://localhost:8080/",
          "height": 424
        },
        "outputId": "aa71c799-c0ba-4d44-d88c-886285a86a5d"
      },
      "execution_count": null,
      "outputs": [
        {
          "output_type": "execute_result",
          "data": {
            "text/plain": [
              "           Date  SecuritiesCode  Rank\n",
              "0    2021-12-07            1301  1080\n",
              "1    2021-12-07            1332   540\n",
              "2    2021-12-07            1333   783\n",
              "3    2021-12-07            1375   325\n",
              "4    2021-12-07            1376   326\n",
              "...         ...             ...   ...\n",
              "1995 2021-12-07            9990  1713\n",
              "1996 2021-12-07            9991  1653\n",
              "1997 2021-12-07            9993  1394\n",
              "1998 2021-12-07            9994   956\n",
              "1999 2021-12-07            9997  1649\n",
              "\n",
              "[2000 rows x 3 columns]"
            ],
            "text/html": [
              "\n",
              "  <div id=\"df-b3983351-8283-4e83-9613-1271425755e9\">\n",
              "    <div class=\"colab-df-container\">\n",
              "      <div>\n",
              "<style scoped>\n",
              "    .dataframe tbody tr th:only-of-type {\n",
              "        vertical-align: middle;\n",
              "    }\n",
              "\n",
              "    .dataframe tbody tr th {\n",
              "        vertical-align: top;\n",
              "    }\n",
              "\n",
              "    .dataframe thead th {\n",
              "        text-align: right;\n",
              "    }\n",
              "</style>\n",
              "<table border=\"1\" class=\"dataframe\">\n",
              "  <thead>\n",
              "    <tr style=\"text-align: right;\">\n",
              "      <th></th>\n",
              "      <th>Date</th>\n",
              "      <th>SecuritiesCode</th>\n",
              "      <th>Rank</th>\n",
              "    </tr>\n",
              "  </thead>\n",
              "  <tbody>\n",
              "    <tr>\n",
              "      <th>0</th>\n",
              "      <td>2021-12-07</td>\n",
              "      <td>1301</td>\n",
              "      <td>1080</td>\n",
              "    </tr>\n",
              "    <tr>\n",
              "      <th>1</th>\n",
              "      <td>2021-12-07</td>\n",
              "      <td>1332</td>\n",
              "      <td>540</td>\n",
              "    </tr>\n",
              "    <tr>\n",
              "      <th>2</th>\n",
              "      <td>2021-12-07</td>\n",
              "      <td>1333</td>\n",
              "      <td>783</td>\n",
              "    </tr>\n",
              "    <tr>\n",
              "      <th>3</th>\n",
              "      <td>2021-12-07</td>\n",
              "      <td>1375</td>\n",
              "      <td>325</td>\n",
              "    </tr>\n",
              "    <tr>\n",
              "      <th>4</th>\n",
              "      <td>2021-12-07</td>\n",
              "      <td>1376</td>\n",
              "      <td>326</td>\n",
              "    </tr>\n",
              "    <tr>\n",
              "      <th>...</th>\n",
              "      <td>...</td>\n",
              "      <td>...</td>\n",
              "      <td>...</td>\n",
              "    </tr>\n",
              "    <tr>\n",
              "      <th>1995</th>\n",
              "      <td>2021-12-07</td>\n",
              "      <td>9990</td>\n",
              "      <td>1713</td>\n",
              "    </tr>\n",
              "    <tr>\n",
              "      <th>1996</th>\n",
              "      <td>2021-12-07</td>\n",
              "      <td>9991</td>\n",
              "      <td>1653</td>\n",
              "    </tr>\n",
              "    <tr>\n",
              "      <th>1997</th>\n",
              "      <td>2021-12-07</td>\n",
              "      <td>9993</td>\n",
              "      <td>1394</td>\n",
              "    </tr>\n",
              "    <tr>\n",
              "      <th>1998</th>\n",
              "      <td>2021-12-07</td>\n",
              "      <td>9994</td>\n",
              "      <td>956</td>\n",
              "    </tr>\n",
              "    <tr>\n",
              "      <th>1999</th>\n",
              "      <td>2021-12-07</td>\n",
              "      <td>9997</td>\n",
              "      <td>1649</td>\n",
              "    </tr>\n",
              "  </tbody>\n",
              "</table>\n",
              "<p>2000 rows × 3 columns</p>\n",
              "</div>\n",
              "      <button class=\"colab-df-convert\" onclick=\"convertToInteractive('df-b3983351-8283-4e83-9613-1271425755e9')\"\n",
              "              title=\"Convert this dataframe to an interactive table.\"\n",
              "              style=\"display:none;\">\n",
              "        \n",
              "  <svg xmlns=\"http://www.w3.org/2000/svg\" height=\"24px\"viewBox=\"0 0 24 24\"\n",
              "       width=\"24px\">\n",
              "    <path d=\"M0 0h24v24H0V0z\" fill=\"none\"/>\n",
              "    <path d=\"M18.56 5.44l.94 2.06.94-2.06 2.06-.94-2.06-.94-.94-2.06-.94 2.06-2.06.94zm-11 1L8.5 8.5l.94-2.06 2.06-.94-2.06-.94L8.5 2.5l-.94 2.06-2.06.94zm10 10l.94 2.06.94-2.06 2.06-.94-2.06-.94-.94-2.06-.94 2.06-2.06.94z\"/><path d=\"M17.41 7.96l-1.37-1.37c-.4-.4-.92-.59-1.43-.59-.52 0-1.04.2-1.43.59L10.3 9.45l-7.72 7.72c-.78.78-.78 2.05 0 2.83L4 21.41c.39.39.9.59 1.41.59.51 0 1.02-.2 1.41-.59l7.78-7.78 2.81-2.81c.8-.78.8-2.07 0-2.86zM5.41 20L4 18.59l7.72-7.72 1.47 1.35L5.41 20z\"/>\n",
              "  </svg>\n",
              "      </button>\n",
              "      \n",
              "  <style>\n",
              "    .colab-df-container {\n",
              "      display:flex;\n",
              "      flex-wrap:wrap;\n",
              "      gap: 12px;\n",
              "    }\n",
              "\n",
              "    .colab-df-convert {\n",
              "      background-color: #E8F0FE;\n",
              "      border: none;\n",
              "      border-radius: 50%;\n",
              "      cursor: pointer;\n",
              "      display: none;\n",
              "      fill: #1967D2;\n",
              "      height: 32px;\n",
              "      padding: 0 0 0 0;\n",
              "      width: 32px;\n",
              "    }\n",
              "\n",
              "    .colab-df-convert:hover {\n",
              "      background-color: #E2EBFA;\n",
              "      box-shadow: 0px 1px 2px rgba(60, 64, 67, 0.3), 0px 1px 3px 1px rgba(60, 64, 67, 0.15);\n",
              "      fill: #174EA6;\n",
              "    }\n",
              "\n",
              "    [theme=dark] .colab-df-convert {\n",
              "      background-color: #3B4455;\n",
              "      fill: #D2E3FC;\n",
              "    }\n",
              "\n",
              "    [theme=dark] .colab-df-convert:hover {\n",
              "      background-color: #434B5C;\n",
              "      box-shadow: 0px 1px 3px 1px rgba(0, 0, 0, 0.15);\n",
              "      filter: drop-shadow(0px 1px 2px rgba(0, 0, 0, 0.3));\n",
              "      fill: #FFFFFF;\n",
              "    }\n",
              "  </style>\n",
              "\n",
              "      <script>\n",
              "        const buttonEl =\n",
              "          document.querySelector('#df-b3983351-8283-4e83-9613-1271425755e9 button.colab-df-convert');\n",
              "        buttonEl.style.display =\n",
              "          google.colab.kernel.accessAllowed ? 'block' : 'none';\n",
              "\n",
              "        async function convertToInteractive(key) {\n",
              "          const element = document.querySelector('#df-b3983351-8283-4e83-9613-1271425755e9');\n",
              "          const dataTable =\n",
              "            await google.colab.kernel.invokeFunction('convertToInteractive',\n",
              "                                                     [key], {});\n",
              "          if (!dataTable) return;\n",
              "\n",
              "          const docLinkHtml = 'Like what you see? Visit the ' +\n",
              "            '<a target=\"_blank\" href=https://colab.research.google.com/notebooks/data_table.ipynb>data table notebook</a>'\n",
              "            + ' to learn more about interactive tables.';\n",
              "          element.innerHTML = '';\n",
              "          dataTable['output_type'] = 'display_data';\n",
              "          await google.colab.output.renderOutput(dataTable, element);\n",
              "          const docLink = document.createElement('div');\n",
              "          docLink.innerHTML = docLinkHtml;\n",
              "          element.appendChild(docLink);\n",
              "        }\n",
              "      </script>\n",
              "    </div>\n",
              "  </div>\n",
              "  "
            ]
          },
          "metadata": {},
          "execution_count": 42
        }
      ]
    },
    {
      "cell_type": "code",
      "source": [
        "price_ta = pd.read_csv('/content/drive/MyDrive/AI딥러닝_프로젝트/데이터/jpx-tokyo-stock-exchange-prediction/train_files/ta_stock_prices.csv')\n",
        "price_ta = price_ta.drop('Unnamed: 0', axis = 1)\n",
        "price_ta\n"
      ],
      "metadata": {
        "colab": {
          "base_uri": "https://localhost:8080/",
          "height": 661
        },
        "id": "WNX4DfE6VRpn",
        "outputId": "7054db4f-56ca-4b2b-fd7f-93b63fa1c71e"
      },
      "execution_count": null,
      "outputs": [
        {
          "output_type": "execute_result",
          "data": {
            "text/plain": [
              "                 RowId        Date  SecuritiesCode    Open    High     Low  \\\n",
              "0        20170104_1301  2017-01-04            1301  2734.0  2755.0  2730.0   \n",
              "1        20170105_1301  2017-01-05            1301  2743.0  2747.0  2735.0   \n",
              "2        20170106_1301  2017-01-06            1301  2734.0  2744.0  2720.0   \n",
              "3        20170110_1301  2017-01-10            1301  2745.0  2754.0  2735.0   \n",
              "4        20170111_1301  2017-01-11            1301  2748.0  2752.0  2737.0   \n",
              "...                ...         ...             ...     ...     ...     ...   \n",
              "2332526  20211129_4169  2021-11-29            4169  6970.0  7350.0  6970.0   \n",
              "2332527  20211130_4169  2021-11-30            4169  6770.0  7240.0  6410.0   \n",
              "2332528  20211201_4169  2021-12-01            4169  7190.0  7380.0  6670.0   \n",
              "2332529  20211202_4169  2021-12-02            4169  7160.0  7870.0  7110.0   \n",
              "2332530  20211203_4169  2021-12-03            4169  7410.0  7680.0  7150.0   \n",
              "\n",
              "         Volume  AdjustmentFactor  SupervisionFlag      index  ...  \\\n",
              "0         31400               1.0            False        0.0  ...   \n",
              "1         17900               1.0            False     1865.0  ...   \n",
              "2         19900               1.0            False     3730.0  ...   \n",
              "3         24200               1.0            False     5595.0  ...   \n",
              "4          9300               1.0            False     7460.0  ...   \n",
              "...         ...               ...              ...        ...  ...   \n",
              "2332526  772500               1.0            False  2323102.0  ...   \n",
              "2332527  887400               1.0            False  2325102.0  ...   \n",
              "2332528  496800               1.0            False  2327102.0  ...   \n",
              "2332529  783000               1.0            False  2329102.0  ...   \n",
              "2332530  316800               1.0            False  2331102.0  ...   \n",
              "\n",
              "         momentum_ppo  momentum_ppo_signal  momentum_ppo_hist  momentum_pvo  \\\n",
              "0                 NaN                  NaN                NaN           NaN   \n",
              "1                 NaN                  NaN                NaN           NaN   \n",
              "2                 NaN                  NaN                NaN           NaN   \n",
              "3                 NaN                  NaN                NaN           NaN   \n",
              "4                 NaN                  NaN                NaN           NaN   \n",
              "...               ...                  ...                ...           ...   \n",
              "2332526     12.272497            12.882080          -0.609583     -6.583499   \n",
              "2332527     10.729472            12.451558          -1.722086     -3.864778   \n",
              "2332528      9.477017            11.856650          -2.379633     -6.091743   \n",
              "2332529      8.855025            11.256325          -2.401300     -4.530019   \n",
              "2332530      7.941722            10.593404          -2.651682     -8.726229   \n",
              "\n",
              "         momentum_pvo_signal  momentum_pvo_hist  momentum_kama  others_dr  \\\n",
              "0                        NaN                NaN            NaN -11.025925   \n",
              "1                        NaN                NaN            NaN  -0.145879   \n",
              "2                        NaN                NaN            NaN   0.073046   \n",
              "3                        NaN                NaN            NaN   0.291971   \n",
              "4                        NaN                NaN            NaN  -0.109170   \n",
              "...                      ...                ...            ...        ...   \n",
              "2332526            -8.379071           1.795573    7820.097674 -17.709563   \n",
              "2332527            -7.476213           3.611434    7803.953996   0.717360   \n",
              "2332528            -7.199319           1.107576    7794.048336   0.997151   \n",
              "2332529            -6.665459           2.135440    7783.225133   6.064880   \n",
              "2332530            -7.077613          -1.648616    7741.139451  -3.989362   \n",
              "\n",
              "         others_dlr   others_cr  \n",
              "0               NaN    0.000000  \n",
              "1         -0.145985   -0.145879  \n",
              "2          0.073019   -0.072939  \n",
              "3          0.291545    0.218818  \n",
              "4         -0.109230    0.109409  \n",
              "...             ...         ...  \n",
              "2332526  -19.491528  159.880686  \n",
              "2332527    0.714799  161.744966  \n",
              "2332528    0.992212  164.354959  \n",
              "2332529    5.888080  180.387770  \n",
              "2332530   -4.071119  169.202088  \n",
              "\n",
              "[2332531 rows x 99 columns]"
            ],
            "text/html": [
              "\n",
              "  <div id=\"df-2a6a2d81-d00b-4209-88b0-70fc45f3bb43\">\n",
              "    <div class=\"colab-df-container\">\n",
              "      <div>\n",
              "<style scoped>\n",
              "    .dataframe tbody tr th:only-of-type {\n",
              "        vertical-align: middle;\n",
              "    }\n",
              "\n",
              "    .dataframe tbody tr th {\n",
              "        vertical-align: top;\n",
              "    }\n",
              "\n",
              "    .dataframe thead th {\n",
              "        text-align: right;\n",
              "    }\n",
              "</style>\n",
              "<table border=\"1\" class=\"dataframe\">\n",
              "  <thead>\n",
              "    <tr style=\"text-align: right;\">\n",
              "      <th></th>\n",
              "      <th>RowId</th>\n",
              "      <th>Date</th>\n",
              "      <th>SecuritiesCode</th>\n",
              "      <th>Open</th>\n",
              "      <th>High</th>\n",
              "      <th>Low</th>\n",
              "      <th>Volume</th>\n",
              "      <th>AdjustmentFactor</th>\n",
              "      <th>SupervisionFlag</th>\n",
              "      <th>index</th>\n",
              "      <th>...</th>\n",
              "      <th>momentum_ppo</th>\n",
              "      <th>momentum_ppo_signal</th>\n",
              "      <th>momentum_ppo_hist</th>\n",
              "      <th>momentum_pvo</th>\n",
              "      <th>momentum_pvo_signal</th>\n",
              "      <th>momentum_pvo_hist</th>\n",
              "      <th>momentum_kama</th>\n",
              "      <th>others_dr</th>\n",
              "      <th>others_dlr</th>\n",
              "      <th>others_cr</th>\n",
              "    </tr>\n",
              "  </thead>\n",
              "  <tbody>\n",
              "    <tr>\n",
              "      <th>0</th>\n",
              "      <td>20170104_1301</td>\n",
              "      <td>2017-01-04</td>\n",
              "      <td>1301</td>\n",
              "      <td>2734.0</td>\n",
              "      <td>2755.0</td>\n",
              "      <td>2730.0</td>\n",
              "      <td>31400</td>\n",
              "      <td>1.0</td>\n",
              "      <td>False</td>\n",
              "      <td>0.0</td>\n",
              "      <td>...</td>\n",
              "      <td>NaN</td>\n",
              "      <td>NaN</td>\n",
              "      <td>NaN</td>\n",
              "      <td>NaN</td>\n",
              "      <td>NaN</td>\n",
              "      <td>NaN</td>\n",
              "      <td>NaN</td>\n",
              "      <td>-11.025925</td>\n",
              "      <td>NaN</td>\n",
              "      <td>0.000000</td>\n",
              "    </tr>\n",
              "    <tr>\n",
              "      <th>1</th>\n",
              "      <td>20170105_1301</td>\n",
              "      <td>2017-01-05</td>\n",
              "      <td>1301</td>\n",
              "      <td>2743.0</td>\n",
              "      <td>2747.0</td>\n",
              "      <td>2735.0</td>\n",
              "      <td>17900</td>\n",
              "      <td>1.0</td>\n",
              "      <td>False</td>\n",
              "      <td>1865.0</td>\n",
              "      <td>...</td>\n",
              "      <td>NaN</td>\n",
              "      <td>NaN</td>\n",
              "      <td>NaN</td>\n",
              "      <td>NaN</td>\n",
              "      <td>NaN</td>\n",
              "      <td>NaN</td>\n",
              "      <td>NaN</td>\n",
              "      <td>-0.145879</td>\n",
              "      <td>-0.145985</td>\n",
              "      <td>-0.145879</td>\n",
              "    </tr>\n",
              "    <tr>\n",
              "      <th>2</th>\n",
              "      <td>20170106_1301</td>\n",
              "      <td>2017-01-06</td>\n",
              "      <td>1301</td>\n",
              "      <td>2734.0</td>\n",
              "      <td>2744.0</td>\n",
              "      <td>2720.0</td>\n",
              "      <td>19900</td>\n",
              "      <td>1.0</td>\n",
              "      <td>False</td>\n",
              "      <td>3730.0</td>\n",
              "      <td>...</td>\n",
              "      <td>NaN</td>\n",
              "      <td>NaN</td>\n",
              "      <td>NaN</td>\n",
              "      <td>NaN</td>\n",
              "      <td>NaN</td>\n",
              "      <td>NaN</td>\n",
              "      <td>NaN</td>\n",
              "      <td>0.073046</td>\n",
              "      <td>0.073019</td>\n",
              "      <td>-0.072939</td>\n",
              "    </tr>\n",
              "    <tr>\n",
              "      <th>3</th>\n",
              "      <td>20170110_1301</td>\n",
              "      <td>2017-01-10</td>\n",
              "      <td>1301</td>\n",
              "      <td>2745.0</td>\n",
              "      <td>2754.0</td>\n",
              "      <td>2735.0</td>\n",
              "      <td>24200</td>\n",
              "      <td>1.0</td>\n",
              "      <td>False</td>\n",
              "      <td>5595.0</td>\n",
              "      <td>...</td>\n",
              "      <td>NaN</td>\n",
              "      <td>NaN</td>\n",
              "      <td>NaN</td>\n",
              "      <td>NaN</td>\n",
              "      <td>NaN</td>\n",
              "      <td>NaN</td>\n",
              "      <td>NaN</td>\n",
              "      <td>0.291971</td>\n",
              "      <td>0.291545</td>\n",
              "      <td>0.218818</td>\n",
              "    </tr>\n",
              "    <tr>\n",
              "      <th>4</th>\n",
              "      <td>20170111_1301</td>\n",
              "      <td>2017-01-11</td>\n",
              "      <td>1301</td>\n",
              "      <td>2748.0</td>\n",
              "      <td>2752.0</td>\n",
              "      <td>2737.0</td>\n",
              "      <td>9300</td>\n",
              "      <td>1.0</td>\n",
              "      <td>False</td>\n",
              "      <td>7460.0</td>\n",
              "      <td>...</td>\n",
              "      <td>NaN</td>\n",
              "      <td>NaN</td>\n",
              "      <td>NaN</td>\n",
              "      <td>NaN</td>\n",
              "      <td>NaN</td>\n",
              "      <td>NaN</td>\n",
              "      <td>NaN</td>\n",
              "      <td>-0.109170</td>\n",
              "      <td>-0.109230</td>\n",
              "      <td>0.109409</td>\n",
              "    </tr>\n",
              "    <tr>\n",
              "      <th>...</th>\n",
              "      <td>...</td>\n",
              "      <td>...</td>\n",
              "      <td>...</td>\n",
              "      <td>...</td>\n",
              "      <td>...</td>\n",
              "      <td>...</td>\n",
              "      <td>...</td>\n",
              "      <td>...</td>\n",
              "      <td>...</td>\n",
              "      <td>...</td>\n",
              "      <td>...</td>\n",
              "      <td>...</td>\n",
              "      <td>...</td>\n",
              "      <td>...</td>\n",
              "      <td>...</td>\n",
              "      <td>...</td>\n",
              "      <td>...</td>\n",
              "      <td>...</td>\n",
              "      <td>...</td>\n",
              "      <td>...</td>\n",
              "      <td>...</td>\n",
              "    </tr>\n",
              "    <tr>\n",
              "      <th>2332526</th>\n",
              "      <td>20211129_4169</td>\n",
              "      <td>2021-11-29</td>\n",
              "      <td>4169</td>\n",
              "      <td>6970.0</td>\n",
              "      <td>7350.0</td>\n",
              "      <td>6970.0</td>\n",
              "      <td>772500</td>\n",
              "      <td>1.0</td>\n",
              "      <td>False</td>\n",
              "      <td>2323102.0</td>\n",
              "      <td>...</td>\n",
              "      <td>12.272497</td>\n",
              "      <td>12.882080</td>\n",
              "      <td>-0.609583</td>\n",
              "      <td>-6.583499</td>\n",
              "      <td>-8.379071</td>\n",
              "      <td>1.795573</td>\n",
              "      <td>7820.097674</td>\n",
              "      <td>-17.709563</td>\n",
              "      <td>-19.491528</td>\n",
              "      <td>159.880686</td>\n",
              "    </tr>\n",
              "    <tr>\n",
              "      <th>2332527</th>\n",
              "      <td>20211130_4169</td>\n",
              "      <td>2021-11-30</td>\n",
              "      <td>4169</td>\n",
              "      <td>6770.0</td>\n",
              "      <td>7240.0</td>\n",
              "      <td>6410.0</td>\n",
              "      <td>887400</td>\n",
              "      <td>1.0</td>\n",
              "      <td>False</td>\n",
              "      <td>2325102.0</td>\n",
              "      <td>...</td>\n",
              "      <td>10.729472</td>\n",
              "      <td>12.451558</td>\n",
              "      <td>-1.722086</td>\n",
              "      <td>-3.864778</td>\n",
              "      <td>-7.476213</td>\n",
              "      <td>3.611434</td>\n",
              "      <td>7803.953996</td>\n",
              "      <td>0.717360</td>\n",
              "      <td>0.714799</td>\n",
              "      <td>161.744966</td>\n",
              "    </tr>\n",
              "    <tr>\n",
              "      <th>2332528</th>\n",
              "      <td>20211201_4169</td>\n",
              "      <td>2021-12-01</td>\n",
              "      <td>4169</td>\n",
              "      <td>7190.0</td>\n",
              "      <td>7380.0</td>\n",
              "      <td>6670.0</td>\n",
              "      <td>496800</td>\n",
              "      <td>1.0</td>\n",
              "      <td>False</td>\n",
              "      <td>2327102.0</td>\n",
              "      <td>...</td>\n",
              "      <td>9.477017</td>\n",
              "      <td>11.856650</td>\n",
              "      <td>-2.379633</td>\n",
              "      <td>-6.091743</td>\n",
              "      <td>-7.199319</td>\n",
              "      <td>1.107576</td>\n",
              "      <td>7794.048336</td>\n",
              "      <td>0.997151</td>\n",
              "      <td>0.992212</td>\n",
              "      <td>164.354959</td>\n",
              "    </tr>\n",
              "    <tr>\n",
              "      <th>2332529</th>\n",
              "      <td>20211202_4169</td>\n",
              "      <td>2021-12-02</td>\n",
              "      <td>4169</td>\n",
              "      <td>7160.0</td>\n",
              "      <td>7870.0</td>\n",
              "      <td>7110.0</td>\n",
              "      <td>783000</td>\n",
              "      <td>1.0</td>\n",
              "      <td>False</td>\n",
              "      <td>2329102.0</td>\n",
              "      <td>...</td>\n",
              "      <td>8.855025</td>\n",
              "      <td>11.256325</td>\n",
              "      <td>-2.401300</td>\n",
              "      <td>-4.530019</td>\n",
              "      <td>-6.665459</td>\n",
              "      <td>2.135440</td>\n",
              "      <td>7783.225133</td>\n",
              "      <td>6.064880</td>\n",
              "      <td>5.888080</td>\n",
              "      <td>180.387770</td>\n",
              "    </tr>\n",
              "    <tr>\n",
              "      <th>2332530</th>\n",
              "      <td>20211203_4169</td>\n",
              "      <td>2021-12-03</td>\n",
              "      <td>4169</td>\n",
              "      <td>7410.0</td>\n",
              "      <td>7680.0</td>\n",
              "      <td>7150.0</td>\n",
              "      <td>316800</td>\n",
              "      <td>1.0</td>\n",
              "      <td>False</td>\n",
              "      <td>2331102.0</td>\n",
              "      <td>...</td>\n",
              "      <td>7.941722</td>\n",
              "      <td>10.593404</td>\n",
              "      <td>-2.651682</td>\n",
              "      <td>-8.726229</td>\n",
              "      <td>-7.077613</td>\n",
              "      <td>-1.648616</td>\n",
              "      <td>7741.139451</td>\n",
              "      <td>-3.989362</td>\n",
              "      <td>-4.071119</td>\n",
              "      <td>169.202088</td>\n",
              "    </tr>\n",
              "  </tbody>\n",
              "</table>\n",
              "<p>2332531 rows × 99 columns</p>\n",
              "</div>\n",
              "      <button class=\"colab-df-convert\" onclick=\"convertToInteractive('df-2a6a2d81-d00b-4209-88b0-70fc45f3bb43')\"\n",
              "              title=\"Convert this dataframe to an interactive table.\"\n",
              "              style=\"display:none;\">\n",
              "        \n",
              "  <svg xmlns=\"http://www.w3.org/2000/svg\" height=\"24px\"viewBox=\"0 0 24 24\"\n",
              "       width=\"24px\">\n",
              "    <path d=\"M0 0h24v24H0V0z\" fill=\"none\"/>\n",
              "    <path d=\"M18.56 5.44l.94 2.06.94-2.06 2.06-.94-2.06-.94-.94-2.06-.94 2.06-2.06.94zm-11 1L8.5 8.5l.94-2.06 2.06-.94-2.06-.94L8.5 2.5l-.94 2.06-2.06.94zm10 10l.94 2.06.94-2.06 2.06-.94-2.06-.94-.94-2.06-.94 2.06-2.06.94z\"/><path d=\"M17.41 7.96l-1.37-1.37c-.4-.4-.92-.59-1.43-.59-.52 0-1.04.2-1.43.59L10.3 9.45l-7.72 7.72c-.78.78-.78 2.05 0 2.83L4 21.41c.39.39.9.59 1.41.59.51 0 1.02-.2 1.41-.59l7.78-7.78 2.81-2.81c.8-.78.8-2.07 0-2.86zM5.41 20L4 18.59l7.72-7.72 1.47 1.35L5.41 20z\"/>\n",
              "  </svg>\n",
              "      </button>\n",
              "      \n",
              "  <style>\n",
              "    .colab-df-container {\n",
              "      display:flex;\n",
              "      flex-wrap:wrap;\n",
              "      gap: 12px;\n",
              "    }\n",
              "\n",
              "    .colab-df-convert {\n",
              "      background-color: #E8F0FE;\n",
              "      border: none;\n",
              "      border-radius: 50%;\n",
              "      cursor: pointer;\n",
              "      display: none;\n",
              "      fill: #1967D2;\n",
              "      height: 32px;\n",
              "      padding: 0 0 0 0;\n",
              "      width: 32px;\n",
              "    }\n",
              "\n",
              "    .colab-df-convert:hover {\n",
              "      background-color: #E2EBFA;\n",
              "      box-shadow: 0px 1px 2px rgba(60, 64, 67, 0.3), 0px 1px 3px 1px rgba(60, 64, 67, 0.15);\n",
              "      fill: #174EA6;\n",
              "    }\n",
              "\n",
              "    [theme=dark] .colab-df-convert {\n",
              "      background-color: #3B4455;\n",
              "      fill: #D2E3FC;\n",
              "    }\n",
              "\n",
              "    [theme=dark] .colab-df-convert:hover {\n",
              "      background-color: #434B5C;\n",
              "      box-shadow: 0px 1px 3px 1px rgba(0, 0, 0, 0.15);\n",
              "      filter: drop-shadow(0px 1px 2px rgba(0, 0, 0, 0.3));\n",
              "      fill: #FFFFFF;\n",
              "    }\n",
              "  </style>\n",
              "\n",
              "      <script>\n",
              "        const buttonEl =\n",
              "          document.querySelector('#df-2a6a2d81-d00b-4209-88b0-70fc45f3bb43 button.colab-df-convert');\n",
              "        buttonEl.style.display =\n",
              "          google.colab.kernel.accessAllowed ? 'block' : 'none';\n",
              "\n",
              "        async function convertToInteractive(key) {\n",
              "          const element = document.querySelector('#df-2a6a2d81-d00b-4209-88b0-70fc45f3bb43');\n",
              "          const dataTable =\n",
              "            await google.colab.kernel.invokeFunction('convertToInteractive',\n",
              "                                                     [key], {});\n",
              "          if (!dataTable) return;\n",
              "\n",
              "          const docLinkHtml = 'Like what you see? Visit the ' +\n",
              "            '<a target=\"_blank\" href=https://colab.research.google.com/notebooks/data_table.ipynb>data table notebook</a>'\n",
              "            + ' to learn more about interactive tables.';\n",
              "          element.innerHTML = '';\n",
              "          dataTable['output_type'] = 'display_data';\n",
              "          await google.colab.output.renderOutput(dataTable, element);\n",
              "          const docLink = document.createElement('div');\n",
              "          docLink.innerHTML = docLinkHtml;\n",
              "          element.appendChild(docLink);\n",
              "        }\n",
              "      </script>\n",
              "    </div>\n",
              "  </div>\n",
              "  "
            ]
          },
          "metadata": {},
          "execution_count": 7
        }
      ]
    },
    {
      "cell_type": "code",
      "source": [
        "price_ta.columns"
      ],
      "metadata": {
        "colab": {
          "base_uri": "https://localhost:8080/"
        },
        "id": "MKtycRPbrgQR",
        "outputId": "262d4c04-252c-4ced-aa0f-f9ea00f31a2c"
      },
      "execution_count": null,
      "outputs": [
        {
          "output_type": "execute_result",
          "data": {
            "text/plain": [
              "Index(['RowId', 'Date', 'SecuritiesCode', 'Open', 'High', 'Low', 'Volume',\n",
              "       'AdjustmentFactor', 'SupervisionFlag', 'index', 'CloseMean',\n",
              "       'new_target', 'log_volume', 'volume_adi', 'volume_obv', 'volume_cmf',\n",
              "       'volume_fi', 'volume_em', 'volume_sma_em', 'volume_vpt', 'volume_vwap',\n",
              "       'volume_mfi', 'volume_nvi', 'volatility_bbm', 'volatility_bbh',\n",
              "       'volatility_bbl', 'volatility_bbw', 'volatility_bbp', 'volatility_bbhi',\n",
              "       'volatility_bbli', 'volatility_kcc', 'volatility_kch', 'volatility_kcl',\n",
              "       'volatility_kcw', 'volatility_kcp', 'volatility_kchi',\n",
              "       'volatility_kcli', 'volatility_dcl', 'volatility_dch', 'volatility_dcm',\n",
              "       'volatility_dcw', 'volatility_dcp', 'volatility_atr', 'volatility_ui',\n",
              "       'trend_macd', 'trend_macd_signal', 'trend_macd_diff', 'trend_sma_fast',\n",
              "       'trend_sma_slow', 'trend_ema_fast', 'trend_ema_slow',\n",
              "       'trend_vortex_ind_pos', 'trend_vortex_ind_neg', 'trend_vortex_ind_diff',\n",
              "       'trend_trix', 'trend_mass_index', 'trend_dpo', 'trend_kst',\n",
              "       'trend_kst_sig', 'trend_kst_diff', 'trend_ichimoku_conv',\n",
              "       'trend_ichimoku_base', 'trend_ichimoku_a', 'trend_ichimoku_b',\n",
              "       'trend_stc', 'trend_adx', 'trend_adx_pos', 'trend_adx_neg', 'trend_cci',\n",
              "       'trend_visual_ichimoku_a', 'trend_visual_ichimoku_b', 'trend_aroon_up',\n",
              "       'trend_aroon_down', 'trend_aroon_ind', 'trend_psar_up',\n",
              "       'trend_psar_down', 'trend_psar_up_indicator',\n",
              "       'trend_psar_down_indicator', 'momentum_rsi', 'momentum_stoch_rsi',\n",
              "       'momentum_stoch_rsi_k', 'momentum_stoch_rsi_d', 'momentum_tsi',\n",
              "       'momentum_uo', 'momentum_stoch', 'momentum_stoch_signal', 'momentum_wr',\n",
              "       'momentum_ao', 'momentum_roc', 'momentum_ppo', 'momentum_ppo_signal',\n",
              "       'momentum_ppo_hist', 'momentum_pvo', 'momentum_pvo_signal',\n",
              "       'momentum_pvo_hist', 'momentum_kama', 'others_dr', 'others_dlr',\n",
              "       'others_cr'],\n",
              "      dtype='object')"
            ]
          },
          "metadata": {},
          "execution_count": 8
        }
      ]
    },
    {
      "cell_type": "code",
      "source": [
        "price_ta2 = price_ta[['RowId', 'Date', 'SecuritiesCode', 'Open', 'High', 'Low', 'CloseMean', 'Volume',\n",
        "       'AdjustmentFactor', 'SupervisionFlag',\n",
        "       'new_target',     \"momentum_rsi\",\n",
        "    \"trend_macd\",\n",
        "    \"trend_kst\",\n",
        "    \"trend_ema_fast\",\n",
        "    \"volatility_bbm\",\n",
        "    \"volatility_atr\" ]]"
      ],
      "metadata": {
        "id": "grVXxrYdro0O"
      },
      "execution_count": null,
      "outputs": []
    },
    {
      "cell_type": "code",
      "source": [
        "price_ta2.shape"
      ],
      "metadata": {
        "colab": {
          "base_uri": "https://localhost:8080/"
        },
        "id": "N2UmCXkotKfB",
        "outputId": "9669f2e0-1da4-44d6-ad60-e0270fd9a510"
      },
      "execution_count": null,
      "outputs": [
        {
          "output_type": "execute_result",
          "data": {
            "text/plain": [
              "(2332531, 17)"
            ]
          },
          "metadata": {},
          "execution_count": 12
        }
      ]
    },
    {
      "cell_type": "code",
      "source": [
        "# create LSTM model\n",
        "import torch\n",
        "import torch.nn as nn\n",
        "import torch.nn.functional as F\n",
        "\n",
        "class LSTM(nn.Module):\n",
        "    def __init__(self, input_size=14, sequence_num=31, lstm_dim=128,\n",
        "                 num_layers=2, output_size=1):\n",
        "        super().__init__()\n",
        "        \n",
        "        self.lstm = nn.LSTM(input_size, lstm_dim, num_layers, batch_first=True, bidirectional=True)\n",
        "        self.linear1 = nn.Linear(lstm_dim*sequence_num*2, 1)\n",
        "        self.bn1 = nn.BatchNorm1d(lstm_dim*sequence_num*2)\n",
        "\n",
        "    def forward(self, x):\n",
        "        lstm_out, _ = self.lstm(x)\n",
        "        x = lstm_out.reshape(lstm_out.shape[0], -1)\n",
        "        x = self.linear1(self.bn1(x))\n",
        "        return x"
      ],
      "metadata": {
        "id": "YyqA0RZ0VW6J"
      },
      "execution_count": null,
      "outputs": []
    },
    {
      "cell_type": "code",
      "source": [
        "# create dataset\n",
        "price_ta2['SupervisionFlag'] = price_ta2['SupervisionFlag'].map({True: 1, False: 0})\n",
        "price_ta2['Date'] = pd.to_datetime(price_ta2['Date'])\n",
        "price_ta2.head()"
      ],
      "metadata": {
        "colab": {
          "base_uri": "https://localhost:8080/",
          "height": 357
        },
        "id": "WlHt4LLQrR1n",
        "outputId": "feb56eea-4bbc-43fb-ac5a-f9a2a054e8a3"
      },
      "execution_count": null,
      "outputs": [
        {
          "output_type": "execute_result",
          "data": {
            "text/plain": [
              "           RowId       Date  SecuritiesCode    Open    High     Low  \\\n",
              "0  20170104_1301 2017-01-04            1301  2734.0  2755.0  2730.0   \n",
              "1  20170105_1301 2017-01-05            1301  2743.0  2747.0  2735.0   \n",
              "2  20170106_1301 2017-01-06            1301  2734.0  2744.0  2720.0   \n",
              "3  20170110_1301 2017-01-10            1301  2745.0  2754.0  2735.0   \n",
              "4  20170111_1301 2017-01-11            1301  2748.0  2752.0  2737.0   \n",
              "\n",
              "   CloseMean  Volume  AdjustmentFactor  SupervisionFlag  new_target  \\\n",
              "0     2742.0   31400               1.0                0    0.000730   \n",
              "1     2738.0   17900               1.0                0    0.002920   \n",
              "2     2740.0   19900               1.0                0   -0.001092   \n",
              "3     2748.0   24200               1.0                0   -0.005100   \n",
              "4     2745.0    9300               1.0                0   -0.003295   \n",
              "\n",
              "   momentum_rsi  trend_macd  trend_kst  trend_ema_fast  volatility_bbm  \\\n",
              "0           NaN         NaN        NaN             NaN             NaN   \n",
              "1           NaN         NaN        NaN             NaN             NaN   \n",
              "2           NaN         NaN        NaN             NaN             NaN   \n",
              "3           NaN         NaN        NaN             NaN             NaN   \n",
              "4           NaN         NaN        NaN             NaN             NaN   \n",
              "\n",
              "   volatility_atr  \n",
              "0             0.0  \n",
              "1             0.0  \n",
              "2             0.0  \n",
              "3             0.0  \n",
              "4             0.0  "
            ],
            "text/html": [
              "\n",
              "  <div id=\"df-66bd7096-8409-4896-a804-e1af43050c27\">\n",
              "    <div class=\"colab-df-container\">\n",
              "      <div>\n",
              "<style scoped>\n",
              "    .dataframe tbody tr th:only-of-type {\n",
              "        vertical-align: middle;\n",
              "    }\n",
              "\n",
              "    .dataframe tbody tr th {\n",
              "        vertical-align: top;\n",
              "    }\n",
              "\n",
              "    .dataframe thead th {\n",
              "        text-align: right;\n",
              "    }\n",
              "</style>\n",
              "<table border=\"1\" class=\"dataframe\">\n",
              "  <thead>\n",
              "    <tr style=\"text-align: right;\">\n",
              "      <th></th>\n",
              "      <th>RowId</th>\n",
              "      <th>Date</th>\n",
              "      <th>SecuritiesCode</th>\n",
              "      <th>Open</th>\n",
              "      <th>High</th>\n",
              "      <th>Low</th>\n",
              "      <th>CloseMean</th>\n",
              "      <th>Volume</th>\n",
              "      <th>AdjustmentFactor</th>\n",
              "      <th>SupervisionFlag</th>\n",
              "      <th>new_target</th>\n",
              "      <th>momentum_rsi</th>\n",
              "      <th>trend_macd</th>\n",
              "      <th>trend_kst</th>\n",
              "      <th>trend_ema_fast</th>\n",
              "      <th>volatility_bbm</th>\n",
              "      <th>volatility_atr</th>\n",
              "    </tr>\n",
              "  </thead>\n",
              "  <tbody>\n",
              "    <tr>\n",
              "      <th>0</th>\n",
              "      <td>20170104_1301</td>\n",
              "      <td>2017-01-04</td>\n",
              "      <td>1301</td>\n",
              "      <td>2734.0</td>\n",
              "      <td>2755.0</td>\n",
              "      <td>2730.0</td>\n",
              "      <td>2742.0</td>\n",
              "      <td>31400</td>\n",
              "      <td>1.0</td>\n",
              "      <td>0</td>\n",
              "      <td>0.000730</td>\n",
              "      <td>NaN</td>\n",
              "      <td>NaN</td>\n",
              "      <td>NaN</td>\n",
              "      <td>NaN</td>\n",
              "      <td>NaN</td>\n",
              "      <td>0.0</td>\n",
              "    </tr>\n",
              "    <tr>\n",
              "      <th>1</th>\n",
              "      <td>20170105_1301</td>\n",
              "      <td>2017-01-05</td>\n",
              "      <td>1301</td>\n",
              "      <td>2743.0</td>\n",
              "      <td>2747.0</td>\n",
              "      <td>2735.0</td>\n",
              "      <td>2738.0</td>\n",
              "      <td>17900</td>\n",
              "      <td>1.0</td>\n",
              "      <td>0</td>\n",
              "      <td>0.002920</td>\n",
              "      <td>NaN</td>\n",
              "      <td>NaN</td>\n",
              "      <td>NaN</td>\n",
              "      <td>NaN</td>\n",
              "      <td>NaN</td>\n",
              "      <td>0.0</td>\n",
              "    </tr>\n",
              "    <tr>\n",
              "      <th>2</th>\n",
              "      <td>20170106_1301</td>\n",
              "      <td>2017-01-06</td>\n",
              "      <td>1301</td>\n",
              "      <td>2734.0</td>\n",
              "      <td>2744.0</td>\n",
              "      <td>2720.0</td>\n",
              "      <td>2740.0</td>\n",
              "      <td>19900</td>\n",
              "      <td>1.0</td>\n",
              "      <td>0</td>\n",
              "      <td>-0.001092</td>\n",
              "      <td>NaN</td>\n",
              "      <td>NaN</td>\n",
              "      <td>NaN</td>\n",
              "      <td>NaN</td>\n",
              "      <td>NaN</td>\n",
              "      <td>0.0</td>\n",
              "    </tr>\n",
              "    <tr>\n",
              "      <th>3</th>\n",
              "      <td>20170110_1301</td>\n",
              "      <td>2017-01-10</td>\n",
              "      <td>1301</td>\n",
              "      <td>2745.0</td>\n",
              "      <td>2754.0</td>\n",
              "      <td>2735.0</td>\n",
              "      <td>2748.0</td>\n",
              "      <td>24200</td>\n",
              "      <td>1.0</td>\n",
              "      <td>0</td>\n",
              "      <td>-0.005100</td>\n",
              "      <td>NaN</td>\n",
              "      <td>NaN</td>\n",
              "      <td>NaN</td>\n",
              "      <td>NaN</td>\n",
              "      <td>NaN</td>\n",
              "      <td>0.0</td>\n",
              "    </tr>\n",
              "    <tr>\n",
              "      <th>4</th>\n",
              "      <td>20170111_1301</td>\n",
              "      <td>2017-01-11</td>\n",
              "      <td>1301</td>\n",
              "      <td>2748.0</td>\n",
              "      <td>2752.0</td>\n",
              "      <td>2737.0</td>\n",
              "      <td>2745.0</td>\n",
              "      <td>9300</td>\n",
              "      <td>1.0</td>\n",
              "      <td>0</td>\n",
              "      <td>-0.003295</td>\n",
              "      <td>NaN</td>\n",
              "      <td>NaN</td>\n",
              "      <td>NaN</td>\n",
              "      <td>NaN</td>\n",
              "      <td>NaN</td>\n",
              "      <td>0.0</td>\n",
              "    </tr>\n",
              "  </tbody>\n",
              "</table>\n",
              "</div>\n",
              "      <button class=\"colab-df-convert\" onclick=\"convertToInteractive('df-66bd7096-8409-4896-a804-e1af43050c27')\"\n",
              "              title=\"Convert this dataframe to an interactive table.\"\n",
              "              style=\"display:none;\">\n",
              "        \n",
              "  <svg xmlns=\"http://www.w3.org/2000/svg\" height=\"24px\"viewBox=\"0 0 24 24\"\n",
              "       width=\"24px\">\n",
              "    <path d=\"M0 0h24v24H0V0z\" fill=\"none\"/>\n",
              "    <path d=\"M18.56 5.44l.94 2.06.94-2.06 2.06-.94-2.06-.94-.94-2.06-.94 2.06-2.06.94zm-11 1L8.5 8.5l.94-2.06 2.06-.94-2.06-.94L8.5 2.5l-.94 2.06-2.06.94zm10 10l.94 2.06.94-2.06 2.06-.94-2.06-.94-.94-2.06-.94 2.06-2.06.94z\"/><path d=\"M17.41 7.96l-1.37-1.37c-.4-.4-.92-.59-1.43-.59-.52 0-1.04.2-1.43.59L10.3 9.45l-7.72 7.72c-.78.78-.78 2.05 0 2.83L4 21.41c.39.39.9.59 1.41.59.51 0 1.02-.2 1.41-.59l7.78-7.78 2.81-2.81c.8-.78.8-2.07 0-2.86zM5.41 20L4 18.59l7.72-7.72 1.47 1.35L5.41 20z\"/>\n",
              "  </svg>\n",
              "      </button>\n",
              "      \n",
              "  <style>\n",
              "    .colab-df-container {\n",
              "      display:flex;\n",
              "      flex-wrap:wrap;\n",
              "      gap: 12px;\n",
              "    }\n",
              "\n",
              "    .colab-df-convert {\n",
              "      background-color: #E8F0FE;\n",
              "      border: none;\n",
              "      border-radius: 50%;\n",
              "      cursor: pointer;\n",
              "      display: none;\n",
              "      fill: #1967D2;\n",
              "      height: 32px;\n",
              "      padding: 0 0 0 0;\n",
              "      width: 32px;\n",
              "    }\n",
              "\n",
              "    .colab-df-convert:hover {\n",
              "      background-color: #E2EBFA;\n",
              "      box-shadow: 0px 1px 2px rgba(60, 64, 67, 0.3), 0px 1px 3px 1px rgba(60, 64, 67, 0.15);\n",
              "      fill: #174EA6;\n",
              "    }\n",
              "\n",
              "    [theme=dark] .colab-df-convert {\n",
              "      background-color: #3B4455;\n",
              "      fill: #D2E3FC;\n",
              "    }\n",
              "\n",
              "    [theme=dark] .colab-df-convert:hover {\n",
              "      background-color: #434B5C;\n",
              "      box-shadow: 0px 1px 3px 1px rgba(0, 0, 0, 0.15);\n",
              "      filter: drop-shadow(0px 1px 2px rgba(0, 0, 0, 0.3));\n",
              "      fill: #FFFFFF;\n",
              "    }\n",
              "  </style>\n",
              "\n",
              "      <script>\n",
              "        const buttonEl =\n",
              "          document.querySelector('#df-66bd7096-8409-4896-a804-e1af43050c27 button.colab-df-convert');\n",
              "        buttonEl.style.display =\n",
              "          google.colab.kernel.accessAllowed ? 'block' : 'none';\n",
              "\n",
              "        async function convertToInteractive(key) {\n",
              "          const element = document.querySelector('#df-66bd7096-8409-4896-a804-e1af43050c27');\n",
              "          const dataTable =\n",
              "            await google.colab.kernel.invokeFunction('convertToInteractive',\n",
              "                                                     [key], {});\n",
              "          if (!dataTable) return;\n",
              "\n",
              "          const docLinkHtml = 'Like what you see? Visit the ' +\n",
              "            '<a target=\"_blank\" href=https://colab.research.google.com/notebooks/data_table.ipynb>data table notebook</a>'\n",
              "            + ' to learn more about interactive tables.';\n",
              "          element.innerHTML = '';\n",
              "          dataTable['output_type'] = 'display_data';\n",
              "          await google.colab.output.renderOutput(dataTable, element);\n",
              "          const docLink = document.createElement('div');\n",
              "          docLink.innerHTML = docLinkHtml;\n",
              "          element.appendChild(docLink);\n",
              "        }\n",
              "      </script>\n",
              "    </div>\n",
              "  </div>\n",
              "  "
            ]
          },
          "metadata": {},
          "execution_count": 14
        }
      ]
    },
    {
      "cell_type": "code",
      "source": [
        "price_ta2 = price_ta2.dropna(how='any')\n",
        "# Confirmation of missing information\n",
        "price_ta2_na = (price_ta2.isnull().sum() / len(price_ta2)) * 100\n",
        "price_ta2_na = price_ta2_na.drop(price_ta2_na[price_ta2_na == 0].index).sort_values(ascending=False)[:30]\n",
        "missing_data = pd.DataFrame({'Missing Ratio' :price_ta2_na})\n",
        "missing_data.head(22)"
      ],
      "metadata": {
        "colab": {
          "base_uri": "https://localhost:8080/",
          "height": 49
        },
        "id": "27wYPZvgrR57",
        "outputId": "70d3e59b-30e8-4bf6-f68b-6deea6632504"
      },
      "execution_count": null,
      "outputs": [
        {
          "output_type": "execute_result",
          "data": {
            "text/plain": [
              "Empty DataFrame\n",
              "Columns: [Missing Ratio]\n",
              "Index: []"
            ],
            "text/html": [
              "\n",
              "  <div id=\"df-3e20dcc3-b149-4ba1-827f-28e079bbb68a\">\n",
              "    <div class=\"colab-df-container\">\n",
              "      <div>\n",
              "<style scoped>\n",
              "    .dataframe tbody tr th:only-of-type {\n",
              "        vertical-align: middle;\n",
              "    }\n",
              "\n",
              "    .dataframe tbody tr th {\n",
              "        vertical-align: top;\n",
              "    }\n",
              "\n",
              "    .dataframe thead th {\n",
              "        text-align: right;\n",
              "    }\n",
              "</style>\n",
              "<table border=\"1\" class=\"dataframe\">\n",
              "  <thead>\n",
              "    <tr style=\"text-align: right;\">\n",
              "      <th></th>\n",
              "      <th>Missing Ratio</th>\n",
              "    </tr>\n",
              "  </thead>\n",
              "  <tbody>\n",
              "  </tbody>\n",
              "</table>\n",
              "</div>\n",
              "      <button class=\"colab-df-convert\" onclick=\"convertToInteractive('df-3e20dcc3-b149-4ba1-827f-28e079bbb68a')\"\n",
              "              title=\"Convert this dataframe to an interactive table.\"\n",
              "              style=\"display:none;\">\n",
              "        \n",
              "  <svg xmlns=\"http://www.w3.org/2000/svg\" height=\"24px\"viewBox=\"0 0 24 24\"\n",
              "       width=\"24px\">\n",
              "    <path d=\"M0 0h24v24H0V0z\" fill=\"none\"/>\n",
              "    <path d=\"M18.56 5.44l.94 2.06.94-2.06 2.06-.94-2.06-.94-.94-2.06-.94 2.06-2.06.94zm-11 1L8.5 8.5l.94-2.06 2.06-.94-2.06-.94L8.5 2.5l-.94 2.06-2.06.94zm10 10l.94 2.06.94-2.06 2.06-.94-2.06-.94-.94-2.06-.94 2.06-2.06.94z\"/><path d=\"M17.41 7.96l-1.37-1.37c-.4-.4-.92-.59-1.43-.59-.52 0-1.04.2-1.43.59L10.3 9.45l-7.72 7.72c-.78.78-.78 2.05 0 2.83L4 21.41c.39.39.9.59 1.41.59.51 0 1.02-.2 1.41-.59l7.78-7.78 2.81-2.81c.8-.78.8-2.07 0-2.86zM5.41 20L4 18.59l7.72-7.72 1.47 1.35L5.41 20z\"/>\n",
              "  </svg>\n",
              "      </button>\n",
              "      \n",
              "  <style>\n",
              "    .colab-df-container {\n",
              "      display:flex;\n",
              "      flex-wrap:wrap;\n",
              "      gap: 12px;\n",
              "    }\n",
              "\n",
              "    .colab-df-convert {\n",
              "      background-color: #E8F0FE;\n",
              "      border: none;\n",
              "      border-radius: 50%;\n",
              "      cursor: pointer;\n",
              "      display: none;\n",
              "      fill: #1967D2;\n",
              "      height: 32px;\n",
              "      padding: 0 0 0 0;\n",
              "      width: 32px;\n",
              "    }\n",
              "\n",
              "    .colab-df-convert:hover {\n",
              "      background-color: #E2EBFA;\n",
              "      box-shadow: 0px 1px 2px rgba(60, 64, 67, 0.3), 0px 1px 3px 1px rgba(60, 64, 67, 0.15);\n",
              "      fill: #174EA6;\n",
              "    }\n",
              "\n",
              "    [theme=dark] .colab-df-convert {\n",
              "      background-color: #3B4455;\n",
              "      fill: #D2E3FC;\n",
              "    }\n",
              "\n",
              "    [theme=dark] .colab-df-convert:hover {\n",
              "      background-color: #434B5C;\n",
              "      box-shadow: 0px 1px 3px 1px rgba(0, 0, 0, 0.15);\n",
              "      filter: drop-shadow(0px 1px 2px rgba(0, 0, 0, 0.3));\n",
              "      fill: #FFFFFF;\n",
              "    }\n",
              "  </style>\n",
              "\n",
              "      <script>\n",
              "        const buttonEl =\n",
              "          document.querySelector('#df-3e20dcc3-b149-4ba1-827f-28e079bbb68a button.colab-df-convert');\n",
              "        buttonEl.style.display =\n",
              "          google.colab.kernel.accessAllowed ? 'block' : 'none';\n",
              "\n",
              "        async function convertToInteractive(key) {\n",
              "          const element = document.querySelector('#df-3e20dcc3-b149-4ba1-827f-28e079bbb68a');\n",
              "          const dataTable =\n",
              "            await google.colab.kernel.invokeFunction('convertToInteractive',\n",
              "                                                     [key], {});\n",
              "          if (!dataTable) return;\n",
              "\n",
              "          const docLinkHtml = 'Like what you see? Visit the ' +\n",
              "            '<a target=\"_blank\" href=https://colab.research.google.com/notebooks/data_table.ipynb>data table notebook</a>'\n",
              "            + ' to learn more about interactive tables.';\n",
              "          element.innerHTML = '';\n",
              "          dataTable['output_type'] = 'display_data';\n",
              "          await google.colab.output.renderOutput(dataTable, element);\n",
              "          const docLink = document.createElement('div');\n",
              "          docLink.innerHTML = docLinkHtml;\n",
              "          element.appendChild(docLink);\n",
              "        }\n",
              "      </script>\n",
              "    </div>\n",
              "  </div>\n",
              "  "
            ]
          },
          "metadata": {},
          "execution_count": 15
        }
      ]
    },
    {
      "cell_type": "code",
      "source": [
        "dataset_dict = {}\n",
        "for sc in price_ta2['SecuritiesCode'].unique():\n",
        "    dataset_dict[str(sc)] = price_ta2[price_ta2['SecuritiesCode'] == sc].values[:, 3:].astype(np.float32)\n",
        "print(dataset_dict['1301'].shape)"
      ],
      "metadata": {
        "id": "rkfa3m_7rR-S",
        "colab": {
          "base_uri": "https://localhost:8080/"
        },
        "outputId": "4a00683a-3121-4432-a40d-b05ee39bcd5e"
      },
      "execution_count": null,
      "outputs": [
        {
          "output_type": "stream",
          "name": "stdout",
          "text": [
            "(888, 14)\n"
          ]
        }
      ]
    },
    {
      "cell_type": "code",
      "source": [
        "from torch.utils.data.sampler import SubsetRandomSampler\n",
        "class MyDataset(torch.utils.data.Dataset):\n",
        "    def __init__(self, X, sequence_num=31, y=None, mode='train'):\n",
        "        self.data = X\n",
        "        self.teacher = y\n",
        "        self.sequence_num = sequence_num\n",
        "        self.mode = mode\n",
        "    def __len__(self):\n",
        "        return len(self.teacher)\n",
        "\n",
        "    def __getitem__(self, idx):\n",
        "        out_data = self.data[idx]\n",
        "        if self.mode == 'train':\n",
        "            out_label =  self.teacher[idx[-1]]\n",
        "            return out_data, out_label\n",
        "        else:\n",
        "            return out_data\n",
        "def create_dataloader(dataset, dataset_num, sequence_num=31, input_size=14, batch_size=32, shuffle=False):\n",
        "    sampler = np.array([list(range(i, i+sequence_num)) for i in range(dataset_num-sequence_num+1)])\n",
        "    if shuffle == True:\n",
        "        np.random.shuffle(sampler)\n",
        "    dataloader = torch.utils.data.DataLoader(dataset, batch_size, sampler=sampler)\n",
        "    return dataloader\n",
        "#### Check operation ####\n",
        "X_check, y_check = dataset_dict['1301'][:, :-1], dataset_dict['1301'][:, -1]\n",
        "dataset_check = MyDataset(X_check, y=y_check, sequence_num=31, mode='train')\n",
        "dataloader_check = create_dataloader(dataset_check, X_check.shape[0], sequence_num=31, input_size=14, batch_size=32, shuffle=False)\n",
        "for b, tup in enumerate(dataloader_check):\n",
        "    print('---------')\n",
        "    print(tup[0].shape, tup[1].shape)\n",
        "    break"
      ],
      "metadata": {
        "id": "muSpcC_irSCa",
        "colab": {
          "base_uri": "https://localhost:8080/"
        },
        "outputId": "8a7f407b-a390-487d-b9e0-e1e0ed682e13"
      },
      "execution_count": null,
      "outputs": [
        {
          "output_type": "stream",
          "name": "stdout",
          "text": [
            "---------\n",
            "torch.Size([32, 31, 13]) torch.Size([32])\n"
          ]
        }
      ]
    },
    {
      "cell_type": "code",
      "source": [
        "from tqdm import tqdm\n",
        "for sc in tqdm(price_ta2['SecuritiesCode'].unique()):\n",
        "    X, y = dataset_dict[str(sc)][:, :-1], dataset_dict[str(sc)][:, -1]"
      ],
      "metadata": {
        "id": "IVvJ6wZmt1sA",
        "colab": {
          "base_uri": "https://localhost:8080/"
        },
        "outputId": "8bc3b8b3-1a98-43d7-820f-f5ba9ee617c8"
      },
      "execution_count": null,
      "outputs": [
        {
          "output_type": "stream",
          "name": "stderr",
          "text": [
            "100%|██████████| 1967/1967 [00:00<00:00, 273076.79it/s]\n"
          ]
        }
      ]
    },
    {
      "cell_type": "code",
      "source": [
        "# training\n",
        "from tqdm import tqdm\n",
        "epochs = 3 # 원래 10\n",
        "batch_size = 512\n",
        "# Check wheter GPU is available\n",
        "device = torch.device('cuda:0' if torch.cuda.is_available() else 'cpu')\n",
        "# Model Instantiation\n",
        "model = LSTM(input_size=13, sequence_num=31, lstm_dim=128, num_layers=2, output_size=1)\n",
        "model.to(device)\n",
        "model.train()\n",
        "# setting optimizer\n",
        "lr = 0.0001\n",
        "weight_decay = 1.0e-05\n",
        "optimizer = torch.optim.Adagrad(model.parameters(), lr=lr, weight_decay=weight_decay)\n",
        "# setting criterion\n",
        "criterion = nn.MSELoss()\n",
        "# set iteration counter\n",
        "iteration = 0\n",
        "# \n",
        "log_train = [[0], [np.inf]]\n",
        "for epoch in range(epochs):\n",
        "    epoch_loss = 0.0\n",
        "    for sc in tqdm(price_ta2['SecuritiesCode'].unique()):\n",
        "        X, y = dataset_dict[str(sc)][:, :-1], dataset_dict[str(sc)][:, -1]\n",
        "        dataset = MyDataset(X, y=y, sequence_num=31, mode='train')\n",
        "        dataloader = create_dataloader(dataset, X.shape[0], sequence_num=31, input_size=13, batch_size=batch_size, shuffle=True)\n",
        "        for data, targets in dataloader:\n",
        "            data, targets = data.to(device), targets.to(device)\n",
        "            \n",
        "            optimizer.zero_grad()\n",
        "            \n",
        "            data = data.to(torch.float32)\n",
        "            output = model.forward(data)\n",
        "            targets = targets.to(torch.float32)\n",
        "            \n",
        "            loss = criterion(output.view(1,-1)[0], targets)\n",
        "            \n",
        "            loss.backward()\n",
        "            \n",
        "            optimizer.step()\n",
        "            \n",
        "            epoch_loss += loss.item()\n",
        "            \n",
        "            iteration += 1\n",
        "    epoch_loss /= iteration\n",
        "    print('epoch_loss={}'.format(epoch_loss))\n",
        "    log_train[0].append(iteration)\n",
        "    log_train[1].append(epoch_loss)"
      ],
      "metadata": {
        "id": "lleKZ6_Ut1xY",
        "colab": {
          "base_uri": "https://localhost:8080/"
        },
        "outputId": "68467b0a-e9be-4411-a79c-440dd1ef2717"
      },
      "execution_count": null,
      "outputs": [
        {
          "output_type": "stream",
          "name": "stderr",
          "text": [
            "100%|██████████| 1967/1967 [01:19<00:00, 24.86it/s] \n"
          ]
        },
        {
          "output_type": "stream",
          "name": "stdout",
          "text": [
            "epoch_loss=17486.440642252564\n"
          ]
        },
        {
          "output_type": "stream",
          "name": "stderr",
          "text": [
            "100%|██████████| 1967/1967 [01:22<00:00, 23.81it/s] \n"
          ]
        },
        {
          "output_type": "stream",
          "name": "stdout",
          "text": [
            "epoch_loss=8722.688540232562\n"
          ]
        },
        {
          "output_type": "stream",
          "name": "stderr",
          "text": [
            "100%|██████████| 1967/1967 [01:23<00:00, 23.55it/s]"
          ]
        },
        {
          "output_type": "stream",
          "name": "stdout",
          "text": [
            "epoch_loss=5809.705757457082\n"
          ]
        },
        {
          "output_type": "stream",
          "name": "stderr",
          "text": [
            "\n"
          ]
        }
      ]
    },
    {
      "cell_type": "code",
      "source": [
        "#import jpx_tokyo_market_prediction\n",
        "# env = jpx_tokyo_market_prediction.make_env()\n",
        "#iter_test = env.iter_test()"
      ],
      "metadata": {
        "id": "UBrnKeYpt12J"
      },
      "execution_count": null,
      "outputs": []
    },
    {
      "cell_type": "code",
      "source": [
        "price_ta2[price_ta2['Date'] == datetime(2021, 12, 3)]"
      ],
      "metadata": {
        "colab": {
          "base_uri": "https://localhost:8080/",
          "height": 941
        },
        "id": "BzyB3D4wNlWy",
        "outputId": "c009c5af-f058-46a4-da35-4b684367a7a7"
      },
      "execution_count": null,
      "outputs": [
        {
          "output_type": "execute_result",
          "data": {
            "text/plain": [
              "                 RowId       Date  SecuritiesCode    Open     High     Low  \\\n",
              "2328113  20211203_1375 2021-12-03            1375  1222.0   1236.0  1218.0   \n",
              "2328407  20211203_4058 2021-12-03            4058  2225.0   2294.0  2220.0   \n",
              "2328700  20211203_2932 2021-12-03            2932  2707.0   2814.0  2701.0   \n",
              "2328993  20211203_4933 2021-12-03            4933  3515.0   3670.0  3435.0   \n",
              "2329282  20211203_7337 2021-12-03            7337   637.0    642.0   634.0   \n",
              "2329859  20211203_2987 2021-12-03            2987  3085.0   3515.0  3030.0   \n",
              "2330146  20211203_7354 2021-12-03            7354  3730.0   3845.0  3690.0   \n",
              "2330416  20211203_4934 2021-12-03            4934  9650.0  10240.0  9650.0   \n",
              "2330653  20211203_6612 2021-12-03            6612  4320.0   4470.0  4310.0   \n",
              "2330890  20211203_7092 2021-12-03            7092  2535.0   2680.0  2535.0   \n",
              "2331127  20211203_7944 2021-12-03            7944  4325.0   4485.0  4305.0   \n",
              "2331363  20211203_4165 2021-12-03            4165  2711.0   2809.0  2680.0   \n",
              "2331598  20211203_4167 2021-12-03            4167  2161.0   2281.0  2148.0   \n",
              "2331832  20211203_7358 2021-12-03            7358  3060.0   3165.0  3060.0   \n",
              "2332065  20211203_4168 2021-12-03            4168  4395.0   4480.0  4285.0   \n",
              "2332298  20211203_7342 2021-12-03            7342  2649.0   2755.0  2600.0   \n",
              "2332530  20211203_4169 2021-12-03            4169  7410.0   7680.0  7150.0   \n",
              "\n",
              "         CloseMean  Volume  AdjustmentFactor  SupervisionFlag  new_target  \\\n",
              "2328113     1235.0   69900               1.0                0    0.032680   \n",
              "2328407     2284.0   28700               1.0                0    0.040650   \n",
              "2328700     2787.0   19800               1.0                0    0.038265   \n",
              "2328993     3665.0   34300               1.0                0    0.028818   \n",
              "2329282      641.0  371600               1.0                0    0.020093   \n",
              "2329859     3460.0  149700               1.0                0   -0.050228   \n",
              "2330146     3845.0   75100               1.0                0    0.047936   \n",
              "2330416    10190.0  326700               1.0                0    0.008920   \n",
              "2330653     4440.0   34100               1.0                0    0.017751   \n",
              "2330890     2659.0   99000               1.0                0    0.086022   \n",
              "2331127     4485.0   72200               1.0                0    0.021940   \n",
              "2331363     2743.0  255200               1.0                0    0.061856   \n",
              "2331598     2281.0   69800               1.0                0    0.055556   \n",
              "2331832     3160.0   19700               1.0                0    0.014151   \n",
              "2332065     4440.0   58700               1.0                0    0.027363   \n",
              "2332298     2748.0  855000               1.0                0    0.005725   \n",
              "2332530     7220.0  316800               1.0                0   -0.036508   \n",
              "\n",
              "         momentum_rsi  trend_macd   trend_kst  trend_ema_fast  volatility_bbm  \\\n",
              "2328113     25.710135  -59.657668 -115.247451     1275.504402         1324.65   \n",
              "2328407     47.374913    8.381939   55.441974     2331.391497         2344.65   \n",
              "2328700     22.324813 -217.438575 -175.217273     2961.010271         3136.10   \n",
              "2328993     35.232272 -263.303121 -145.683483     3835.872919         4124.00   \n",
              "2329282     52.550899   -3.316617  -11.339005      634.157532          640.60   \n",
              "2329859     65.638597  276.850805  568.058309     3224.564515         3100.15   \n",
              "2330146     41.019296 -141.637630  -95.860489     3890.923228         4027.00   \n",
              "2330416     36.523029 -758.398457 -166.630386    10493.586915        11122.00   \n",
              "2330653     29.099060 -317.737213 -158.986200     4792.177719         5104.25   \n",
              "2330890     35.206169 -201.677448 -147.878694     2798.744735         2962.20   \n",
              "2331127     41.189562 -167.255094  -88.566599     4524.788606         4671.00   \n",
              "2331363     46.705703  -67.589385  -48.122866     2746.439844         2828.70   \n",
              "2331598     31.393379 -281.418740 -256.310989     2424.855625         2657.25   \n",
              "2331832     40.275467 -101.038824  -25.653198     3303.726779         3521.25   \n",
              "2332065     47.296159   32.649415  107.055181     4569.104863         4672.75   \n",
              "2332298     37.071597 -112.328401  -30.082199     3010.185234         3129.60   \n",
              "2332530     54.732025  542.977832  494.939409     7380.006790         7134.50   \n",
              "\n",
              "         volatility_atr  \n",
              "2328113       28.362101  \n",
              "2328407      121.536176  \n",
              "2328700      124.878500  \n",
              "2328993      202.812005  \n",
              "2329282       11.041944  \n",
              "2329859      292.404719  \n",
              "2330146      164.416903  \n",
              "2330416      565.336353  \n",
              "2330653      229.065525  \n",
              "2330890      166.635547  \n",
              "2331127      180.585998  \n",
              "2331363      166.353676  \n",
              "2331598      147.344781  \n",
              "2331832      162.644361  \n",
              "2332065      275.287221  \n",
              "2332298      178.682071  \n",
              "2332530      746.522516  "
            ],
            "text/html": [
              "\n",
              "  <div id=\"df-6000c0bb-0d99-44d3-9479-8f19a201e3a1\">\n",
              "    <div class=\"colab-df-container\">\n",
              "      <div>\n",
              "<style scoped>\n",
              "    .dataframe tbody tr th:only-of-type {\n",
              "        vertical-align: middle;\n",
              "    }\n",
              "\n",
              "    .dataframe tbody tr th {\n",
              "        vertical-align: top;\n",
              "    }\n",
              "\n",
              "    .dataframe thead th {\n",
              "        text-align: right;\n",
              "    }\n",
              "</style>\n",
              "<table border=\"1\" class=\"dataframe\">\n",
              "  <thead>\n",
              "    <tr style=\"text-align: right;\">\n",
              "      <th></th>\n",
              "      <th>RowId</th>\n",
              "      <th>Date</th>\n",
              "      <th>SecuritiesCode</th>\n",
              "      <th>Open</th>\n",
              "      <th>High</th>\n",
              "      <th>Low</th>\n",
              "      <th>CloseMean</th>\n",
              "      <th>Volume</th>\n",
              "      <th>AdjustmentFactor</th>\n",
              "      <th>SupervisionFlag</th>\n",
              "      <th>new_target</th>\n",
              "      <th>momentum_rsi</th>\n",
              "      <th>trend_macd</th>\n",
              "      <th>trend_kst</th>\n",
              "      <th>trend_ema_fast</th>\n",
              "      <th>volatility_bbm</th>\n",
              "      <th>volatility_atr</th>\n",
              "    </tr>\n",
              "  </thead>\n",
              "  <tbody>\n",
              "    <tr>\n",
              "      <th>2328113</th>\n",
              "      <td>20211203_1375</td>\n",
              "      <td>2021-12-03</td>\n",
              "      <td>1375</td>\n",
              "      <td>1222.0</td>\n",
              "      <td>1236.0</td>\n",
              "      <td>1218.0</td>\n",
              "      <td>1235.0</td>\n",
              "      <td>69900</td>\n",
              "      <td>1.0</td>\n",
              "      <td>0</td>\n",
              "      <td>0.032680</td>\n",
              "      <td>25.710135</td>\n",
              "      <td>-59.657668</td>\n",
              "      <td>-115.247451</td>\n",
              "      <td>1275.504402</td>\n",
              "      <td>1324.65</td>\n",
              "      <td>28.362101</td>\n",
              "    </tr>\n",
              "    <tr>\n",
              "      <th>2328407</th>\n",
              "      <td>20211203_4058</td>\n",
              "      <td>2021-12-03</td>\n",
              "      <td>4058</td>\n",
              "      <td>2225.0</td>\n",
              "      <td>2294.0</td>\n",
              "      <td>2220.0</td>\n",
              "      <td>2284.0</td>\n",
              "      <td>28700</td>\n",
              "      <td>1.0</td>\n",
              "      <td>0</td>\n",
              "      <td>0.040650</td>\n",
              "      <td>47.374913</td>\n",
              "      <td>8.381939</td>\n",
              "      <td>55.441974</td>\n",
              "      <td>2331.391497</td>\n",
              "      <td>2344.65</td>\n",
              "      <td>121.536176</td>\n",
              "    </tr>\n",
              "    <tr>\n",
              "      <th>2328700</th>\n",
              "      <td>20211203_2932</td>\n",
              "      <td>2021-12-03</td>\n",
              "      <td>2932</td>\n",
              "      <td>2707.0</td>\n",
              "      <td>2814.0</td>\n",
              "      <td>2701.0</td>\n",
              "      <td>2787.0</td>\n",
              "      <td>19800</td>\n",
              "      <td>1.0</td>\n",
              "      <td>0</td>\n",
              "      <td>0.038265</td>\n",
              "      <td>22.324813</td>\n",
              "      <td>-217.438575</td>\n",
              "      <td>-175.217273</td>\n",
              "      <td>2961.010271</td>\n",
              "      <td>3136.10</td>\n",
              "      <td>124.878500</td>\n",
              "    </tr>\n",
              "    <tr>\n",
              "      <th>2328993</th>\n",
              "      <td>20211203_4933</td>\n",
              "      <td>2021-12-03</td>\n",
              "      <td>4933</td>\n",
              "      <td>3515.0</td>\n",
              "      <td>3670.0</td>\n",
              "      <td>3435.0</td>\n",
              "      <td>3665.0</td>\n",
              "      <td>34300</td>\n",
              "      <td>1.0</td>\n",
              "      <td>0</td>\n",
              "      <td>0.028818</td>\n",
              "      <td>35.232272</td>\n",
              "      <td>-263.303121</td>\n",
              "      <td>-145.683483</td>\n",
              "      <td>3835.872919</td>\n",
              "      <td>4124.00</td>\n",
              "      <td>202.812005</td>\n",
              "    </tr>\n",
              "    <tr>\n",
              "      <th>2329282</th>\n",
              "      <td>20211203_7337</td>\n",
              "      <td>2021-12-03</td>\n",
              "      <td>7337</td>\n",
              "      <td>637.0</td>\n",
              "      <td>642.0</td>\n",
              "      <td>634.0</td>\n",
              "      <td>641.0</td>\n",
              "      <td>371600</td>\n",
              "      <td>1.0</td>\n",
              "      <td>0</td>\n",
              "      <td>0.020093</td>\n",
              "      <td>52.550899</td>\n",
              "      <td>-3.316617</td>\n",
              "      <td>-11.339005</td>\n",
              "      <td>634.157532</td>\n",
              "      <td>640.60</td>\n",
              "      <td>11.041944</td>\n",
              "    </tr>\n",
              "    <tr>\n",
              "      <th>2329859</th>\n",
              "      <td>20211203_2987</td>\n",
              "      <td>2021-12-03</td>\n",
              "      <td>2987</td>\n",
              "      <td>3085.0</td>\n",
              "      <td>3515.0</td>\n",
              "      <td>3030.0</td>\n",
              "      <td>3460.0</td>\n",
              "      <td>149700</td>\n",
              "      <td>1.0</td>\n",
              "      <td>0</td>\n",
              "      <td>-0.050228</td>\n",
              "      <td>65.638597</td>\n",
              "      <td>276.850805</td>\n",
              "      <td>568.058309</td>\n",
              "      <td>3224.564515</td>\n",
              "      <td>3100.15</td>\n",
              "      <td>292.404719</td>\n",
              "    </tr>\n",
              "    <tr>\n",
              "      <th>2330146</th>\n",
              "      <td>20211203_7354</td>\n",
              "      <td>2021-12-03</td>\n",
              "      <td>7354</td>\n",
              "      <td>3730.0</td>\n",
              "      <td>3845.0</td>\n",
              "      <td>3690.0</td>\n",
              "      <td>3845.0</td>\n",
              "      <td>75100</td>\n",
              "      <td>1.0</td>\n",
              "      <td>0</td>\n",
              "      <td>0.047936</td>\n",
              "      <td>41.019296</td>\n",
              "      <td>-141.637630</td>\n",
              "      <td>-95.860489</td>\n",
              "      <td>3890.923228</td>\n",
              "      <td>4027.00</td>\n",
              "      <td>164.416903</td>\n",
              "    </tr>\n",
              "    <tr>\n",
              "      <th>2330416</th>\n",
              "      <td>20211203_4934</td>\n",
              "      <td>2021-12-03</td>\n",
              "      <td>4934</td>\n",
              "      <td>9650.0</td>\n",
              "      <td>10240.0</td>\n",
              "      <td>9650.0</td>\n",
              "      <td>10190.0</td>\n",
              "      <td>326700</td>\n",
              "      <td>1.0</td>\n",
              "      <td>0</td>\n",
              "      <td>0.008920</td>\n",
              "      <td>36.523029</td>\n",
              "      <td>-758.398457</td>\n",
              "      <td>-166.630386</td>\n",
              "      <td>10493.586915</td>\n",
              "      <td>11122.00</td>\n",
              "      <td>565.336353</td>\n",
              "    </tr>\n",
              "    <tr>\n",
              "      <th>2330653</th>\n",
              "      <td>20211203_6612</td>\n",
              "      <td>2021-12-03</td>\n",
              "      <td>6612</td>\n",
              "      <td>4320.0</td>\n",
              "      <td>4470.0</td>\n",
              "      <td>4310.0</td>\n",
              "      <td>4440.0</td>\n",
              "      <td>34100</td>\n",
              "      <td>1.0</td>\n",
              "      <td>0</td>\n",
              "      <td>0.017751</td>\n",
              "      <td>29.099060</td>\n",
              "      <td>-317.737213</td>\n",
              "      <td>-158.986200</td>\n",
              "      <td>4792.177719</td>\n",
              "      <td>5104.25</td>\n",
              "      <td>229.065525</td>\n",
              "    </tr>\n",
              "    <tr>\n",
              "      <th>2330890</th>\n",
              "      <td>20211203_7092</td>\n",
              "      <td>2021-12-03</td>\n",
              "      <td>7092</td>\n",
              "      <td>2535.0</td>\n",
              "      <td>2680.0</td>\n",
              "      <td>2535.0</td>\n",
              "      <td>2659.0</td>\n",
              "      <td>99000</td>\n",
              "      <td>1.0</td>\n",
              "      <td>0</td>\n",
              "      <td>0.086022</td>\n",
              "      <td>35.206169</td>\n",
              "      <td>-201.677448</td>\n",
              "      <td>-147.878694</td>\n",
              "      <td>2798.744735</td>\n",
              "      <td>2962.20</td>\n",
              "      <td>166.635547</td>\n",
              "    </tr>\n",
              "    <tr>\n",
              "      <th>2331127</th>\n",
              "      <td>20211203_7944</td>\n",
              "      <td>2021-12-03</td>\n",
              "      <td>7944</td>\n",
              "      <td>4325.0</td>\n",
              "      <td>4485.0</td>\n",
              "      <td>4305.0</td>\n",
              "      <td>4485.0</td>\n",
              "      <td>72200</td>\n",
              "      <td>1.0</td>\n",
              "      <td>0</td>\n",
              "      <td>0.021940</td>\n",
              "      <td>41.189562</td>\n",
              "      <td>-167.255094</td>\n",
              "      <td>-88.566599</td>\n",
              "      <td>4524.788606</td>\n",
              "      <td>4671.00</td>\n",
              "      <td>180.585998</td>\n",
              "    </tr>\n",
              "    <tr>\n",
              "      <th>2331363</th>\n",
              "      <td>20211203_4165</td>\n",
              "      <td>2021-12-03</td>\n",
              "      <td>4165</td>\n",
              "      <td>2711.0</td>\n",
              "      <td>2809.0</td>\n",
              "      <td>2680.0</td>\n",
              "      <td>2743.0</td>\n",
              "      <td>255200</td>\n",
              "      <td>1.0</td>\n",
              "      <td>0</td>\n",
              "      <td>0.061856</td>\n",
              "      <td>46.705703</td>\n",
              "      <td>-67.589385</td>\n",
              "      <td>-48.122866</td>\n",
              "      <td>2746.439844</td>\n",
              "      <td>2828.70</td>\n",
              "      <td>166.353676</td>\n",
              "    </tr>\n",
              "    <tr>\n",
              "      <th>2331598</th>\n",
              "      <td>20211203_4167</td>\n",
              "      <td>2021-12-03</td>\n",
              "      <td>4167</td>\n",
              "      <td>2161.0</td>\n",
              "      <td>2281.0</td>\n",
              "      <td>2148.0</td>\n",
              "      <td>2281.0</td>\n",
              "      <td>69800</td>\n",
              "      <td>1.0</td>\n",
              "      <td>0</td>\n",
              "      <td>0.055556</td>\n",
              "      <td>31.393379</td>\n",
              "      <td>-281.418740</td>\n",
              "      <td>-256.310989</td>\n",
              "      <td>2424.855625</td>\n",
              "      <td>2657.25</td>\n",
              "      <td>147.344781</td>\n",
              "    </tr>\n",
              "    <tr>\n",
              "      <th>2331832</th>\n",
              "      <td>20211203_7358</td>\n",
              "      <td>2021-12-03</td>\n",
              "      <td>7358</td>\n",
              "      <td>3060.0</td>\n",
              "      <td>3165.0</td>\n",
              "      <td>3060.0</td>\n",
              "      <td>3160.0</td>\n",
              "      <td>19700</td>\n",
              "      <td>1.0</td>\n",
              "      <td>0</td>\n",
              "      <td>0.014151</td>\n",
              "      <td>40.275467</td>\n",
              "      <td>-101.038824</td>\n",
              "      <td>-25.653198</td>\n",
              "      <td>3303.726779</td>\n",
              "      <td>3521.25</td>\n",
              "      <td>162.644361</td>\n",
              "    </tr>\n",
              "    <tr>\n",
              "      <th>2332065</th>\n",
              "      <td>20211203_4168</td>\n",
              "      <td>2021-12-03</td>\n",
              "      <td>4168</td>\n",
              "      <td>4395.0</td>\n",
              "      <td>4480.0</td>\n",
              "      <td>4285.0</td>\n",
              "      <td>4440.0</td>\n",
              "      <td>58700</td>\n",
              "      <td>1.0</td>\n",
              "      <td>0</td>\n",
              "      <td>0.027363</td>\n",
              "      <td>47.296159</td>\n",
              "      <td>32.649415</td>\n",
              "      <td>107.055181</td>\n",
              "      <td>4569.104863</td>\n",
              "      <td>4672.75</td>\n",
              "      <td>275.287221</td>\n",
              "    </tr>\n",
              "    <tr>\n",
              "      <th>2332298</th>\n",
              "      <td>20211203_7342</td>\n",
              "      <td>2021-12-03</td>\n",
              "      <td>7342</td>\n",
              "      <td>2649.0</td>\n",
              "      <td>2755.0</td>\n",
              "      <td>2600.0</td>\n",
              "      <td>2748.0</td>\n",
              "      <td>855000</td>\n",
              "      <td>1.0</td>\n",
              "      <td>0</td>\n",
              "      <td>0.005725</td>\n",
              "      <td>37.071597</td>\n",
              "      <td>-112.328401</td>\n",
              "      <td>-30.082199</td>\n",
              "      <td>3010.185234</td>\n",
              "      <td>3129.60</td>\n",
              "      <td>178.682071</td>\n",
              "    </tr>\n",
              "    <tr>\n",
              "      <th>2332530</th>\n",
              "      <td>20211203_4169</td>\n",
              "      <td>2021-12-03</td>\n",
              "      <td>4169</td>\n",
              "      <td>7410.0</td>\n",
              "      <td>7680.0</td>\n",
              "      <td>7150.0</td>\n",
              "      <td>7220.0</td>\n",
              "      <td>316800</td>\n",
              "      <td>1.0</td>\n",
              "      <td>0</td>\n",
              "      <td>-0.036508</td>\n",
              "      <td>54.732025</td>\n",
              "      <td>542.977832</td>\n",
              "      <td>494.939409</td>\n",
              "      <td>7380.006790</td>\n",
              "      <td>7134.50</td>\n",
              "      <td>746.522516</td>\n",
              "    </tr>\n",
              "  </tbody>\n",
              "</table>\n",
              "</div>\n",
              "      <button class=\"colab-df-convert\" onclick=\"convertToInteractive('df-6000c0bb-0d99-44d3-9479-8f19a201e3a1')\"\n",
              "              title=\"Convert this dataframe to an interactive table.\"\n",
              "              style=\"display:none;\">\n",
              "        \n",
              "  <svg xmlns=\"http://www.w3.org/2000/svg\" height=\"24px\"viewBox=\"0 0 24 24\"\n",
              "       width=\"24px\">\n",
              "    <path d=\"M0 0h24v24H0V0z\" fill=\"none\"/>\n",
              "    <path d=\"M18.56 5.44l.94 2.06.94-2.06 2.06-.94-2.06-.94-.94-2.06-.94 2.06-2.06.94zm-11 1L8.5 8.5l.94-2.06 2.06-.94-2.06-.94L8.5 2.5l-.94 2.06-2.06.94zm10 10l.94 2.06.94-2.06 2.06-.94-2.06-.94-.94-2.06-.94 2.06-2.06.94z\"/><path d=\"M17.41 7.96l-1.37-1.37c-.4-.4-.92-.59-1.43-.59-.52 0-1.04.2-1.43.59L10.3 9.45l-7.72 7.72c-.78.78-.78 2.05 0 2.83L4 21.41c.39.39.9.59 1.41.59.51 0 1.02-.2 1.41-.59l7.78-7.78 2.81-2.81c.8-.78.8-2.07 0-2.86zM5.41 20L4 18.59l7.72-7.72 1.47 1.35L5.41 20z\"/>\n",
              "  </svg>\n",
              "      </button>\n",
              "      \n",
              "  <style>\n",
              "    .colab-df-container {\n",
              "      display:flex;\n",
              "      flex-wrap:wrap;\n",
              "      gap: 12px;\n",
              "    }\n",
              "\n",
              "    .colab-df-convert {\n",
              "      background-color: #E8F0FE;\n",
              "      border: none;\n",
              "      border-radius: 50%;\n",
              "      cursor: pointer;\n",
              "      display: none;\n",
              "      fill: #1967D2;\n",
              "      height: 32px;\n",
              "      padding: 0 0 0 0;\n",
              "      width: 32px;\n",
              "    }\n",
              "\n",
              "    .colab-df-convert:hover {\n",
              "      background-color: #E2EBFA;\n",
              "      box-shadow: 0px 1px 2px rgba(60, 64, 67, 0.3), 0px 1px 3px 1px rgba(60, 64, 67, 0.15);\n",
              "      fill: #174EA6;\n",
              "    }\n",
              "\n",
              "    [theme=dark] .colab-df-convert {\n",
              "      background-color: #3B4455;\n",
              "      fill: #D2E3FC;\n",
              "    }\n",
              "\n",
              "    [theme=dark] .colab-df-convert:hover {\n",
              "      background-color: #434B5C;\n",
              "      box-shadow: 0px 1px 3px 1px rgba(0, 0, 0, 0.15);\n",
              "      filter: drop-shadow(0px 1px 2px rgba(0, 0, 0, 0.3));\n",
              "      fill: #FFFFFF;\n",
              "    }\n",
              "  </style>\n",
              "\n",
              "      <script>\n",
              "        const buttonEl =\n",
              "          document.querySelector('#df-6000c0bb-0d99-44d3-9479-8f19a201e3a1 button.colab-df-convert');\n",
              "        buttonEl.style.display =\n",
              "          google.colab.kernel.accessAllowed ? 'block' : 'none';\n",
              "\n",
              "        async function convertToInteractive(key) {\n",
              "          const element = document.querySelector('#df-6000c0bb-0d99-44d3-9479-8f19a201e3a1');\n",
              "          const dataTable =\n",
              "            await google.colab.kernel.invokeFunction('convertToInteractive',\n",
              "                                                     [key], {});\n",
              "          if (!dataTable) return;\n",
              "\n",
              "          const docLinkHtml = 'Like what you see? Visit the ' +\n",
              "            '<a target=\"_blank\" href=https://colab.research.google.com/notebooks/data_table.ipynb>data table notebook</a>'\n",
              "            + ' to learn more about interactive tables.';\n",
              "          element.innerHTML = '';\n",
              "          dataTable['output_type'] = 'display_data';\n",
              "          await google.colab.output.renderOutput(dataTable, element);\n",
              "          const docLink = document.createElement('div');\n",
              "          docLink.innerHTML = docLinkHtml;\n",
              "          element.appendChild(docLink);\n",
              "        }\n",
              "      </script>\n",
              "    </div>\n",
              "  </div>\n",
              "  "
            ]
          },
          "metadata": {},
          "execution_count": 28
        }
      ]
    },
    {
      "cell_type": "code",
      "source": [
        "# prediction\n",
        "from datetime import datetime\n",
        "def predict(model, X_df, sequence=31):\n",
        "    pred_df = X_df[['Date', 'SecuritiesCode']]\n",
        "\n",
        "\n",
        "        \n",
        "    # Grouping by `groupby` and retrieving one by one\n",
        "    code_group = X_df.groupby('SecuritiesCode')\n",
        "    X_all = np.array([])\n",
        "    for sc, group in code_group:\n",
        "        # Standardize target data\n",
        "        #group_std = stdsc.transform(group[columns])\n",
        "        # Calling up past data of the target data\n",
        "        X = dataset_dict[str(sc)][-1*(sequence-1):, :-1]\n",
        "        # concat\n",
        "        #X = np.vstack((X, group_std))\n",
        "        X_all = np.append(X_all, X)\n",
        "    X_all = X_all.reshape(-1, sequence, X.shape[1])\n",
        "    y_pred = np.array([])\n",
        "    for it in range(X_all.shape[0]//512+1):\n",
        "        data = X_all[it*512:(it+1)*512]\n",
        "        data = torch.from_numpy(data.astype(np.float32)).clone()\n",
        "        data = data.to(torch.float32)\n",
        "        data = data.to(device)\n",
        "        output = model.forward(data)\n",
        "        output = output.view(1, -1)\n",
        "        output = output.to('cpu').detach().numpy().copy()\n",
        "        y_pred = np.append(y_pred, output[0])\n",
        "    pred_df['target'] = y_pred\n",
        "    pred_df['Rank'] = pred_df[\"target\"].rank(ascending=False,method=\"first\") -1\n",
        "    pred_df['Rank'] = pred_df['Rank'].astype(int)\n",
        "    pred_df = pred_df.drop('target', axis=1)\n",
        "    return pred_df\n",
        "test_X_df = price_ta2[price_ta2['Date'] == datetime(2021, 12, 3)].drop('new_target', axis=1) # 2021년 12월 3일 target값 예측\n",
        "y_pred = predict(model, test_X_df)\n",
        "print(y_pred.shape)\n",
        "print(y_pred)"
      ],
      "metadata": {
        "id": "Sm8s4ffAt16i",
        "colab": {
          "base_uri": "https://localhost:8080/",
          "height": 376
        },
        "outputId": "4cf34fc7-0495-412c-90b4-703e9bbeca68"
      },
      "execution_count": null,
      "outputs": [
        {
          "output_type": "error",
          "ename": "ValueError",
          "evalue": "ignored",
          "traceback": [
            "\u001b[0;31m---------------------------------------------------------------------------\u001b[0m",
            "\u001b[0;31mValueError\u001b[0m                                Traceback (most recent call last)",
            "\u001b[0;32m<ipython-input-24-e29a93356848>\u001b[0m in \u001b[0;36m<module>\u001b[0;34m()\u001b[0m\n\u001b[1;32m     34\u001b[0m     \u001b[0;32mreturn\u001b[0m \u001b[0mpred_df\u001b[0m\u001b[0;34m\u001b[0m\u001b[0;34m\u001b[0m\u001b[0m\n\u001b[1;32m     35\u001b[0m \u001b[0mtest_X_df\u001b[0m \u001b[0;34m=\u001b[0m \u001b[0mprice_ta2\u001b[0m\u001b[0;34m[\u001b[0m\u001b[0mprice_ta2\u001b[0m\u001b[0;34m[\u001b[0m\u001b[0;34m'Date'\u001b[0m\u001b[0;34m]\u001b[0m \u001b[0;34m==\u001b[0m \u001b[0mdatetime\u001b[0m\u001b[0;34m(\u001b[0m\u001b[0;36m2021\u001b[0m\u001b[0;34m,\u001b[0m \u001b[0;36m12\u001b[0m\u001b[0;34m,\u001b[0m \u001b[0;36m3\u001b[0m\u001b[0;34m)\u001b[0m\u001b[0;34m]\u001b[0m\u001b[0;34m.\u001b[0m\u001b[0mdrop\u001b[0m\u001b[0;34m(\u001b[0m\u001b[0;34m'new_target'\u001b[0m\u001b[0;34m,\u001b[0m \u001b[0maxis\u001b[0m\u001b[0;34m=\u001b[0m\u001b[0;36m1\u001b[0m\u001b[0;34m)\u001b[0m \u001b[0;31m# 2021년 12월 3일 target값 예측\u001b[0m\u001b[0;34m\u001b[0m\u001b[0;34m\u001b[0m\u001b[0m\n\u001b[0;32m---> 36\u001b[0;31m \u001b[0my_pred\u001b[0m \u001b[0;34m=\u001b[0m \u001b[0mpredict\u001b[0m\u001b[0;34m(\u001b[0m\u001b[0mmodel\u001b[0m\u001b[0;34m,\u001b[0m \u001b[0mtest_X_df\u001b[0m\u001b[0;34m)\u001b[0m\u001b[0;34m\u001b[0m\u001b[0;34m\u001b[0m\u001b[0m\n\u001b[0m\u001b[1;32m     37\u001b[0m \u001b[0mprint\u001b[0m\u001b[0;34m(\u001b[0m\u001b[0my_pred\u001b[0m\u001b[0;34m.\u001b[0m\u001b[0mshape\u001b[0m\u001b[0;34m)\u001b[0m\u001b[0;34m\u001b[0m\u001b[0;34m\u001b[0m\u001b[0m\n\u001b[1;32m     38\u001b[0m \u001b[0mprint\u001b[0m\u001b[0;34m(\u001b[0m\u001b[0my_pred\u001b[0m\u001b[0;34m)\u001b[0m\u001b[0;34m\u001b[0m\u001b[0;34m\u001b[0m\u001b[0m\n",
            "\u001b[0;32m<ipython-input-24-e29a93356848>\u001b[0m in \u001b[0;36mpredict\u001b[0;34m(model, X_df, sequence)\u001b[0m\n\u001b[1;32m     17\u001b[0m         \u001b[0;31m#X = np.vstack((X, group_std))\u001b[0m\u001b[0;34m\u001b[0m\u001b[0;34m\u001b[0m\u001b[0;34m\u001b[0m\u001b[0m\n\u001b[1;32m     18\u001b[0m         \u001b[0mX_all\u001b[0m \u001b[0;34m=\u001b[0m \u001b[0mnp\u001b[0m\u001b[0;34m.\u001b[0m\u001b[0mappend\u001b[0m\u001b[0;34m(\u001b[0m\u001b[0mX_all\u001b[0m\u001b[0;34m,\u001b[0m \u001b[0mX\u001b[0m\u001b[0;34m)\u001b[0m\u001b[0;34m\u001b[0m\u001b[0;34m\u001b[0m\u001b[0m\n\u001b[0;32m---> 19\u001b[0;31m     \u001b[0mX_all\u001b[0m \u001b[0;34m=\u001b[0m \u001b[0mX_all\u001b[0m\u001b[0;34m.\u001b[0m\u001b[0mreshape\u001b[0m\u001b[0;34m(\u001b[0m\u001b[0;34m-\u001b[0m\u001b[0;36m1\u001b[0m\u001b[0;34m,\u001b[0m \u001b[0msequence\u001b[0m\u001b[0;34m,\u001b[0m \u001b[0mX\u001b[0m\u001b[0;34m.\u001b[0m\u001b[0mshape\u001b[0m\u001b[0;34m[\u001b[0m\u001b[0;36m1\u001b[0m\u001b[0;34m]\u001b[0m\u001b[0;34m)\u001b[0m\u001b[0;34m\u001b[0m\u001b[0;34m\u001b[0m\u001b[0m\n\u001b[0m\u001b[1;32m     20\u001b[0m     \u001b[0my_pred\u001b[0m \u001b[0;34m=\u001b[0m \u001b[0mnp\u001b[0m\u001b[0;34m.\u001b[0m\u001b[0marray\u001b[0m\u001b[0;34m(\u001b[0m\u001b[0;34m[\u001b[0m\u001b[0;34m]\u001b[0m\u001b[0;34m)\u001b[0m\u001b[0;34m\u001b[0m\u001b[0;34m\u001b[0m\u001b[0m\n\u001b[1;32m     21\u001b[0m     \u001b[0;32mfor\u001b[0m \u001b[0mit\u001b[0m \u001b[0;32min\u001b[0m \u001b[0mrange\u001b[0m\u001b[0;34m(\u001b[0m\u001b[0mX_all\u001b[0m\u001b[0;34m.\u001b[0m\u001b[0mshape\u001b[0m\u001b[0;34m[\u001b[0m\u001b[0;36m0\u001b[0m\u001b[0;34m]\u001b[0m\u001b[0;34m//\u001b[0m\u001b[0;36m512\u001b[0m\u001b[0;34m+\u001b[0m\u001b[0;36m1\u001b[0m\u001b[0;34m)\u001b[0m\u001b[0;34m:\u001b[0m\u001b[0;34m\u001b[0m\u001b[0;34m\u001b[0m\u001b[0m\n",
            "\u001b[0;31mValueError\u001b[0m: cannot reshape array of size 6630 into shape (31,13)"
          ]
        }
      ]
    },
    {
      "cell_type": "code",
      "source": [
        "count = 0\n",
        "for (prices, options, financials, trades, secondary_prices, sample_prediction) in iter_test:\n",
        "    prices = prices.fillna(0)\n",
        "    prices['SupervisionFlag'] = prices['SupervisionFlag'].map({True: 1, False: 0})\n",
        "    prices['Date'] = pd.to_datetime(prices['Date'])\n",
        "    pred_df = predict(model, prices)\n",
        "    print(pred_df)\n",
        "    env.predict(pred_df)\n",
        "    count += 1"
      ],
      "metadata": {
        "id": "UFTTVg1at1-u"
      },
      "execution_count": null,
      "outputs": []
    },
    {
      "cell_type": "code",
      "source": [
        ""
      ],
      "metadata": {
        "id": "DiZ6wkSV35JC"
      },
      "execution_count": null,
      "outputs": []
    }
  ]
}